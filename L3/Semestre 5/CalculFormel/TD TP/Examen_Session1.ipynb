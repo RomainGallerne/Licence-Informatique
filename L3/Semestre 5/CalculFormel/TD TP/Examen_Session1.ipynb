{
 "cells": [
  {
   "cell_type": "code",
   "execution_count": null,
   "id": "ecd30bcc",
   "metadata": {},
   "outputs": [],
   "source": []
  },
  {
   "cell_type": "code",
   "execution_count": null,
   "id": "429569f6",
   "metadata": {},
   "outputs": [],
   "source": [
    "#NOM : Gallerne\n",
    "#Prénom: Romain \n",
    "#Numéro étudiant: 22010416"
   ]
  },
  {
   "cell_type": "markdown",
   "id": "a8b52a3c",
   "metadata": {
    "deletable": false,
    "editable": false
   },
   "source": [
    "# Retours sur vos connaissances\n",
    "\n",
    "Toutes les fonctions que vous devrez utiliser dans cette partie ont déjà été vues et utilisées dans vos TPs."
   ]
  },
  {
   "cell_type": "markdown",
   "id": "5de9f5e3",
   "metadata": {
    "deletable": false,
    "editable": false
   },
   "source": [
    "## Interpolation de fonctions polynômiales\n",
    "On se donne une liste de points rationnel dans le plan :\n",
    "E= [(-10, 3/4),\n",
    "  (-5, -14/3),\n",
    "  (-5/2, 15),\n",
    "  (1, -20),\n",
    "  (2, -10),\n",
    "  (-8, -15881/280),\n",
    "  (-4, 94441/9240),\n",
    "  (0, -213065/16632)]\n",
    "  "
   ]
  },
  {
   "cell_type": "code",
   "execution_count": 193,
   "id": "03cb094f",
   "metadata": {
    "deletable": false,
    "editable": false
   },
   "outputs": [],
   "source": [
    "E= [(-10, 3/4), (-5, -14/3), (-5/2, 15), (-1,2033/3850), (1, -20), (2, -10), (-8, -15881/280), (-4, 94441/9240), (0, -213065/16632)]"
   ]
  },
  {
   "cell_type": "markdown",
   "id": "878b1c14",
   "metadata": {
    "deletable": false,
    "editable": false
   },
   "source": [
    "1. Utiliser la fonction sage adéquate pour calculer une approximation numérique d'un polynôme à coefficient réel de degrès 3  qui passe au plus proche des points de E. **Aide:** on n'utilise pas l'algèbre linéaire.  Vous stockerez le polynôme résultat dans la fonction symbolique `P1(x)=...`\n",
    "\n",
    "\n",
    "2. Faite le même calcul mais en cherchant un polynôme de degrès 6. Vous stockerez le polynôme résultat dans la fonction symbolique `P2(x)=...` \n",
    "\n",
    "\n",
    "3. Afficher vos polynômes `P1(x)`, `P2(x)` ainsi que que tous les points de E sur un graphique pour visualiser les résultats. Vous devrez choisir des couleurs différentes pour `P1`, `P2` et les points de `E`. Vos résultats doivent être entièrement visibles sur le graphique.\n",
    "\n",
    "\n",
    "4. Cette fois-ci, on cherche un polynôme à coefficient rationnel de plus petit degrès qui passe par tous les points de E. Votre méthode doit forcemment passer par du calcul exact et de l'algèbre linéaire. Vous écrirez ce polynôme dans la fonction symbolique `P3(x)=...` \n",
    "\n",
    "\n",
    "5. Justifier par du calcul ou par un raisonnement que votre `P3(x)` a bien le dégrès le plus petit possible.\n",
    "\n",
    "\n",
    "6. Donner une explication sur le fait que l'affichage sur un graphique des fonctions polynomiales `P2(x)` et `P3(x)` produise le même résultat alors que leur degré est différent. Votre conclusion sera donnée sous la forme d'un commentaire et devra forcemment être illustrée par un calcul."
   ]
  },
  {
   "cell_type": "code",
   "execution_count": 192,
   "id": "a3d3b6e8",
   "metadata": {
    "deletable": false,
    "editable": false
   },
   "outputs": [],
   "source": [
    "# NE PAS MODIFIER\n",
    "q111=0\n",
    "q112=0\n",
    "q113=0\n",
    "q114=0"
   ]
  },
  {
   "cell_type": "code",
   "execution_count": 197,
   "id": "b409ea6d",
   "metadata": {},
   "outputs": [
    {
     "ename": "TypeError",
     "evalue": "'sage.rings.integer.Integer' object is not subscriptable",
     "output_type": "error",
     "traceback": [
      "\u001b[0;31m---------------------------------------------------------------------------\u001b[0m",
      "\u001b[0;31mTypeError\u001b[0m                                 Traceback (most recent call last)",
      "\u001b[0;32m/tmp/ipykernel_6803/1767263058.py\u001b[0m in \u001b[0;36m<module>\u001b[0;34m\u001b[0m\n\u001b[1;32m      3\u001b[0m \u001b[0mvar\u001b[0m\u001b[0;34m(\u001b[0m\u001b[0;34m'x'\u001b[0m\u001b[0;34m)\u001b[0m\u001b[0;34m\u001b[0m\u001b[0;34m\u001b[0m\u001b[0m\n\u001b[1;32m      4\u001b[0m \u001b[0mA\u001b[0m \u001b[0;34m=\u001b[0m \u001b[0mmatrix\u001b[0m\u001b[0;34m(\u001b[0m\u001b[0mlen\u001b[0m\u001b[0;34m(\u001b[0m\u001b[0mE\u001b[0m\u001b[0;34m)\u001b[0m\u001b[0;34m,\u001b[0m\u001b[0mInteger\u001b[0m\u001b[0;34m(\u001b[0m\u001b[0;36m4\u001b[0m\u001b[0;34m)\u001b[0m\u001b[0;34m,\u001b[0m\u001b[0;34m[\u001b[0m\u001b[0;34m(\u001b[0m\u001b[0mp\u001b[0m\u001b[0;34m[\u001b[0m\u001b[0mInteger\u001b[0m\u001b[0;34m(\u001b[0m\u001b[0;36m0\u001b[0m\u001b[0;34m)\u001b[0m\u001b[0;34m]\u001b[0m\u001b[0;34m**\u001b[0m\u001b[0mInteger\u001b[0m\u001b[0;34m(\u001b[0m\u001b[0;36m3\u001b[0m\u001b[0;34m)\u001b[0m\u001b[0;34m,\u001b[0m\u001b[0mp\u001b[0m\u001b[0;34m[\u001b[0m\u001b[0mInteger\u001b[0m\u001b[0;34m(\u001b[0m\u001b[0;36m0\u001b[0m\u001b[0;34m)\u001b[0m\u001b[0;34m]\u001b[0m\u001b[0;34m**\u001b[0m\u001b[0mInteger\u001b[0m\u001b[0;34m(\u001b[0m\u001b[0;36m2\u001b[0m\u001b[0;34m)\u001b[0m\u001b[0;34m,\u001b[0m\u001b[0mp\u001b[0m\u001b[0;34m[\u001b[0m\u001b[0mInteger\u001b[0m\u001b[0;34m(\u001b[0m\u001b[0;36m0\u001b[0m\u001b[0;34m)\u001b[0m\u001b[0;34m]\u001b[0m\u001b[0;34m,\u001b[0m\u001b[0mInteger\u001b[0m\u001b[0;34m(\u001b[0m\u001b[0;36m1\u001b[0m\u001b[0;34m)\u001b[0m\u001b[0;34m)\u001b[0m \u001b[0;32mfor\u001b[0m \u001b[0mp\u001b[0m \u001b[0;32min\u001b[0m \u001b[0mE\u001b[0m\u001b[0;34m]\u001b[0m\u001b[0;34m)\u001b[0m\u001b[0;34m\u001b[0m\u001b[0;34m\u001b[0m\u001b[0m\n\u001b[0;32m----> 5\u001b[0;31m \u001b[0mAt\u001b[0m \u001b[0;34m=\u001b[0m \u001b[0mmatrix\u001b[0m\u001b[0;34m(\u001b[0m\u001b[0mInteger\u001b[0m\u001b[0;34m(\u001b[0m\u001b[0;36m4\u001b[0m\u001b[0;34m)\u001b[0m\u001b[0;34m,\u001b[0m\u001b[0mlen\u001b[0m\u001b[0;34m(\u001b[0m\u001b[0mE\u001b[0m\u001b[0;34m)\u001b[0m\u001b[0;34m,\u001b[0m\u001b[0;34m[\u001b[0m\u001b[0;34m[\u001b[0m\u001b[0mp\u001b[0m\u001b[0;34m[\u001b[0m\u001b[0mInteger\u001b[0m\u001b[0;34m(\u001b[0m\u001b[0;36m0\u001b[0m\u001b[0;34m)\u001b[0m\u001b[0;34m]\u001b[0m\u001b[0;34m**\u001b[0m\u001b[0mInteger\u001b[0m\u001b[0;34m(\u001b[0m\u001b[0;36m3\u001b[0m\u001b[0;34m)\u001b[0m \u001b[0;32mfor\u001b[0m \u001b[0mp\u001b[0m \u001b[0;32min\u001b[0m \u001b[0mP\u001b[0m\u001b[0;34m]\u001b[0m\u001b[0;34m,\u001b[0m\u001b[0;34m[\u001b[0m\u001b[0mp\u001b[0m\u001b[0;34m[\u001b[0m\u001b[0mInteger\u001b[0m\u001b[0;34m(\u001b[0m\u001b[0;36m0\u001b[0m\u001b[0;34m)\u001b[0m\u001b[0;34m]\u001b[0m\u001b[0;34m**\u001b[0m\u001b[0mInteger\u001b[0m\u001b[0;34m(\u001b[0m\u001b[0;36m2\u001b[0m\u001b[0;34m)\u001b[0m \u001b[0;32mfor\u001b[0m \u001b[0mp\u001b[0m \u001b[0;32min\u001b[0m \u001b[0mE\u001b[0m\u001b[0;34m]\u001b[0m\u001b[0;34m,\u001b[0m\u001b[0;34m[\u001b[0m\u001b[0mp\u001b[0m\u001b[0;34m[\u001b[0m\u001b[0mInteger\u001b[0m\u001b[0;34m(\u001b[0m\u001b[0;36m0\u001b[0m\u001b[0;34m)\u001b[0m\u001b[0;34m]\u001b[0m\u001b[0;32mfor\u001b[0m \u001b[0mp\u001b[0m \u001b[0;32min\u001b[0m \u001b[0mE\u001b[0m\u001b[0;34m]\u001b[0m\u001b[0;34m,\u001b[0m\u001b[0;34m[\u001b[0m\u001b[0mInteger\u001b[0m\u001b[0;34m(\u001b[0m\u001b[0;36m1\u001b[0m\u001b[0;34m)\u001b[0m\u001b[0;34m,\u001b[0m\u001b[0mInteger\u001b[0m\u001b[0;34m(\u001b[0m\u001b[0;36m1\u001b[0m\u001b[0;34m)\u001b[0m\u001b[0;34m,\u001b[0m\u001b[0mInteger\u001b[0m\u001b[0;34m(\u001b[0m\u001b[0;36m1\u001b[0m\u001b[0;34m)\u001b[0m\u001b[0;34m,\u001b[0m\u001b[0mInteger\u001b[0m\u001b[0;34m(\u001b[0m\u001b[0;36m1\u001b[0m\u001b[0;34m)\u001b[0m\u001b[0;34m,\u001b[0m\u001b[0mInteger\u001b[0m\u001b[0;34m(\u001b[0m\u001b[0;36m1\u001b[0m\u001b[0;34m)\u001b[0m\u001b[0;34m,\u001b[0m\u001b[0mInteger\u001b[0m\u001b[0;34m(\u001b[0m\u001b[0;36m1\u001b[0m\u001b[0;34m)\u001b[0m\u001b[0;34m,\u001b[0m\u001b[0mInteger\u001b[0m\u001b[0;34m(\u001b[0m\u001b[0;36m1\u001b[0m\u001b[0;34m)\u001b[0m\u001b[0;34m,\u001b[0m\u001b[0mInteger\u001b[0m\u001b[0;34m(\u001b[0m\u001b[0;36m1\u001b[0m\u001b[0;34m)\u001b[0m\u001b[0;34m]\u001b[0m\u001b[0;34m]\u001b[0m\u001b[0;34m)\u001b[0m\u001b[0;34m\u001b[0m\u001b[0;34m\u001b[0m\u001b[0m\n\u001b[0m\u001b[1;32m      6\u001b[0m \u001b[0mY\u001b[0m \u001b[0;34m=\u001b[0m \u001b[0mmatrix\u001b[0m\u001b[0;34m(\u001b[0m\u001b[0mlen\u001b[0m\u001b[0;34m(\u001b[0m\u001b[0mE\u001b[0m\u001b[0;34m)\u001b[0m\u001b[0;34m,\u001b[0m\u001b[0mInteger\u001b[0m\u001b[0;34m(\u001b[0m\u001b[0;36m1\u001b[0m\u001b[0;34m)\u001b[0m\u001b[0;34m,\u001b[0m\u001b[0;34m[\u001b[0m\u001b[0mp\u001b[0m\u001b[0;34m[\u001b[0m\u001b[0mInteger\u001b[0m\u001b[0;34m(\u001b[0m\u001b[0;36m1\u001b[0m\u001b[0;34m)\u001b[0m\u001b[0;34m]\u001b[0m \u001b[0;32mfor\u001b[0m \u001b[0mp\u001b[0m \u001b[0;32min\u001b[0m \u001b[0mE\u001b[0m\u001b[0;34m]\u001b[0m\u001b[0;34m)\u001b[0m\u001b[0;34m\u001b[0m\u001b[0;34m\u001b[0m\u001b[0m\n\u001b[1;32m      7\u001b[0m \u001b[0mH\u001b[0m \u001b[0;34m=\u001b[0m \u001b[0mAt\u001b[0m\u001b[0;34m*\u001b[0m\u001b[0mA\u001b[0m\u001b[0;34m\u001b[0m\u001b[0;34m\u001b[0m\u001b[0m\n",
      "\u001b[0;32m/tmp/ipykernel_6803/1767263058.py\u001b[0m in \u001b[0;36m<listcomp>\u001b[0;34m(.0)\u001b[0m\n\u001b[1;32m      3\u001b[0m \u001b[0mvar\u001b[0m\u001b[0;34m(\u001b[0m\u001b[0;34m'x'\u001b[0m\u001b[0;34m)\u001b[0m\u001b[0;34m\u001b[0m\u001b[0;34m\u001b[0m\u001b[0m\n\u001b[1;32m      4\u001b[0m \u001b[0mA\u001b[0m \u001b[0;34m=\u001b[0m \u001b[0mmatrix\u001b[0m\u001b[0;34m(\u001b[0m\u001b[0mlen\u001b[0m\u001b[0;34m(\u001b[0m\u001b[0mE\u001b[0m\u001b[0;34m)\u001b[0m\u001b[0;34m,\u001b[0m\u001b[0mInteger\u001b[0m\u001b[0;34m(\u001b[0m\u001b[0;36m4\u001b[0m\u001b[0;34m)\u001b[0m\u001b[0;34m,\u001b[0m\u001b[0;34m[\u001b[0m\u001b[0;34m(\u001b[0m\u001b[0mp\u001b[0m\u001b[0;34m[\u001b[0m\u001b[0mInteger\u001b[0m\u001b[0;34m(\u001b[0m\u001b[0;36m0\u001b[0m\u001b[0;34m)\u001b[0m\u001b[0;34m]\u001b[0m\u001b[0;34m**\u001b[0m\u001b[0mInteger\u001b[0m\u001b[0;34m(\u001b[0m\u001b[0;36m3\u001b[0m\u001b[0;34m)\u001b[0m\u001b[0;34m,\u001b[0m\u001b[0mp\u001b[0m\u001b[0;34m[\u001b[0m\u001b[0mInteger\u001b[0m\u001b[0;34m(\u001b[0m\u001b[0;36m0\u001b[0m\u001b[0;34m)\u001b[0m\u001b[0;34m]\u001b[0m\u001b[0;34m**\u001b[0m\u001b[0mInteger\u001b[0m\u001b[0;34m(\u001b[0m\u001b[0;36m2\u001b[0m\u001b[0;34m)\u001b[0m\u001b[0;34m,\u001b[0m\u001b[0mp\u001b[0m\u001b[0;34m[\u001b[0m\u001b[0mInteger\u001b[0m\u001b[0;34m(\u001b[0m\u001b[0;36m0\u001b[0m\u001b[0;34m)\u001b[0m\u001b[0;34m]\u001b[0m\u001b[0;34m,\u001b[0m\u001b[0mInteger\u001b[0m\u001b[0;34m(\u001b[0m\u001b[0;36m1\u001b[0m\u001b[0;34m)\u001b[0m\u001b[0;34m)\u001b[0m \u001b[0;32mfor\u001b[0m \u001b[0mp\u001b[0m \u001b[0;32min\u001b[0m \u001b[0mE\u001b[0m\u001b[0;34m]\u001b[0m\u001b[0;34m)\u001b[0m\u001b[0;34m\u001b[0m\u001b[0;34m\u001b[0m\u001b[0m\n\u001b[0;32m----> 5\u001b[0;31m \u001b[0mAt\u001b[0m \u001b[0;34m=\u001b[0m \u001b[0mmatrix\u001b[0m\u001b[0;34m(\u001b[0m\u001b[0mInteger\u001b[0m\u001b[0;34m(\u001b[0m\u001b[0;36m4\u001b[0m\u001b[0;34m)\u001b[0m\u001b[0;34m,\u001b[0m\u001b[0mlen\u001b[0m\u001b[0;34m(\u001b[0m\u001b[0mE\u001b[0m\u001b[0;34m)\u001b[0m\u001b[0;34m,\u001b[0m\u001b[0;34m[\u001b[0m\u001b[0;34m[\u001b[0m\u001b[0mp\u001b[0m\u001b[0;34m[\u001b[0m\u001b[0mInteger\u001b[0m\u001b[0;34m(\u001b[0m\u001b[0;36m0\u001b[0m\u001b[0;34m)\u001b[0m\u001b[0;34m]\u001b[0m\u001b[0;34m**\u001b[0m\u001b[0mInteger\u001b[0m\u001b[0;34m(\u001b[0m\u001b[0;36m3\u001b[0m\u001b[0;34m)\u001b[0m \u001b[0;32mfor\u001b[0m \u001b[0mp\u001b[0m \u001b[0;32min\u001b[0m \u001b[0mP\u001b[0m\u001b[0;34m]\u001b[0m\u001b[0;34m,\u001b[0m\u001b[0;34m[\u001b[0m\u001b[0mp\u001b[0m\u001b[0;34m[\u001b[0m\u001b[0mInteger\u001b[0m\u001b[0;34m(\u001b[0m\u001b[0;36m0\u001b[0m\u001b[0;34m)\u001b[0m\u001b[0;34m]\u001b[0m\u001b[0;34m**\u001b[0m\u001b[0mInteger\u001b[0m\u001b[0;34m(\u001b[0m\u001b[0;36m2\u001b[0m\u001b[0;34m)\u001b[0m \u001b[0;32mfor\u001b[0m \u001b[0mp\u001b[0m \u001b[0;32min\u001b[0m \u001b[0mE\u001b[0m\u001b[0;34m]\u001b[0m\u001b[0;34m,\u001b[0m\u001b[0;34m[\u001b[0m\u001b[0mp\u001b[0m\u001b[0;34m[\u001b[0m\u001b[0mInteger\u001b[0m\u001b[0;34m(\u001b[0m\u001b[0;36m0\u001b[0m\u001b[0;34m)\u001b[0m\u001b[0;34m]\u001b[0m\u001b[0;32mfor\u001b[0m \u001b[0mp\u001b[0m \u001b[0;32min\u001b[0m \u001b[0mE\u001b[0m\u001b[0;34m]\u001b[0m\u001b[0;34m,\u001b[0m\u001b[0;34m[\u001b[0m\u001b[0mInteger\u001b[0m\u001b[0;34m(\u001b[0m\u001b[0;36m1\u001b[0m\u001b[0;34m)\u001b[0m\u001b[0;34m,\u001b[0m\u001b[0mInteger\u001b[0m\u001b[0;34m(\u001b[0m\u001b[0;36m1\u001b[0m\u001b[0;34m)\u001b[0m\u001b[0;34m,\u001b[0m\u001b[0mInteger\u001b[0m\u001b[0;34m(\u001b[0m\u001b[0;36m1\u001b[0m\u001b[0;34m)\u001b[0m\u001b[0;34m,\u001b[0m\u001b[0mInteger\u001b[0m\u001b[0;34m(\u001b[0m\u001b[0;36m1\u001b[0m\u001b[0;34m)\u001b[0m\u001b[0;34m,\u001b[0m\u001b[0mInteger\u001b[0m\u001b[0;34m(\u001b[0m\u001b[0;36m1\u001b[0m\u001b[0;34m)\u001b[0m\u001b[0;34m,\u001b[0m\u001b[0mInteger\u001b[0m\u001b[0;34m(\u001b[0m\u001b[0;36m1\u001b[0m\u001b[0;34m)\u001b[0m\u001b[0;34m,\u001b[0m\u001b[0mInteger\u001b[0m\u001b[0;34m(\u001b[0m\u001b[0;36m1\u001b[0m\u001b[0;34m)\u001b[0m\u001b[0;34m,\u001b[0m\u001b[0mInteger\u001b[0m\u001b[0;34m(\u001b[0m\u001b[0;36m1\u001b[0m\u001b[0;34m)\u001b[0m\u001b[0;34m]\u001b[0m\u001b[0;34m]\u001b[0m\u001b[0;34m)\u001b[0m\u001b[0;34m\u001b[0m\u001b[0;34m\u001b[0m\u001b[0m\n\u001b[0m\u001b[1;32m      6\u001b[0m \u001b[0mY\u001b[0m \u001b[0;34m=\u001b[0m \u001b[0mmatrix\u001b[0m\u001b[0;34m(\u001b[0m\u001b[0mlen\u001b[0m\u001b[0;34m(\u001b[0m\u001b[0mE\u001b[0m\u001b[0;34m)\u001b[0m\u001b[0;34m,\u001b[0m\u001b[0mInteger\u001b[0m\u001b[0;34m(\u001b[0m\u001b[0;36m1\u001b[0m\u001b[0;34m)\u001b[0m\u001b[0;34m,\u001b[0m\u001b[0;34m[\u001b[0m\u001b[0mp\u001b[0m\u001b[0;34m[\u001b[0m\u001b[0mInteger\u001b[0m\u001b[0;34m(\u001b[0m\u001b[0;36m1\u001b[0m\u001b[0;34m)\u001b[0m\u001b[0;34m]\u001b[0m \u001b[0;32mfor\u001b[0m \u001b[0mp\u001b[0m \u001b[0;32min\u001b[0m \u001b[0mE\u001b[0m\u001b[0;34m]\u001b[0m\u001b[0;34m)\u001b[0m\u001b[0;34m\u001b[0m\u001b[0;34m\u001b[0m\u001b[0m\n\u001b[1;32m      7\u001b[0m \u001b[0mH\u001b[0m \u001b[0;34m=\u001b[0m \u001b[0mAt\u001b[0m\u001b[0;34m*\u001b[0m\u001b[0mA\u001b[0m\u001b[0;34m\u001b[0m\u001b[0;34m\u001b[0m\u001b[0m\n",
      "\u001b[0;31mTypeError\u001b[0m: 'sage.rings.integer.Integer' object is not subscriptable"
     ]
    }
   ],
   "source": [
    "# REPONSE 1.1 (1)\n",
    "\n",
    "var('x')\n",
    "A = matrix(len(E),4,[(p[0]^3,p[0]^2,p[0],1) for p in E])\n",
    "At = matrix(4,len(E),[[p[0]^3 for p in P],[p[0]^2 for p in E],[p[0]for p in E],[1,1,1,1,1,1,1,1]])\n",
    "Y = matrix(len(E),1,[p[1] for p in E])\n",
    "H = At*A\n",
    "c = At*Y\n",
    "show(\"A=\",A)\n",
    "show(\"Y=\",Y)\n",
    "show(\"At=\",At)\n",
    "show(\"H=\",H)\n",
    "show(\"c=\",c)"
   ]
  },
  {
   "cell_type": "code",
   "execution_count": 198,
   "id": "8bf449e0",
   "metadata": {},
   "outputs": [
    {
     "ename": "NameError",
     "evalue": "name 'H' is not defined",
     "output_type": "error",
     "traceback": [
      "\u001b[0;31m---------------------------------------------------------------------------\u001b[0m",
      "\u001b[0;31mNameError\u001b[0m                                 Traceback (most recent call last)",
      "\u001b[0;32m/tmp/ipykernel_6803/3832721031.py\u001b[0m in \u001b[0;36m<module>\u001b[0;34m\u001b[0m\n\u001b[1;32m      1\u001b[0m \u001b[0mvar\u001b[0m\u001b[0;34m(\u001b[0m\u001b[0;34m'x'\u001b[0m\u001b[0;34m)\u001b[0m\u001b[0;34m\u001b[0m\u001b[0;34m\u001b[0m\u001b[0m\n\u001b[0;32m----> 2\u001b[0;31m \u001b[0msol\u001b[0m \u001b[0;34m=\u001b[0m \u001b[0mH\u001b[0m\u001b[0;34m.\u001b[0m\u001b[0msolve_right\u001b[0m\u001b[0;34m(\u001b[0m\u001b[0mc\u001b[0m\u001b[0;34m)\u001b[0m\u001b[0;34m\u001b[0m\u001b[0;34m\u001b[0m\u001b[0m\n\u001b[0m\u001b[1;32m      3\u001b[0m \u001b[0ma\u001b[0m\u001b[0;34m,\u001b[0m\u001b[0mb\u001b[0m\u001b[0;34m,\u001b[0m\u001b[0mc\u001b[0m\u001b[0;34m,\u001b[0m\u001b[0md\u001b[0m \u001b[0;34m=\u001b[0m \u001b[0msol\u001b[0m\u001b[0;34m[\u001b[0m\u001b[0mInteger\u001b[0m\u001b[0;34m(\u001b[0m\u001b[0;36m0\u001b[0m\u001b[0;34m)\u001b[0m\u001b[0;34m]\u001b[0m\u001b[0;34m[\u001b[0m\u001b[0mInteger\u001b[0m\u001b[0;34m(\u001b[0m\u001b[0;36m0\u001b[0m\u001b[0;34m)\u001b[0m\u001b[0;34m]\u001b[0m\u001b[0;34m,\u001b[0m\u001b[0msol\u001b[0m\u001b[0;34m[\u001b[0m\u001b[0mInteger\u001b[0m\u001b[0;34m(\u001b[0m\u001b[0;36m1\u001b[0m\u001b[0;34m)\u001b[0m\u001b[0;34m]\u001b[0m\u001b[0;34m[\u001b[0m\u001b[0mInteger\u001b[0m\u001b[0;34m(\u001b[0m\u001b[0;36m0\u001b[0m\u001b[0;34m)\u001b[0m\u001b[0;34m]\u001b[0m\u001b[0;34m,\u001b[0m\u001b[0msol\u001b[0m\u001b[0;34m[\u001b[0m\u001b[0mInteger\u001b[0m\u001b[0;34m(\u001b[0m\u001b[0;36m2\u001b[0m\u001b[0;34m)\u001b[0m\u001b[0;34m]\u001b[0m\u001b[0;34m[\u001b[0m\u001b[0mInteger\u001b[0m\u001b[0;34m(\u001b[0m\u001b[0;36m0\u001b[0m\u001b[0;34m)\u001b[0m\u001b[0;34m]\u001b[0m\u001b[0;34m,\u001b[0m\u001b[0msol\u001b[0m\u001b[0;34m[\u001b[0m\u001b[0mInteger\u001b[0m\u001b[0;34m(\u001b[0m\u001b[0;36m3\u001b[0m\u001b[0;34m)\u001b[0m\u001b[0;34m]\u001b[0m\u001b[0;34m[\u001b[0m\u001b[0mInteger\u001b[0m\u001b[0;34m(\u001b[0m\u001b[0;36m0\u001b[0m\u001b[0;34m)\u001b[0m\u001b[0;34m]\u001b[0m\u001b[0;34m\u001b[0m\u001b[0;34m\u001b[0m\u001b[0m\n\u001b[1;32m      4\u001b[0m \u001b[0;34m\u001b[0m\u001b[0m\n\u001b[1;32m      5\u001b[0m \u001b[0m__tmp__\u001b[0m\u001b[0;34m=\u001b[0m\u001b[0mvar\u001b[0m\u001b[0;34m(\u001b[0m\u001b[0;34m\"x\"\u001b[0m\u001b[0;34m)\u001b[0m\u001b[0;34m;\u001b[0m \u001b[0mf\u001b[0m \u001b[0;34m=\u001b[0m \u001b[0msymbolic_expression\u001b[0m\u001b[0;34m(\u001b[0m\u001b[0ma\u001b[0m\u001b[0;34m*\u001b[0m\u001b[0mx\u001b[0m\u001b[0;34m**\u001b[0m\u001b[0mInteger\u001b[0m\u001b[0;34m(\u001b[0m\u001b[0;36m3\u001b[0m\u001b[0;34m)\u001b[0m \u001b[0;34m+\u001b[0m \u001b[0mb\u001b[0m\u001b[0;34m*\u001b[0m\u001b[0mx\u001b[0m\u001b[0;34m**\u001b[0m\u001b[0mInteger\u001b[0m\u001b[0;34m(\u001b[0m\u001b[0;36m2\u001b[0m\u001b[0;34m)\u001b[0m \u001b[0;34m+\u001b[0m \u001b[0mc\u001b[0m\u001b[0;34m*\u001b[0m\u001b[0mx\u001b[0m \u001b[0;34m+\u001b[0m \u001b[0md\u001b[0m\u001b[0;34m)\u001b[0m\u001b[0;34m.\u001b[0m\u001b[0mfunction\u001b[0m\u001b[0;34m(\u001b[0m\u001b[0mx\u001b[0m\u001b[0;34m)\u001b[0m\u001b[0;34m\u001b[0m\u001b[0;34m\u001b[0m\u001b[0m\n",
      "\u001b[0;31mNameError\u001b[0m: name 'H' is not defined"
     ]
    }
   ],
   "source": [
    "var('x')\n",
    "sol = H.solve_right(c)\n",
    "a,b,c,d = sol[0][0],sol[1][0],sol[2][0],sol[3][0]\n",
    "\n",
    "f(x) = a*x^3 + b*x^2 + c*x + d\n",
    "show(\"f(x) : \",f)"
   ]
  },
  {
   "cell_type": "code",
   "execution_count": null,
   "id": "01c7afbf",
   "metadata": {},
   "outputs": [],
   "source": [
    "# REPONSE 1.1 (2)\n"
   ]
  },
  {
   "cell_type": "code",
   "execution_count": null,
   "id": "13d6b21b",
   "metadata": {},
   "outputs": [],
   "source": []
  },
  {
   "cell_type": "code",
   "execution_count": null,
   "id": "d56e0f96",
   "metadata": {},
   "outputs": [],
   "source": [
    "# REPONSE 1.1 (3)\n"
   ]
  },
  {
   "cell_type": "code",
   "execution_count": null,
   "id": "d4b3d17d",
   "metadata": {},
   "outputs": [],
   "source": []
  },
  {
   "cell_type": "code",
   "execution_count": null,
   "id": "647a6cc0",
   "metadata": {},
   "outputs": [],
   "source": [
    "# REPONSE 1.1 (4)\n"
   ]
  },
  {
   "cell_type": "code",
   "execution_count": null,
   "id": "54b80a7a",
   "metadata": {
    "scrolled": false
   },
   "outputs": [],
   "source": []
  },
  {
   "cell_type": "code",
   "execution_count": null,
   "id": "97b096a2",
   "metadata": {},
   "outputs": [],
   "source": [
    "# REPONSE 1.1 (5)\n"
   ]
  },
  {
   "cell_type": "code",
   "execution_count": null,
   "id": "c190f116",
   "metadata": {},
   "outputs": [],
   "source": []
  },
  {
   "cell_type": "code",
   "execution_count": null,
   "id": "9b9a9b13",
   "metadata": {},
   "outputs": [],
   "source": [
    "# REPONSE 1.1 (6)"
   ]
  },
  {
   "cell_type": "code",
   "execution_count": null,
   "id": "15553681",
   "metadata": {
    "scrolled": false
   },
   "outputs": [],
   "source": []
  },
  {
   "cell_type": "markdown",
   "id": "ed5c87f9",
   "metadata": {
    "deletable": false,
    "editable": false
   },
   "source": [
    "## Algèbre linéaire\n",
    "On se donne la matrice $A$ suivante dont les coefficients sont définis dans $GF(7)$.\n",
    "\n",
    "$A= \\begin{bmatrix} 0 & 1 & 4 & 1 \\\\ 3 & 2 & 1 & 0 \\\\ 1 & 1 & 1 & 6 \\\\ 5 & 0 & 1 &0 \\end{bmatrix}$\n",
    "\n",
    "1. Faite le calcul nécessaire, avec une fonction sage, pour savoir si les colonnes de $A$ sont linéairement indépendantes. \n"
   ]
  },
  {
   "cell_type": "code",
   "execution_count": null,
   "id": "51b9e9b4",
   "metadata": {
    "deletable": false,
    "editable": false
   },
   "outputs": [],
   "source": [
    "# NE PAS MODIFIER\n",
    "q121=0"
   ]
  },
  {
   "cell_type": "code",
   "execution_count": null,
   "id": "95709f2c",
   "metadata": {},
   "outputs": [],
   "source": [
    "# REPONSE 1.2 (1)\n"
   ]
  },
  {
   "cell_type": "code",
   "execution_count": null,
   "id": "f47404b2",
   "metadata": {
    "scrolled": true
   },
   "outputs": [],
   "source": []
  },
  {
   "cell_type": "markdown",
   "id": "09f558bf",
   "metadata": {},
   "source": [
    "## Un problème d'algèbre linéaire"
   ]
  },
  {
   "cell_type": "markdown",
   "id": "b6193855",
   "metadata": {
    "deletable": false,
    "editable": false
   },
   "source": [
    "Trois milliardaires X, Y et Z décident d’égaliser leurs fortunes de la manière suivante : X versera la moitié de sa fortune à Y, puis Y versera la moitié de sa fortune à Z, puis Z versera la moitié de sa fortune à X. Ensuite, ils renouvelleront ce cycle de trois opérations jusqu’à ce que leurs fortunes se stabilisent. Lequel des trois milliardaires a proposé cette méthode de partage saugrenue ? Votre réponse devra être justifiée par un calcul\n",
    "\n",
    "**Aide :** on notera `xn, yn, zn` les fortunes respectives de `X, Y, Z` après n cycles de transactions et `x0,y0,z0` leurs valeurs initiales. On cherche donc à calculer l'expression symbolique des fortunes de chacun en fonction de n. Attention, votre calcul devra être obligatoirement symbolique. \n",
    "1. Donner la matrice $M$ telle que \n",
    "$$\\begin{bmatrix} x1\\\\ y1 \\\\z1 \\end{bmatrix}  = M\\begin{bmatrix} x0\\\\ y0 \\\\z0 \\end{bmatrix}$$\n",
    "\n",
    "\n",
    "2. Exprimer le vecteur $v=(xn, yn, zn)$ en fonction de $(x0, y0, z0)$, $M$ et $n$.\n",
    "\n",
    "\n",
    "3. Passer par le calcul de la limite quand n → +∞ pour chacune des valeurs $xn,yn,zn$ pour trouver le malfrat. Vous donnerez votre réponse au travers de la variable `malfrat=\"...\"`. La réponse ne sera valide que si cette variable est affectée par le calcul adéquat ou bien si tout le calcul nécessaire a bien été réalisé. Une réponse sans justification n'obtiendra aucun point.\n"
   ]
  },
  {
   "cell_type": "code",
   "execution_count": null,
   "id": "0be8862b",
   "metadata": {
    "deletable": false,
    "editable": false
   },
   "outputs": [],
   "source": [
    "# NE PAS MODIFIER\n",
    "q131=0\n",
    "q132=0\n",
    "q133=0"
   ]
  },
  {
   "cell_type": "code",
   "execution_count": 54,
   "id": "c5a954e5",
   "metadata": {},
   "outputs": [
    {
     "data": {
      "text/html": [
       "<html><script type=\"math/tex; mode=display\">\\newcommand{\\Bold}[1]{\\mathbf{#1}}\\left(\\begin{array}{rrr}\n",
       "\\frac{5}{16} & \\frac{1}{8} & \\frac{1}{2} \\\\\n",
       "\\frac{1}{4} & \\frac{1}{2} & 0 \\\\\n",
       "\\frac{1}{16} & \\frac{1}{8} & \\frac{1}{2}\n",
       "\\end{array}\\right)</script></html>"
      ],
      "text/latex": [
       "$$\\newcommand{\\Bold}[1]{\\mathbf{#1}}\\left(\\begin{array}{rrr}\n",
       "\\frac{5}{16} & \\frac{1}{8} & \\frac{1}{2} \\\\\n",
       "\\frac{1}{4} & \\frac{1}{2} & 0 \\\\\n",
       "\\frac{1}{16} & \\frac{1}{8} & \\frac{1}{2}\n",
       "\\end{array}\\right)$$"
      ],
      "text/plain": [
       "[5/16  1/8  1/2]\n",
       "[ 1/4  1/2    0]\n",
       "[1/16  1/8  1/2]"
      ]
     },
     "metadata": {},
     "output_type": "display_data"
    }
   ],
   "source": [
    "# REPONSE 1.3 (1)\n",
    "\n",
    "M = matrix([[5/16,1/8,1/2],[1/4,1/2,0],[1/16,1/8,1/2]])\n",
    "show(M)"
   ]
  },
  {
   "cell_type": "code",
   "execution_count": null,
   "id": "a1e83250",
   "metadata": {},
   "outputs": [],
   "source": []
  },
  {
   "cell_type": "code",
   "execution_count": 55,
   "id": "82e9bb3d",
   "metadata": {},
   "outputs": [],
   "source": [
    "# REPONSE 1.3 (1)\n",
    "var('x0,y0,z0,n')\n",
    "v0 = matrix(3,1,[x0,y0,z0])\n",
    "v = (M^n)*v0"
   ]
  },
  {
   "cell_type": "code",
   "execution_count": null,
   "id": "eb7d40fa",
   "metadata": {},
   "outputs": [],
   "source": []
  },
  {
   "cell_type": "code",
   "execution_count": 56,
   "id": "06058121",
   "metadata": {},
   "outputs": [
    {
     "data": {
      "text/html": [
       "<html><script type=\"math/tex; mode=display\">\\newcommand{\\Bold}[1]{\\mathbf{#1}}0</script></html>"
      ],
      "text/latex": [
       "$$\\newcommand{\\Bold}[1]{\\mathbf{#1}}0$$"
      ],
      "text/plain": [
       "0"
      ]
     },
     "metadata": {},
     "output_type": "display_data"
    },
    {
     "data": {
      "text/html": [
       "<html><script type=\"math/tex; mode=display\">\\newcommand{\\Bold}[1]{\\mathbf{#1}}0</script></html>"
      ],
      "text/latex": [
       "$$\\newcommand{\\Bold}[1]{\\mathbf{#1}}0$$"
      ],
      "text/plain": [
       "0"
      ]
     },
     "metadata": {},
     "output_type": "display_data"
    },
    {
     "data": {
      "text/html": [
       "<html><script type=\"math/tex; mode=display\">\\newcommand{\\Bold}[1]{\\mathbf{#1}}0</script></html>"
      ],
      "text/latex": [
       "$$\\newcommand{\\Bold}[1]{\\mathbf{#1}}0$$"
      ],
      "text/plain": [
       "0"
      ]
     },
     "metadata": {},
     "output_type": "display_data"
    }
   ],
   "source": [
    "# REPONSE 1.3 (1)\n",
    "xn = v[0][0].limit(n=oo)\n",
    "yn = v[1][0].limit(n=oo)\n",
    "zn = v[2][0].limit(n=oo)\n",
    "show(xn)\n",
    "show(yn)\n",
    "show(zn)"
   ]
  },
  {
   "cell_type": "code",
   "execution_count": null,
   "id": "882ff3d6",
   "metadata": {},
   "outputs": [],
   "source": []
  },
  {
   "cell_type": "markdown",
   "id": "8af1dfdb",
   "metadata": {
    "deletable": false,
    "editable": false
   },
   "source": [
    "# Test de primalité\n",
    "\n",
    "On propose ici d'étudier un algorithme permettant de tester si un nombre entier est premier. Le principe sous-jacent de cet algorithme est le test de Fermat, basé sur le petit théorème de Fermat : si $p$ est premier, alors $a^{p-1}=1 \\bmod p$ pour $0 < a < p$. \n",
    "\n",
    "Pour vérifier qu'un entier $N$ n'est pas premier, il suffit de vérifer qu'il existe un entier $1<a<N$ tel que $a^{N-1}\\neq 1 \\bmod N$.Un tel entier $a$ est appelé un *témoin* du fait que $N$ n'est pas premier.\n"
   ]
  },
  {
   "cell_type": "markdown",
   "id": "9e36b639",
   "metadata": {},
   "source": [
    "## Question\n",
    "\n",
    "1. Vérifier la propriété du théorème de Fermat pour tous les nombres premiers inférieurs à 40. Votre code devra faire un calcul pour affecter la valeur vrai ou faux à la variable `pfermat40`. **Attention** le calcul devra être le plus efficace possible.\n",
    "\n",
    "\n",
    "2. Vérifier parmi les nombres inférieurs à 40 qui ne sont pas des nombres premiers qu'il existe toujours au moins un témoin de non primalité. Votre code devra faire un calcul pour affecter la valeur vrai ou faux à la variable `npfermat40`.\n",
    "\n",
    "\n",
    "3. Écrire une fonction `NombreTemoins(N)` qui compte le nombre d'entiers $a$ entre $1$ et $N-1$ tels que $a^{N-1}\\neq 1 \\bmod N$. **Aide:** le nombre de témoins de 10 est de 8 alors que pour 11 (qui est premier) c'est 0. **Attention** votre fonction devra être la plus efficace possible sinon les calculs des questions suivantes pourraient être trop long."
   ]
  },
  {
   "cell_type": "code",
   "execution_count": null,
   "id": "761aa464",
   "metadata": {
    "deletable": false,
    "editable": false
   },
   "outputs": [],
   "source": [
    "# NE PAS MODIFIER\n",
    "q211=0\n",
    "q212=0\n",
    "q213=0"
   ]
  },
  {
   "cell_type": "code",
   "execution_count": 77,
   "id": "35205dd2",
   "metadata": {},
   "outputs": [
    {
     "data": {
      "text/html": [
       "<html><script type=\"math/tex; mode=display\">\\newcommand{\\Bold}[1]{\\mathbf{#1}}\\mathrm{True}</script></html>"
      ],
      "text/latex": [
       "$$\\newcommand{\\Bold}[1]{\\mathbf{#1}}\\mathrm{True}$$"
      ],
      "text/plain": [
       "True"
      ]
     },
     "metadata": {},
     "output_type": "display_data"
    }
   ],
   "source": [
    "# REPONSE 2.1 (1)\n",
    "P = prime_range(40)\n",
    "pfermat40 = True\n",
    "for p in P:\n",
    "    a = round(p/2)\n",
    "    pfermat40 = pfermat40 and (a^(p-1)%p == 1)\n",
    "    \n",
    "show(pfermat40)"
   ]
  },
  {
   "cell_type": "code",
   "execution_count": null,
   "id": "0061da88",
   "metadata": {},
   "outputs": [],
   "source": []
  },
  {
   "cell_type": "code",
   "execution_count": 89,
   "id": "e64aeca6",
   "metadata": {},
   "outputs": [
    {
     "data": {
      "text/html": [
       "<html><script type=\"math/tex; mode=display\">\\newcommand{\\Bold}[1]{\\mathbf{#1}}\\mathrm{False}</script></html>"
      ],
      "text/latex": [
       "$$\\newcommand{\\Bold}[1]{\\mathbf{#1}}\\mathrm{False}$$"
      ],
      "text/plain": [
       "False"
      ]
     },
     "metadata": {},
     "output_type": "display_data"
    }
   ],
   "source": [
    "# REPONSE 2.1 (2)\n",
    "P = prime_range(40)\n",
    "NP = []\n",
    "for n in range(1,40):\n",
    "    if(n not in P):\n",
    "        NP.append(n)\n",
    "\n",
    "npfermat40 = False\n",
    "for np in NP:\n",
    "    npfermatLocal = True\n",
    "    for a in range(0,np):\n",
    "        npfermatLocal = npfermatLocal and (a^(np-1)%np == 1)\n",
    "    npfermat40 = npfermat40 or npfermatLocal\n",
    "    \n",
    "show(npfermat40)"
   ]
  },
  {
   "cell_type": "code",
   "execution_count": 93,
   "id": "8687af87",
   "metadata": {},
   "outputs": [
    {
     "data": {
      "text/html": [
       "<html><script type=\"math/tex; mode=display\">\\newcommand{\\Bold}[1]{\\mathbf{#1}}\\left[2, 3, 5, 7, 11, 13, 17, 19, 23, 29, 31, 37\\right]</script></html>"
      ],
      "text/latex": [
       "$$\\newcommand{\\Bold}[1]{\\mathbf{#1}}\\left[2, 3, 5, 7, 11, 13, 17, 19, 23, 29, 31, 37\\right]$$"
      ],
      "text/plain": [
       "[2, 3, 5, 7, 11, 13, 17, 19, 23, 29, 31, 37]"
      ]
     },
     "metadata": {},
     "output_type": "display_data"
    },
    {
     "data": {
      "text/html": [
       "<html><script type=\"math/tex; mode=display\">\\newcommand{\\Bold}[1]{\\mathbf{#1}}\\left[1, 4, 6, 8, 9, 10, 12, 14, 15, 16, 18, 20, 21, 22, 24, 25, 26, 27, 28, 30, 32, 33, 34, 35, 36, 38, 39\\right]</script></html>"
      ],
      "text/latex": [
       "$$\\newcommand{\\Bold}[1]{\\mathbf{#1}}\\left[1, 4, 6, 8, 9, 10, 12, 14, 15, 16, 18, 20, 21, 22, 24, 25, 26, 27, 28, 30, 32, 33, 34, 35, 36, 38, 39\\right]$$"
      ],
      "text/plain": [
       "[1,\n",
       " 4,\n",
       " 6,\n",
       " 8,\n",
       " 9,\n",
       " 10,\n",
       " 12,\n",
       " 14,\n",
       " 15,\n",
       " 16,\n",
       " 18,\n",
       " 20,\n",
       " 21,\n",
       " 22,\n",
       " 24,\n",
       " 25,\n",
       " 26,\n",
       " 27,\n",
       " 28,\n",
       " 30,\n",
       " 32,\n",
       " 33,\n",
       " 34,\n",
       " 35,\n",
       " 36,\n",
       " 38,\n",
       " 39]"
      ]
     },
     "metadata": {},
     "output_type": "display_data"
    }
   ],
   "source": [
    "show(P)\n",
    "show(NP)"
   ]
  },
  {
   "cell_type": "code",
   "execution_count": 140,
   "id": "9dc26267",
   "metadata": {},
   "outputs": [],
   "source": [
    "# REPONSE 2.1 (3)\n",
    "def NombreTemoins(N):\n",
    "    if(QQ(N).is_prime()): return 0\n",
    "    else:\n",
    "        compte = 0\n",
    "        for a in range(1,N):\n",
    "            if(not(a^(N-1)%N == 1)):compte+=1\n",
    "    return compte"
   ]
  },
  {
   "cell_type": "code",
   "execution_count": null,
   "id": "9c98b226",
   "metadata": {
    "scrolled": true
   },
   "outputs": [],
   "source": []
  },
  {
   "cell_type": "markdown",
   "id": "508c45b8",
   "metadata": {},
   "source": [
    "## Question\n",
    "1. Tracer la fonction `NombreTemoins` sur un graphique pour tous les entiers compris entre 2 et 1000. Attention, cette fonction n'est pas continue donc on n'utilise pas `plot`.\n",
    "\n",
    "\n",
    "2. Dans le même esprit, afficher sur un graphique la proportion de témoins pour tous les entiers compris entre 2 et 1000 qui ne sont pas premiers. Vous afficherez (en rouge) sur ce même graphique la fonction $f(x)=1/3$. **Aide:** la proportion s'entend pour chaque entier testé, on compte donc le nombre de temoins sur le nombre d'entiers possibles.\n",
    "\n",
    "\n",
    "3.  À partir de ce dernier graphique, que pouvez-vous conclure sur l'assertion suivante (votre réponse est à reporter dans la variable `proba22` sous la forme 'A' ou 'B' ou 'C')\n",
    "   \n",
    "   Soit $2\\leq N\\leq1000$, si on tire au hasard un entier $1<a<N$ et que $a^{N-1} = 1 \\bmod N$, on peut dire que :\n",
    "  1. N n'est pas un nombre premier avec une probabilité $ <1/3$\n",
    "  1.  N n'est pas un nombre premier avec une probabilité $ <2/3$\n",
    "  1. N n'est pas un nombre premier avec une probabilité $ >1/3$\n"
   ]
  },
  {
   "cell_type": "code",
   "execution_count": 141,
   "id": "65848777",
   "metadata": {
    "deletable": false,
    "editable": false
   },
   "outputs": [],
   "source": [
    "# NE PAS MODIFIER\n",
    "q221=0\n",
    "q222=0\n",
    "q223=0"
   ]
  },
  {
   "cell_type": "code",
   "execution_count": 142,
   "id": "91b8100e",
   "metadata": {},
   "outputs": [],
   "source": [
    "# REPONSE 2.2 (1)\n",
    "NbTemoins = []\n",
    "for n in range(2,1000):\n",
    "    NbTemoins.append((n,NombreTemoins(n)))"
   ]
  },
  {
   "cell_type": "code",
   "execution_count": 143,
   "id": "f4632424",
   "metadata": {},
   "outputs": [
    {
     "data": {
      "image/png": "[encoded data removed]",
      "text/plain": [
       "Graphics object consisting of 1 graphics primitive"
      ]
     },
     "execution_count": 143,
     "metadata": {},
     "output_type": "execute_result"
    }
   ],
   "source": [
    "list_plot(NbTemoins)"
   ]
  },
  {
   "cell_type": "code",
   "execution_count": 157,
   "id": "82257523",
   "metadata": {},
   "outputs": [
    {
     "data": {
      "text/html": [
       "<html><script type=\"math/tex; mode=display\">\\newcommand{\\Bold}[1]{\\mathbf{#1}}\\verb|Set|\\verb| |\\verb|of|\\verb| |\\verb|all|\\verb| |\\verb|prime|\\verb| |\\verb|numbers:|\\verb| |\\verb|2,|\\verb| |\\verb|3,|\\verb| |\\verb|5,|\\verb| |\\verb|7,|\\verb| |\\verb|...|</script></html>"
      ],
      "text/latex": [
       "$$\\newcommand{\\Bold}[1]{\\mathbf{#1}}\\verb|Set|\\verb| |\\verb|of|\\verb| |\\verb|all|\\verb| |\\verb|prime|\\verb| |\\verb|numbers:|\\verb| |\\verb|2,|\\verb| |\\verb|3,|\\verb| |\\verb|5,|\\verb| |\\verb|7,|\\verb| |\\verb|...|$$"
      ],
      "text/plain": [
       "Set of all prime numbers: 2, 3, 5, 7, ..."
      ]
     },
     "metadata": {},
     "output_type": "display_data"
    }
   ],
   "source": [
    "# REPONSE 2.2 (2)\n",
    "P = Primes()\n",
    "PropTemoinsNP = []\n",
    "for n in range(2,1000):\n",
    "    if(not(n in P)):\n",
    "        PropTemoinsNP.append((n,NombreTemoins(n)/n))"
   ]
  },
  {
   "cell_type": "code",
   "execution_count": 158,
   "id": "4d85d7ad",
   "metadata": {},
   "outputs": [
    {
     "data": {
      "image/png": "[encoded data removed]",
      "text/plain": [
       "Graphics object consisting of 2 graphics primitives"
      ]
     },
     "metadata": {},
     "output_type": "display_data"
    }
   ],
   "source": [
    "f(x) = 1/3\n",
    "graph = list_plot(PropTemoinsNP)+plot(f,0,1000,color='red')\n",
    "show(graph)"
   ]
  },
  {
   "cell_type": "code",
   "execution_count": null,
   "id": "f4be4ef3",
   "metadata": {},
   "outputs": [],
   "source": [
    "# REPONSE 2.2 (3)\n",
    "proba22 = 'C'"
   ]
  },
  {
   "cell_type": "code",
   "execution_count": null,
   "id": "bd974ab1",
   "metadata": {},
   "outputs": [],
   "source": []
  },
  {
   "cell_type": "markdown",
   "id": "e6c84688",
   "metadata": {},
   "source": [
    "## Question \n",
    "1. Afficher sur un nouveau graphique la proportion de témoins pour les premiers nombres de Carmichaël, dont la liste est fournie ci-dessous. Les nombres de Carmichaël sont des nombres composés (donc non-premiers). **Attention** le calcul va être long (mais moins d'une minute).  Si votre code n'est pas bien fait il pourrait durer plusieurs minutes. **Il sera judicieux pour la suite de stocker ces proportions dans une liste (pour ne pas refaire le calcul qui est long).**\n",
    "```\n",
    "C = [561,1105,1729,2465,2821,6601,8911,10585,15841,29341,41041,46657,52633,62745,63973,75361,101101,115921,126217,162401,172081,188461,252601]\n",
    "```\n",
    "2. Sachant que les nombres de Carmichael sont les entiers qui ont le moins de témoins parmi tous les entiers, reformuler l'assertion valide de la question (2.2.3) lorsque   $1<N<252602$. Attention vous devrez donner la probabilité la plus fine possible. La réponse doit être donné dans la variable `reponse15=`"
   ]
  },
  {
   "cell_type": "code",
   "execution_count": 159,
   "id": "85c4f12c",
   "metadata": {
    "deletable": false,
    "editable": false
   },
   "outputs": [
    {
     "data": {
      "text/html": [
       "<html><script type=\"math/tex; mode=display\">\\newcommand{\\Bold}[1]{\\mathbf{#1}}\\left[561, 1105, 1729, 2465, 2821, 6601, 8911, 10585, 15841, 29341, 41041, 46657, 52633, 62745, 63973, 75361, 101101, 115921, 126217, 162401, 172081, 188461, 252601\\right]</script></html>"
      ],
      "text/latex": [
       "$$\\newcommand{\\Bold}[1]{\\mathbf{#1}}\\left[561, 1105, 1729, 2465, 2821, 6601, 8911, 10585, 15841, 29341, 41041, 46657, 52633, 62745, 63973, 75361, 101101, 115921, 126217, 162401, 172081, 188461, 252601\\right]$$"
      ],
      "text/plain": [
       "[561,\n",
       " 1105,\n",
       " 1729,\n",
       " 2465,\n",
       " 2821,\n",
       " 6601,\n",
       " 8911,\n",
       " 10585,\n",
       " 15841,\n",
       " 29341,\n",
       " 41041,\n",
       " 46657,\n",
       " 52633,\n",
       " 62745,\n",
       " 63973,\n",
       " 75361,\n",
       " 101101,\n",
       " 115921,\n",
       " 126217,\n",
       " 162401,\n",
       " 172081,\n",
       " 188461,\n",
       " 252601]"
      ]
     },
     "metadata": {},
     "output_type": "display_data"
    }
   ],
   "source": [
    "C=[561,1105,1729,2465,2821,6601,8911,10585,15841,29341,41041,46657,52633,62745,63973,75361,101101,115921,126217,162401,172081,188461,252601]\n",
    "show(C)"
   ]
  },
  {
   "cell_type": "code",
   "execution_count": 160,
   "id": "feeb4495",
   "metadata": {
    "deletable": false,
    "editable": false
   },
   "outputs": [],
   "source": [
    "# NE PAS MODIFIER\n",
    "q231=0\n",
    "q232=0"
   ]
  },
  {
   "cell_type": "code",
   "execution_count": 161,
   "id": "51c9b19d",
   "metadata": {},
   "outputs": [
    {
     "ename": "KeyboardInterrupt",
     "evalue": "",
     "output_type": "error",
     "traceback": [
      "\u001b[0;31m---------------------------------------------------------------------------\u001b[0m",
      "\u001b[0;31mKeyboardInterrupt\u001b[0m                         Traceback (most recent call last)",
      "\u001b[0;32m/tmp/ipykernel_6803/4003609965.py\u001b[0m in \u001b[0;36m<module>\u001b[0;34m\u001b[0m\n\u001b[1;32m      2\u001b[0m \u001b[0mPropC\u001b[0m \u001b[0;34m=\u001b[0m \u001b[0;34m[\u001b[0m\u001b[0;34m]\u001b[0m\u001b[0;34m\u001b[0m\u001b[0;34m\u001b[0m\u001b[0m\n\u001b[1;32m      3\u001b[0m \u001b[0;32mfor\u001b[0m \u001b[0mc\u001b[0m \u001b[0;32min\u001b[0m \u001b[0mC\u001b[0m\u001b[0;34m:\u001b[0m\u001b[0;34m\u001b[0m\u001b[0;34m\u001b[0m\u001b[0m\n\u001b[0;32m----> 4\u001b[0;31m     \u001b[0mPropC\u001b[0m\u001b[0;34m.\u001b[0m\u001b[0mappend\u001b[0m\u001b[0;34m(\u001b[0m\u001b[0;34m(\u001b[0m\u001b[0mc\u001b[0m\u001b[0;34m,\u001b[0m\u001b[0mNombreTemoins\u001b[0m\u001b[0;34m(\u001b[0m\u001b[0mc\u001b[0m\u001b[0;34m)\u001b[0m\u001b[0;34m/\u001b[0m\u001b[0mc\u001b[0m\u001b[0;34m)\u001b[0m\u001b[0;34m)\u001b[0m\u001b[0;34m\u001b[0m\u001b[0;34m\u001b[0m\u001b[0m\n\u001b[0m",
      "\u001b[0;32m/tmp/ipykernel_6803/3391120312.py\u001b[0m in \u001b[0;36mNombreTemoins\u001b[0;34m(N)\u001b[0m\n\u001b[1;32m      5\u001b[0m         \u001b[0mcompte\u001b[0m \u001b[0;34m=\u001b[0m \u001b[0mInteger\u001b[0m\u001b[0;34m(\u001b[0m\u001b[0;36m0\u001b[0m\u001b[0;34m)\u001b[0m\u001b[0;34m\u001b[0m\u001b[0;34m\u001b[0m\u001b[0m\n\u001b[1;32m      6\u001b[0m         \u001b[0;32mfor\u001b[0m \u001b[0ma\u001b[0m \u001b[0;32min\u001b[0m \u001b[0mrange\u001b[0m\u001b[0;34m(\u001b[0m\u001b[0mInteger\u001b[0m\u001b[0;34m(\u001b[0m\u001b[0;36m1\u001b[0m\u001b[0;34m)\u001b[0m\u001b[0;34m,\u001b[0m\u001b[0mN\u001b[0m\u001b[0;34m)\u001b[0m\u001b[0;34m:\u001b[0m\u001b[0;34m\u001b[0m\u001b[0;34m\u001b[0m\u001b[0m\n\u001b[0;32m----> 7\u001b[0;31m             \u001b[0;32mif\u001b[0m\u001b[0;34m(\u001b[0m\u001b[0;32mnot\u001b[0m\u001b[0;34m(\u001b[0m\u001b[0ma\u001b[0m\u001b[0;34m**\u001b[0m\u001b[0;34m(\u001b[0m\u001b[0mN\u001b[0m\u001b[0;34m-\u001b[0m\u001b[0mInteger\u001b[0m\u001b[0;34m(\u001b[0m\u001b[0;36m1\u001b[0m\u001b[0;34m)\u001b[0m\u001b[0;34m)\u001b[0m\u001b[0;34m%\u001b[0m\u001b[0mN\u001b[0m \u001b[0;34m==\u001b[0m \u001b[0mInteger\u001b[0m\u001b[0;34m(\u001b[0m\u001b[0;36m1\u001b[0m\u001b[0;34m)\u001b[0m\u001b[0;34m)\u001b[0m\u001b[0;34m)\u001b[0m\u001b[0;34m:\u001b[0m\u001b[0mcompte\u001b[0m\u001b[0;34m+=\u001b[0m\u001b[0mInteger\u001b[0m\u001b[0;34m(\u001b[0m\u001b[0;36m1\u001b[0m\u001b[0;34m)\u001b[0m\u001b[0;34m\u001b[0m\u001b[0;34m\u001b[0m\u001b[0m\n\u001b[0m\u001b[1;32m      8\u001b[0m     \u001b[0;32mreturn\u001b[0m \u001b[0mcompte\u001b[0m\u001b[0;34m\u001b[0m\u001b[0;34m\u001b[0m\u001b[0m\n",
      "\u001b[0;32m/usr/lib/python3/dist-packages/sage/rings/integer.pyx\u001b[0m in \u001b[0;36msage.rings.integer.Integer.__pow__ (build/cythonized/sage/rings/integer.c:14576)\u001b[0;34m()\u001b[0m\n\u001b[1;32m   2153\u001b[0m             \u001b[0;32mreturn\u001b[0m \u001b[0mcoercion_model\u001b[0m\u001b[0;34m.\u001b[0m\u001b[0mbin_op\u001b[0m\u001b[0;34m(\u001b[0m\u001b[0mleft\u001b[0m\u001b[0;34m,\u001b[0m \u001b[0mright\u001b[0m\u001b[0;34m,\u001b[0m \u001b[0moperator\u001b[0m\u001b[0;34m.\u001b[0m\u001b[0mpow\u001b[0m\u001b[0;34m)\u001b[0m\u001b[0;34m\u001b[0m\u001b[0;34m\u001b[0m\u001b[0m\n\u001b[1;32m   2154\u001b[0m         \u001b[0;31m# left is a non-Element: do the powering with a Python int\u001b[0m\u001b[0;34m\u001b[0m\u001b[0;34m\u001b[0m\u001b[0m\n\u001b[0;32m-> 2155\u001b[0;31m         \u001b[0;32mreturn\u001b[0m \u001b[0mleft\u001b[0m \u001b[0;34m**\u001b[0m \u001b[0mint\u001b[0m\u001b[0;34m(\u001b[0m\u001b[0mright\u001b[0m\u001b[0;34m)\u001b[0m\u001b[0;34m\u001b[0m\u001b[0;34m\u001b[0m\u001b[0m\n\u001b[0m\u001b[1;32m   2156\u001b[0m \u001b[0;34m\u001b[0m\u001b[0m\n\u001b[1;32m   2157\u001b[0m     \u001b[0mcpdef\u001b[0m \u001b[0m_pow_\u001b[0m\u001b[0;34m(\u001b[0m\u001b[0mself\u001b[0m\u001b[0;34m,\u001b[0m \u001b[0mother\u001b[0m\u001b[0;34m)\u001b[0m\u001b[0;34m:\u001b[0m\u001b[0;34m\u001b[0m\u001b[0;34m\u001b[0m\u001b[0m\n",
      "\u001b[0;32msrc/cysignals/signals.pyx\u001b[0m in \u001b[0;36mcysignals.signals.python_check_interrupt\u001b[0;34m()\u001b[0m\n",
      "\u001b[0;31mKeyboardInterrupt\u001b[0m: "
     ]
    }
   ],
   "source": [
    "# REPONSE 2.3 (1)\n",
    "PropC = []\n",
    "for c in C:\n",
    "    PropC.append((c,NombreTemoins(c)/c))"
   ]
  },
  {
   "cell_type": "code",
   "execution_count": null,
   "id": "7c1df4b6",
   "metadata": {},
   "outputs": [],
   "source": [
    "list_plot(PropC)"
   ]
  },
  {
   "cell_type": "code",
   "execution_count": null,
   "id": "479da309",
   "metadata": {},
   "outputs": [],
   "source": [
    "# REPONSE 2.3 (2)\n"
   ]
  },
  {
   "cell_type": "code",
   "execution_count": null,
   "id": "d145316e",
   "metadata": {},
   "outputs": [],
   "source": []
  },
  {
   "cell_type": "code",
   "execution_count": null,
   "id": "46afc6e7",
   "metadata": {},
   "outputs": [],
   "source": [
    "reponse15=\"N n'est pas un nombre premier avec une probabilité >1/3\""
   ]
  },
  {
   "cell_type": "code",
   "execution_count": null,
   "id": "b47ef841",
   "metadata": {},
   "outputs": [],
   "source": []
  },
  {
   "cell_type": "markdown",
   "id": "f47d64d4",
   "metadata": {
    "deletable": false,
    "editable": false
   },
   "source": [
    "## Question \n",
    "Le test de Fermat est un test probabiliste qui découle des remarques sur le petit théorème de Fermat et de la proportion de témoins. Pour tester si un nombre $N$ est premier, on tire un entier $a$ aléatoire entre $2$ et $N-1$ et on vérifie si $a^{N-1} = 1 \\bmod N$. Si c'est le cas, on affirme que $N$ est premier, sinon qu'il est composé. C'est un test probabiliste, qui peut parfois se tromper.\n",
    "\n",
    "1. Écrire une fonction `TestFermat(N)` qui implante le test de Fermat pour déterminer si N est premier.\n",
    "1. Vérifier que votre fonction `TestFermat` répond toujour vrai pour les nombres premier compris entre 3 et 1000. Votre code devra faire un calcul pour affecter la valeur vrai ou faux à la variable `fermat1000`.\n",
    "1. Estimer la proportion de nombres non-premiers entre 3 et 1000 pour lequel `TestFermat` se trompe. Vous stockerez votre estimation dans la variable `proba_fermat1000`. La proportion devra être estimée à partir de la moyenne de 100 exécutions de l'expérience.\n",
    "1. Faite la même estimation pour l'ensemble des entiers de Carmichael donnés.Vous stockerez votre estimation dans la variable `proba_carmichael`.\n",
    "1. Une possibilité pour améliorer la probabilité de réussite du test de fermat et de tirer plusieurs valeurs de $a$. Ainsi votre fonction ne renverra vrai que si toutes les valeurs de $a$ ont réussi le test. Proposer une fonction `TestFermat_multi(N,k)` qui choisit $k$ entiers aléatoires $a$ à tester et retourne vrai uniquement quand les $k$ tests de Fermat sont bons.\n",
    "1. À partir d'un graphique, trouver une valeur de $k$ pour laquelle la probabilité que `TestFermat_multi` se trompe soit inférieur à $2\\%$ pour les nombres de Carmichael donnés. Vous donnerez votre résultat dans la variable `multik_carmichael=...`"
   ]
  },
  {
   "cell_type": "code",
   "execution_count": 162,
   "id": "7fb7fdea",
   "metadata": {
    "deletable": false,
    "editable": false
   },
   "outputs": [],
   "source": [
    "# NE PAS MODIFIER\n",
    "q241=0\n",
    "q242=0\n",
    "q243=0\n",
    "q244=0\n",
    "q245=0\n",
    "q246=0"
   ]
  },
  {
   "cell_type": "code",
   "execution_count": 163,
   "id": "19af1456",
   "metadata": {},
   "outputs": [],
   "source": [
    "# REPONSE 2.4 (1)\n",
    "def TestFermat(N):\n",
    "    a = randint(2,N-1)\n",
    "    return (a^(N-1)%N == 1)"
   ]
  },
  {
   "cell_type": "code",
   "execution_count": null,
   "id": "854446b3",
   "metadata": {},
   "outputs": [],
   "source": []
  },
  {
   "cell_type": "code",
   "execution_count": 164,
   "id": "a22a8330",
   "metadata": {},
   "outputs": [
    {
     "data": {
      "text/html": [
       "<html><script type=\"math/tex; mode=display\">\\newcommand{\\Bold}[1]{\\mathbf{#1}}\\mathrm{True}</script></html>"
      ],
      "text/latex": [
       "$$\\newcommand{\\Bold}[1]{\\mathbf{#1}}\\mathrm{True}$$"
      ],
      "text/plain": [
       "True"
      ]
     },
     "metadata": {},
     "output_type": "display_data"
    }
   ],
   "source": [
    "# REPONSE 2.4 (2)\n",
    "fermat1000 = True\n",
    "P1000 = prime_range(1000)\n",
    "for p in P1000:\n",
    "    if(p>=3):\n",
    "        fermat1000 = fermat1000 and TestFermat(p)\n",
    "    \n",
    "show(fermat1000)"
   ]
  },
  {
   "cell_type": "code",
   "execution_count": null,
   "id": "07f44c5e",
   "metadata": {},
   "outputs": [],
   "source": []
  },
  {
   "cell_type": "code",
   "execution_count": 167,
   "id": "7613fa2b",
   "metadata": {},
   "outputs": [
    {
     "data": {
      "text/html": [
       "<html><script type=\"math/tex; mode=display\">\\newcommand{\\Bold}[1]{\\mathbf{#1}}\\frac{15}{997}</script></html>"
      ],
      "text/latex": [
       "$$\\newcommand{\\Bold}[1]{\\mathbf{#1}}\\frac{15}{997}$$"
      ],
      "text/plain": [
       "15/997"
      ]
     },
     "metadata": {},
     "output_type": "display_data"
    }
   ],
   "source": [
    "# REPONSE 2.4 (3)\n",
    "P = Primes()\n",
    "fauxprimefermat = 0\n",
    "for n in range(3,1000):\n",
    "    if(not(n in P)):\n",
    "        if(TestFermat(n)):\n",
    "            fauxprimefermat += 1\n",
    "        \n",
    "proba_ferma1000 = fauxprimefermat/(1000-3)\n",
    "show(proba_ferma1000)"
   ]
  },
  {
   "cell_type": "code",
   "execution_count": null,
   "id": "d32c58f9",
   "metadata": {},
   "outputs": [],
   "source": []
  },
  {
   "cell_type": "code",
   "execution_count": 169,
   "id": "7a6882b9",
   "metadata": {},
   "outputs": [
    {
     "data": {
      "text/html": [
       "<html><script type=\"math/tex; mode=display\">\\newcommand{\\Bold}[1]{\\mathbf{#1}}\\frac{17}{23}</script></html>"
      ],
      "text/latex": [
       "$$\\newcommand{\\Bold}[1]{\\mathbf{#1}}\\frac{17}{23}$$"
      ],
      "text/plain": [
       "17/23"
      ]
     },
     "metadata": {},
     "output_type": "display_data"
    }
   ],
   "source": [
    "# REPONSE 2.4 (4)\n",
    "P = Primes()\n",
    "fauxprimecarmichal = 0\n",
    "for n in C:\n",
    "    if(TestFermat(n)):\n",
    "        fauxprimecarmichal += 1\n",
    "        \n",
    "proba_carmichael = fauxprimecarmichal/len(C)\n",
    "show(proba_carmichael)"
   ]
  },
  {
   "cell_type": "code",
   "execution_count": null,
   "id": "136e5704",
   "metadata": {},
   "outputs": [],
   "source": []
  },
  {
   "cell_type": "code",
   "execution_count": null,
   "id": "aa9cfae8",
   "metadata": {},
   "outputs": [],
   "source": [
    "# REPONSE 2.4 (5)\n"
   ]
  },
  {
   "cell_type": "code",
   "execution_count": 172,
   "id": "06f9843c",
   "metadata": {},
   "outputs": [],
   "source": [
    "def TestFermat_multi(N,k):\n",
    "    prime = True\n",
    "    for i in range(k):\n",
    "        a = randint(2,N-1)\n",
    "        prime = prime and (a^(N-1)%N == 1)\n",
    "    return prime"
   ]
  },
  {
   "cell_type": "code",
   "execution_count": 189,
   "id": "252163d8",
   "metadata": {},
   "outputs": [
    {
     "data": {
      "image/png": "[encoded data removed]",
      "text/plain": [
       "Graphics object consisting of 2 graphics primitives"
      ]
     },
     "execution_count": 189,
     "metadata": {},
     "output_type": "execute_result"
    }
   ],
   "source": [
    "# REPONSE 2.4 (6)\n",
    "P = Primes()\n",
    "listProbaC = []\n",
    "\n",
    "for k in range(1,15):\n",
    "    fauxprimecarmichal = 0\n",
    "    for n in C:\n",
    "        if(TestFermat_multi(n,k)):\n",
    "            fauxprimecarmichal += 1\n",
    "    listProbaC.append(fauxprimecarmichal/len(C))\n",
    "    \n",
    "f(x) = 2/100\n",
    "list_plot(listProbaC)+plot(f,0,15,color='red')"
   ]
  },
  {
   "cell_type": "code",
   "execution_count": 191,
   "id": "61350205",
   "metadata": {},
   "outputs": [],
   "source": [
    "multik_carmichael=15"
   ]
  },
  {
   "cell_type": "code",
   "execution_count": null,
   "id": "4e712bae",
   "metadata": {},
   "outputs": [],
   "source": []
  }
 ],
 "metadata": {
  "kernelspec": {
   "display_name": "SageMath 9.5",
   "language": "sage",
   "name": "sagemath"
  },
  "language_info": {
   "codemirror_mode": {
    "name": "ipython",
    "version": 3
   },
   "file_extension": ".py",
   "mimetype": "text/x-python",
   "name": "python",
   "nbconvert_exporter": "python",
   "pygments_lexer": "ipython3",
   "version": "3.10.6"
  },
  "toc": {
   "base_numbering": 1,
   "nav_menu": {},
   "number_sections": true,
   "sideBar": true,
   "skip_h1_title": false,
   "title_cell": "Table of Contents",
   "title_sidebar": "Contents",
   "toc_cell": false,
   "toc_position": {},
   "toc_section_display": true,
   "toc_window_display": false
  }
 },
 "nbformat": 4,
 "nbformat_minor": 5
}
