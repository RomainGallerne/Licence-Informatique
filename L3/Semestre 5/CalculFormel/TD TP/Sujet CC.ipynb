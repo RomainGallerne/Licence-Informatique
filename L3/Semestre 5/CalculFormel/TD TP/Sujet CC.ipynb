{
 "cells": [
  {
   "cell_type": "markdown",
   "metadata": {
    "deletable": false,
    "editable": false,
    "run_control": {
     "frozen": true
    }
   },
   "source": [
    "# HAI507I Calcul formel et scientifique\n",
    "# Contrôle continu - mercredi 1er décembre 2021\n",
    "\n",
    "Ce sujet est constitué de deux exercices indépendants. Il est noté sur 20 points. La durée est d'1h30.\n",
    "\n",
    "Merci de rentrer vos nom et prénom ci-dessous :"
   ]
  },
  {
   "cell_type": "code",
   "execution_count": 1,
   "metadata": {},
   "outputs": [],
   "source": [
    "# Nom : \n",
    "# Prénom : "
   ]
  },
  {
   "cell_type": "code",
   "execution_count": null,
   "metadata": {
    "deletable": false,
    "editable": false,
    "run_control": {
     "frozen": true
    }
   },
   "outputs": [],
   "source": [
    "# Note : "
   ]
  },
  {
   "cell_type": "markdown",
   "metadata": {
    "deletable": false,
    "editable": false,
    "run_control": {
     "frozen": true
    }
   },
   "source": [
    "## Suites récurrentes sur un corps fini\n",
    "\n",
    "$\\newcommand{\\ZpZ}{\\mathbb Z/2\\mathbb Z}$\n",
    "On considère dans cet exercice des *suites récurrentes binaires*, c'est-à-dire des suites $(u_n)_{n≥0}$ d'éléments de $\\ZpZ$, définies par $k$ valeurs $u_0$, …, $u_{k-1}\\in\\ZpZ$ et la récurrence\n",
    "$$ u_{n+k} = \\alpha_0u_n + \\alpha_1 u_{n+1} + \\dotsb + \\alpha_{k-1} u_{n+k-1} \\tag{1}$$\n",
    "où $\\alpha_0$, …, $\\alpha_{k-1}\\in\\ZpZ$. Ces suites jouent un rôle majeur en cryptographie.\n",
    "\n",
    "**Exécuter la cellule suivante avant de commencer. Dans toute la suite, on pourra définir un élément de $\\ZpZ$ avec `Z2(0)` ou `Z2(1)`. Attention, il ne faut pas redéfinir la variable X.**"
   ]
  },
  {
   "cell_type": "code",
   "execution_count": 1,
   "metadata": {
    "deletable": false,
    "editable": false,
    "tags": [
     "sujet"
    ]
   },
   "outputs": [],
   "source": [
    "Z2 = GF(2)\n",
    "R.<X> = Z2[]"
   ]
  },
  {
   "cell_type": "markdown",
   "metadata": {
    "deletable": false,
    "editable": false,
    "run_control": {
     "frozen": true
    }
   },
   "source": [
    "### Question"
   ]
  },
  {
   "cell_type": "markdown",
   "metadata": {
    "deletable": false,
    "editable": false,
    "run_control": {
     "frozen": true
    }
   },
   "source": [
    "1. Écrire une fonction `liste(N, U, A)` qui prend en entrée un entier $N$, et deux listes $U = [u_0,…,u_{k-1}]$ et $A = [\\alpha_0, …, \\alpha_{k-1}]$ et renvoie la liste des $N$ premiers termes de la suite $(u_n)$ définie par la récurrence (1).\n",
    "\n",
    "1. On définit une suite $(v_n)_n$ par $v_0 = v_1 = v_2 = 1$ et $v_{n+3} = v_{n+2}+v_n$. Définir les listes `Uv` et `Av` correspondant à la suite $(v_n)_n$ et calculer `V1000 = liste(1000, Uv, Av)`. *Attention, `Uv` et `Av` doivent contenir des éléments de $\\ZpZ$.*"
   ]
  },
  {
   "cell_type": "code",
   "execution_count": 89,
   "metadata": {
    "code_folding": []
   },
   "outputs": [],
   "source": [
    "# Réponse 1.\n",
    "def liste(N, U, A):\n",
    "    termes = [u for u in U]\n",
    "    while(len(termes)<N):\n",
    "        nouveauU = 0\n",
    "        for i in range(len(A)):\n",
    "            nouveauU += A[i]*termes[(len(termes)-len(A))+i]\n",
    "        termes.append(Z2(nouveauU))\n",
    "    return termes[:N]"
   ]
  },
  {
   "cell_type": "code",
   "execution_count": 96,
   "metadata": {
    "scrolled": true
   },
   "outputs": [
    {
     "name": "stdout",
     "output_type": "stream",
     "text": [
      "[1, 1, 1, 0, 1, 0, 0, 1, 1, 1, 0, 1, 0, 0, 1, 1, 1, 0, 1, 0, 0, 1, 1, 1, 0, 1, 0, 0, 1, 1, 1, 0, 1, 0, 0, 1, 1, 1, 0, 1, 0, 0, 1, 1, 1, 0, 1, 0, 0, 1, 1, 1, 0, 1, 0, 0, 1, 1, 1, 0, 1, 0, 0, 1, 1, 1, 0, 1, 0, 0, 1, 1, 1, 0, 1, 0, 0, 1, 1, 1, 0, 1, 0, 0, 1, 1, 1, 0, 1, 0, 0, 1, 1, 1, 0, 1, 0, 0, 1, 1, 1, 0, 1, 0, 0, 1, 1, 1, 0, 1, 0, 0, 1, 1, 1, 0, 1, 0, 0, 1, 1, 1, 0, 1, 0, 0, 1, 1, 1, 0, 1, 0, 0, 1, 1, 1, 0, 1, 0, 0, 1, 1, 1, 0, 1, 0, 0, 1, 1, 1, 0, 1, 0, 0, 1, 1, 1, 0, 1, 0, 0, 1, 1, 1, 0, 1, 0, 0, 1, 1, 1, 0, 1, 0, 0, 1, 1, 1, 0, 1, 0, 0, 1, 1, 1, 0, 1, 0, 0, 1, 1, 1, 0, 1, 0, 0, 1, 1, 1, 0, 1, 0, 0, 1, 1, 1, 0, 1, 0, 0, 1, 1, 1, 0, 1, 0, 0, 1, 1, 1, 0, 1, 0, 0, 1, 1, 1, 0, 1, 0, 0, 1, 1, 1, 0, 1, 0, 0, 1, 1, 1, 0, 1, 0, 0, 1, 1, 1, 0, 1, 0, 0, 1, 1, 1, 0, 1, 0, 0, 1, 1, 1, 0, 1, 0, 0, 1, 1, 1, 0, 1, 0, 0, 1, 1, 1, 0, 1, 0, 0, 1, 1, 1, 0, 1, 0, 0, 1, 1, 1, 0, 1, 0, 0, 1, 1, 1, 0, 1, 0, 0, 1, 1, 1, 0, 1, 0, 0, 1, 1, 1, 0, 1, 0, 0, 1, 1, 1, 0, 1, 0, 0, 1, 1, 1, 0, 1, 0, 0, 1, 1, 1, 0, 1, 0, 0, 1, 1, 1, 0, 1, 0, 0, 1, 1, 1, 0, 1, 0, 0, 1, 1, 1, 0, 1, 0, 0, 1, 1, 1, 0, 1, 0, 0, 1, 1, 1, 0, 1, 0, 0, 1, 1, 1, 0, 1, 0, 0, 1, 1, 1, 0, 1, 0, 0, 1, 1, 1, 0, 1, 0, 0, 1, 1, 1, 0, 1, 0, 0, 1, 1, 1, 0, 1, 0, 0, 1, 1, 1, 0, 1, 0, 0, 1, 1, 1, 0, 1, 0, 0, 1, 1, 1, 0, 1, 0, 0, 1, 1, 1, 0, 1, 0, 0, 1, 1, 1, 0, 1, 0, 0, 1, 1, 1, 0, 1, 0, 0, 1, 1, 1, 0, 1, 0, 0, 1, 1, 1, 0, 1, 0, 0, 1, 1, 1, 0, 1, 0, 0, 1, 1, 1, 0, 1, 0, 0, 1, 1, 1, 0, 1, 0, 0, 1, 1, 1, 0, 1, 0, 0, 1, 1, 1, 0, 1, 0, 0, 1, 1, 1, 0, 1, 0, 0, 1, 1, 1, 0, 1, 0, 0, 1, 1, 1, 0, 1, 0, 0, 1, 1, 1, 0, 1, 0, 0, 1, 1, 1, 0, 1, 0, 0, 1, 1, 1, 0, 1, 0, 0, 1, 1, 1, 0, 1, 0, 0, 1, 1, 1, 0, 1, 0, 0, 1, 1, 1, 0, 1, 0, 0, 1, 1, 1, 0, 1, 0, 0, 1, 1, 1, 0, 1, 0, 0, 1, 1, 1, 0, 1, 0, 0, 1, 1, 1, 0, 1, 0, 0, 1, 1, 1, 0, 1, 0, 0, 1, 1, 1, 0, 1, 0, 0, 1, 1, 1, 0, 1, 0, 0, 1, 1, 1, 0, 1, 0, 0, 1, 1, 1, 0, 1, 0, 0, 1, 1, 1, 0, 1, 0, 0, 1, 1, 1, 0, 1, 0, 0, 1, 1, 1, 0, 1, 0, 0, 1, 1, 1, 0, 1, 0, 0, 1, 1, 1, 0, 1, 0, 0, 1, 1, 1, 0, 1, 0, 0, 1, 1, 1, 0, 1, 0, 0, 1, 1, 1, 0, 1, 0, 0, 1, 1, 1, 0, 1, 0, 0, 1, 1, 1, 0, 1, 0, 0, 1, 1, 1, 0, 1, 0, 0, 1, 1, 1, 0, 1, 0, 0, 1, 1, 1, 0, 1, 0, 0, 1, 1, 1, 0, 1, 0, 0, 1, 1, 1, 0, 1, 0, 0, 1, 1, 1, 0, 1, 0, 0, 1, 1, 1, 0, 1, 0, 0, 1, 1, 1, 0, 1, 0, 0, 1, 1, 1, 0, 1, 0, 0, 1, 1, 1, 0, 1, 0, 0, 1, 1, 1, 0, 1, 0, 0, 1, 1, 1, 0, 1, 0, 0, 1, 1, 1, 0, 1, 0, 0, 1, 1, 1, 0, 1, 0, 0, 1, 1, 1, 0, 1, 0, 0, 1, 1, 1, 0, 1, 0, 0, 1, 1, 1, 0, 1, 0, 0, 1, 1, 1, 0, 1, 0, 0, 1, 1, 1, 0, 1, 0, 0, 1, 1, 1, 0, 1, 0, 0, 1, 1, 1, 0, 1, 0, 0, 1, 1, 1, 0, 1, 0, 0, 1, 1, 1, 0, 1, 0, 0, 1, 1, 1, 0, 1, 0, 0, 1, 1, 1, 0, 1, 0, 0, 1, 1, 1, 0, 1, 0, 0, 1, 1, 1, 0, 1, 0, 0, 1, 1, 1, 0, 1, 0, 0, 1, 1, 1, 0, 1, 0, 0, 1, 1, 1, 0, 1, 0, 0, 1, 1, 1, 0, 1, 0, 0, 1, 1, 1, 0, 1, 0, 0, 1, 1, 1, 0, 1, 0, 0, 1, 1, 1, 0, 1, 0, 0, 1, 1, 1, 0, 1, 0, 0, 1, 1, 1, 0, 1, 0, 0, 1, 1, 1, 0, 1, 0, 0, 1, 1, 1, 0, 1, 0, 0, 1, 1, 1, 0, 1, 0, 0, 1, 1, 1, 0, 1, 0, 0, 1, 1, 1, 0, 1, 0, 0, 1, 1, 1, 0, 1, 0, 0, 1, 1, 1, 0, 1, 0, 0, 1, 1, 1, 0, 1, 0]\n"
     ]
    }
   ],
   "source": [
    "# Réponse 2.\n",
    "Uv = [1,1,1]\n",
    "Av = [1,0,1]\n",
    "V1000 = liste(1000, Uv, Av)\n",
    "print(V1000)"
   ]
  },
  {
   "cell_type": "code",
   "execution_count": 85,
   "metadata": {
    "deletable": false,
    "editable": false
   },
   "outputs": [
    {
     "data": {
      "text/plain": [
       "True"
      ]
     },
     "execution_count": 85,
     "metadata": {},
     "output_type": "execute_result"
    }
   ],
   "source": [
    "# Cellule de test (à exécuter uniquement)\n",
    "len(V1000)==1000 and V1000[-10:]==[Z2(e) for e in [0,1,0,0,1,1,1,0,1,0]]"
   ]
  },
  {
   "cell_type": "markdown",
   "metadata": {
    "deletable": false,
    "editable": false,
    "run_control": {
     "frozen": true
    }
   },
   "source": [
    "### Question\n",
    "\n",
    "On peut montrer que toute suite récurrente binaire telle que $\\alpha_{k-1} = 1$ est périodique, c'est-à-dire qu'il existe un entier $T$ tel que $u_{n+T} = u_n$ pour tout $n$. \n",
    "\n",
    "Pour trouver cette période, on peut utiliser la remarque suivante : comme $u_{n+k}$ ne dépend que de $u_{n}$, …, $u_{n+k-1}$, **la période $T$ est égale au plus petit indice $m$ tel que $[u_0,…,u_{k-1}] = [u_m,…,u_{m+k-1}]$**. \n",
    "\n",
    "*Par exemple, la suite $(v_n)_n$ est de période $7$, car $[v_0,v_1,v_2] = [v_7,v_8,v_9]$ et $[v_0,v_1,v_2]\\neq[v_i,v_{i+1},v_{i+2}]$ pour $0 < i < 7$.* \n",
    "\n",
    "1. Écrire une fonction `periode(U,A)` qui prend en entrée $U = [u_0,…,u_{k-1}]$ et $A = [\\alpha_0, …, \\alpha_{k-1}]$ et renvoie la période $T$ de la suite $(u_n)_n$. *Indication. Utiliser la remarque en gras.*\n",
    "\n",
    "1. Vérifier que votre fonction renvoie bien $7$ sur l'entrée `Uv`, `Av` correspondant à la suite $(v_n)_n$ de la question précédente.\n",
    "\n",
    "1. Calculer la période de la suite $(w_n)_n$ définie par $w_0 = w_1 = w_3 = 1$ et $w_2 = w_4 = w_5 = 0$, et $w_{n+6} = w_n + w_{n+3} + w_{n+4} + w_{n+5}$."
   ]
  },
  {
   "cell_type": "code",
   "execution_count": 118,
   "metadata": {},
   "outputs": [],
   "source": [
    "# Réponse 1.\n",
    "def periode(U,A):\n",
    "    tour = 0\n",
    "    L = []\n",
    "    while(1):\n",
    "        tour += 1\n",
    "        L = liste(len(U)+tour, U, A)\n",
    "        if(L[-len(U):] == U):\n",
    "            return tour"
   ]
  },
  {
   "cell_type": "code",
   "execution_count": 120,
   "metadata": {},
   "outputs": [
    {
     "name": "stdout",
     "output_type": "stream",
     "text": [
      "7\n"
     ]
    },
    {
     "data": {
      "text/plain": [
       "True"
      ]
     },
     "execution_count": 120,
     "metadata": {},
     "output_type": "execute_result"
    }
   ],
   "source": [
    "# Réponse 2.\n",
    "p = periode(Uv,Av)\n",
    "print(p)\n",
    "bool(p == 7)"
   ]
  },
  {
   "cell_type": "code",
   "execution_count": 133,
   "metadata": {},
   "outputs": [
    {
     "name": "stdout",
     "output_type": "stream",
     "text": [
      "15\n"
     ]
    }
   ],
   "source": [
    "# Réponse 3.\n",
    "Wn = [1,1,0,1,0,0]\n",
    "Aw = [1,0,0,1,1,1]\n",
    "p = periode(Wn,Aw)\n",
    "print(p)"
   ]
  },
  {
   "cell_type": "markdown",
   "metadata": {
    "deletable": false,
    "editable": false,
    "run_control": {
     "frozen": true
    }
   },
   "source": [
    "### Question\n",
    "\n",
    "On associe à une suite récurrente binaire $(u_n)_n$ de récurrence (1) un *polynôme $P_u$ à coefficients dans $\\ZpZ$* défini par \n",
    "$$P_u(X) = X^k + \\alpha_{k-1}X^{k-1} + \\alpha_{k-2}X^{k-2}+ \\dotsb + \\alpha_1X+\\alpha_0.$$ \n",
    "\n",
    "On peut calculer la période $T$ de $(u_n)_n$ à partir de $P_u$ : $T$ est égale au plus petit exposant $e$ tel que $P_u$ divise le polynôme $X^e-1$.\n",
    "\n",
    "*Indication `SageMath` : si `P` et `Q` sont deux polynômes, `P.divides(Q)` renvoie `True` si $P$ divise $Q$, et `False` sinon.*\n",
    "\n",
    "1. Écrire une fonction `poly(A)` qui prend en entrée la liste $A = [\\alpha_0,…,\\alpha_{k-1}]$ et renvoie le polynôme $P_u$ correspondant.\n",
    "\n",
    "1. Écrire une fonction `periode_poly(A)` qui calcule la période de la suite $(u_n)_n$ en utilisant le polynôme associé à $(u_n)_n$.\n",
    "\n",
    "1. Re-calculer la période des deux suites $v$ (de la question 1.) et $w$ (de la question 2.) à l'aide de `periode_poly`.\n",
    "\n"
   ]
  },
  {
   "cell_type": "code",
   "execution_count": 144,
   "metadata": {},
   "outputs": [],
   "source": [
    "# Réponse 1.\n",
    "def poly(A):\n",
    "    var('x')\n",
    "    R.<x> = Z2[]\n",
    "    P = 0\n",
    "    for i in range(len(A)):\n",
    "        P += A[i]*x^i\n",
    "    P += x^(len(A))\n",
    "    return P"
   ]
  },
  {
   "cell_type": "code",
   "execution_count": 147,
   "metadata": {},
   "outputs": [],
   "source": [
    "# Réponse 2.\n",
    "def periode_poly(A):\n",
    "    var('x')\n",
    "    R.<x> = Z2[]\n",
    "    P = poly(A)\n",
    "    Q = 0\n",
    "    e = 0\n",
    "    while(1):\n",
    "        e += 1\n",
    "        Q = x^e - 1\n",
    "        if(P.divides(Q)):\n",
    "            return e"
   ]
  },
  {
   "cell_type": "code",
   "execution_count": 148,
   "metadata": {},
   "outputs": [
    {
     "name": "stdout",
     "output_type": "stream",
     "text": [
      "7\n",
      "15\n"
     ]
    }
   ],
   "source": [
    "# Réponse 3.\n",
    "print(periode_poly(Av))\n",
    "print(periode_poly(Aw))"
   ]
  },
  {
   "cell_type": "markdown",
   "metadata": {
    "deletable": false,
    "editable": false,
    "run_control": {
     "frozen": true
    }
   },
   "source": [
    "## Calcul de cercles circonscrits\n",
    "\n",
    "En géométrie dans le plan, un cercle de rayon $r$ centré en l'origine $(0,0)$ correspond à l'ensemble des points $P$ de coordonnées $(p_x,p_y)$ qui se trouvent à une distance $r$ de l'origine. Grâce au théorème de Pythagore, on sait que la distance d'un point $P$ à l'origine est $\\sqrt{p_x^2+p_y^2}$. Par conséquent on peut définir ce cercle par l'ensemble des points $P$ vérifiant l'équation $p_x^2+p_y^2 = r^2$. \n",
    "\n",
    "Cela revient à dire que le cercle est déterminé par l'équation $x^2+y^2=r^2$. Exécuter la cellule suivante pour obtenir un dessin qui illustre le principe."
   ]
  },
  {
   "cell_type": "code",
   "execution_count": 149,
   "metadata": {
    "deletable": false,
    "editable": false,
    "scrolled": false
   },
   "outputs": [
    {
     "name": "stderr",
     "output_type": "stream",
     "text": [
      "Widget Javascript not detected.  It may not be installed or enabled properly. Reconnecting the current kernel may help.\n"
     ]
    },
    {
     "data": {
      "application/vnd.jupyter.widget-view+json": {
       "model_id": "0bb1b0e82209456cb19c13d89d88eeaa"
      }
     },
     "metadata": {},
     "output_type": "display_data"
    }
   ],
   "source": [
    "c=(0,0)\n",
    "r=4\n",
    "@interact \n",
    "def _(x0=slider(-r,r, step_size=.3),neg=checkbox(False, label='negative')):\n",
    "    if (neg) : \n",
    "        y0=-sqrt(r^2-x0^2)\n",
    "    else :\n",
    "        y0=sqrt(r^2-x0^2)\n",
    "    return circle(c,r)+point([x0,y0],color=\"red\",size=50)+polygon([(0,0),(x0,0),(x0,y0)],fill=false,color=\"green\")"
   ]
  },
  {
   "cell_type": "markdown",
   "metadata": {
    "deletable": false,
    "editable": false,
    "run_control": {
     "frozen": true
    }
   },
   "source": [
    "De manière plus générale, l'équation d'un cercle de rayon $r$ centré en un point de coordonnées $(o_x,o_y)$ s'écrit \n",
    "$$(x-o_x)^2+(y-o_y)^2 = r^2.$$\n",
    "Cette équation peut être réécrite comme suit:\n",
    "$$ \\begin{cases} x^2+y^2 &= 2o_xx+2o_yy  - \\alpha  \\\\ \\alpha &=o_x^2+o_y^2-r^2 \\end{cases}$$"
   ]
  },
  {
   "cell_type": "markdown",
   "metadata": {
    "deletable": false,
    "editable": false,
    "run_control": {
     "frozen": true
    }
   },
   "source": [
    "### Question \n",
    "Soit un cercle $C$ de rayon 5 et de centre $(3,1)$.\n",
    " 1. Déterminer parmi les points suivants   [(-1,-2), (0,6), (3,6), (2,6), (7,-2), (6,4.99), (3,6)]   ceux qui appartiennent à ce cercle. Vous devrez utiliser du calcul pour vérifier l'appartenance au cercle.\n",
    " 1. Afficher le cercle $C$ et les points qui appartiennent au cercle. Vous pourrez utiliser la fonction `circle` (voir graphique ci-dessus)."
   ]
  },
  {
   "cell_type": "code",
   "execution_count": 157,
   "metadata": {},
   "outputs": [
    {
     "name": "stdout",
     "output_type": "stream",
     "text": [
      "[[-1, -2], [3, 6], [7, -2], [3, 6]]\n"
     ]
    }
   ],
   "source": [
    "# Réponse 1.\n",
    "P = [[-1,-2],[0,6],[3,6],[2,6],[7,-2],[6,4.99],[3,6]]\n",
    "Q = []\n",
    "for p in P:\n",
    "    if(5^2 == (p[0]-3)^2 + (p[1]-1)^2):\n",
    "        Q.append(p)\n",
    "print(Q)"
   ]
  },
  {
   "cell_type": "code",
   "execution_count": 158,
   "metadata": {},
   "outputs": [
    {
     "data": {
      "image/png": "[encoded data removed]",
      "text/plain": [
       "Graphics object consisting of 2 graphics primitives"
      ]
     },
     "metadata": {},
     "output_type": "display_data"
    }
   ],
   "source": [
    "# Réponse 2.\n",
    "graph = circle((3,1),5)+point(Q,color=\"red\",size=30)\n",
    "show(graph)"
   ]
  },
  {
   "cell_type": "markdown",
   "metadata": {
    "deletable": false,
    "editable": false,
    "run_control": {
     "frozen": true
    }
   },
   "source": [
    "### Question\n",
    "\n",
    "Étant donné trois points distincts $A,B,C \\in \\mathbf{R}^2$ (non alignés), il est toujours possible de trouver un cercle qui passe par ces trois points. En effet, la théorie du cercle circonscrit à un triangle nous indique que les médiatrices des segments $[AB]$, $[BC]$ et $[AC]$ se coupent en un point qui est équidistant à $A$, $B$ et $C$. Ce point est par conséquent le centre d'un cercle qui passe par les points $A,B$ et $C$.\n",
    "\n",
    "Une façon de trouver le centre et le rayon du cercle circonscrit est de passer par l'algèbre linéaire. En effet, l'équation d'un cercle est $$ \\begin{cases} x^2+y^2 &= & 2o_xx+2o_yy  - \\alpha  \\\\ \\alpha&=&o_x^2+o_y^2-r^2 \\end{cases}$$\n",
    "\n",
    "Si $A,B$ et $C$ sont sur un cercle de rayon $r$ de centre $(o_x,o_y)$ alors ils vérifient son équation. Ceci peut se réécrire comme le système linéaire suivant :\n",
    "\n",
    "$$\n",
    "\\begin{bmatrix}\n",
    "2x_A & 2 y_A & -1 \\\\\n",
    "2x_B & 2 y_B & -1 \\\\\n",
    "2x_C & 2 y_C & -1 \\\\\n",
    "\\end{bmatrix}\n",
    "\\times\n",
    "\\begin{bmatrix}\n",
    "o_x \\\\\n",
    "o_y \\\\\n",
    "\\alpha\n",
    "\\end{bmatrix}\n",
    "=\n",
    "\\begin{bmatrix}\n",
    "x_A^2+y_A^2 \\\\\n",
    "x_B^2+y_B^2 \\\\\n",
    "x_C^2+y_C^2\n",
    "\\end{bmatrix}\n",
    "$$\n",
    "où $A=(x_A, y_A),B=(x_B, y_B),C=(x_C, y_C)$.  \n",
    "\n",
    "Par conséquent, nous pouvons retrouver les coordonnées du centre $(o_x,o_y)$ du cercle passant par les points $A,B$ et $C$ en résolvant ce système. Le calcul du rayon nécessitera de calculer la valeur $r=\\sqrt{o_x^2+o_y^2-\\alpha}$, une fois que le centre $(o_x,o_y)$ est trouvé."
   ]
  },
  {
   "cell_type": "markdown",
   "metadata": {
    "deletable": false,
    "editable": false,
    "run_control": {
     "frozen": true
    }
   },
   "source": [
    "1. Écrire une fonction `systeme` qui prend en entrée trois points $A$, $B$ et $C$ et renvoie la matrice $\\left(\\begin{smallmatrix}\n",
    "2x_A & 2 y_A & -1 \\\\\n",
    "2x_B & 2 y_B & -1 \\\\\n",
    "2x_C & 2 y_C & -1 \\\\\n",
    "\\end{smallmatrix}\\right)$ et le vecteur \n",
    "$\\left(\\begin{smallmatrix}\n",
    "x_A^2+y_A^2 \\\\\n",
    "x_B^2+y_B^2 \\\\\n",
    "x_C^2+y_C^2\n",
    "\\end{smallmatrix}\\right)$.\n",
    "1. Écrire une fonction `findCircle` qui prend en entrée 3 points et qui retourne le centre et le rayon.\n",
    "1. Appliquer `findCircle` avec les points A=(3,5), B=(-2,1) et C=(4,-5).\n",
    "1. Faites un dessin qui affiche les 3 points en rouge, le cercle en bleu et son centre O en orange."
   ]
  },
  {
   "cell_type": "code",
   "execution_count": 1,
   "metadata": {},
   "outputs": [],
   "source": [
    "# Réponse 1.\n",
    "def systeme(A,B,C):\n",
    "    M = matrix([[2*A[0],2*A[1],-1],[2*B[0],2*B[1],-1],[2*C[0],2*C[1],-1]])\n",
    "    V = matrix([[A[0]^2 + A[1]^2],[B[0]^2 + B[1]^2],[C[0]^2 + C[1]^2]])\n",
    "    return M,V"
   ]
  },
  {
   "cell_type": "code",
   "execution_count": 31,
   "metadata": {},
   "outputs": [],
   "source": [
    "# Réponse 2.\n",
    "def findCircle(A,B,C):\n",
    "    M,V = systeme(A,B,C)\n",
    "    X = M.solve_right(V) #X les point centraux du cercle\n",
    "    Ox,Oy,a = X[0],X[1],X[2]\n",
    "    r = sqrt(Ox[0]^2 + Oy[0]^2 - a[0])\n",
    "    return (Ox[0],Oy[0]),r"
   ]
  },
  {
   "cell_type": "code",
   "execution_count": 32,
   "metadata": {},
   "outputs": [
    {
     "name": "stdout",
     "output_type": "stream",
     "text": [
      "o = (1.12264150943396, 2.22169811320755) \n",
      " r = 3.35312336132372\n"
     ]
    }
   ],
   "source": [
    "# Réponse 3.\n",
    "o,r = findCircle([3,5],[-2,1],[4,.5])\n",
    "print(\"o =\",o,\"\\n r =\",r)"
   ]
  },
  {
   "cell_type": "code",
   "execution_count": 36,
   "metadata": {},
   "outputs": [
    {
     "data": {
      "image/png": "[encoded data removed]",
      "text/plain": [
       "Graphics object consisting of 3 graphics primitives"
      ]
     },
     "metadata": {},
     "output_type": "display_data"
    }
   ],
   "source": [
    "# Réponse 4.\n",
    "P = [[3,5],[-2,1],[4,.5]]\n",
    "graph = circle(o,r)+point(P,color=\"red\",size=30)+point(o,color=\"orange\",size=30)\n",
    "show(graph)"
   ]
  },
  {
   "cell_type": "markdown",
   "metadata": {
    "deletable": false,
    "editable": false,
    "run_control": {
     "frozen": true
    }
   },
   "source": [
    "### Question bonus\n",
    "\n",
    "Nous considérons maintenant le problème de trouver un cercle qui passe par plus de trois points. De manière générale, il n'existe pas de solution à ce problème. Une approche possible consiste donc à trouver un cercle qui passe au plus proche des points donnés. Pour cela, nous pouvons appliquer la méthode des moindres carrés vue en TP."
   ]
  },
  {
   "cell_type": "markdown",
   "metadata": {
    "deletable": false,
    "editable": false,
    "run_control": {
     "frozen": true
    }
   },
   "source": [
    "1. Écrire une fonction `findApproximateCircle` qui retourne le centre et le rayon du cercle le plus proche (au sens des moindres carrés) d'une liste de points.  **Indication: votre fonction doit utiliser la résolution d'un système linéaire.**\n",
    "1. Afficher les points (-1,-2), (0,6), (3,6), (2,6), (7,-2), (6,4.99), (3,6) et le cercle qui passe au plus proche d'eux."
   ]
  },
  {
   "cell_type": "code",
   "execution_count": null,
   "metadata": {},
   "outputs": [],
   "source": [
    "# Réponse 1."
   ]
  },
  {
   "cell_type": "code",
   "execution_count": null,
   "metadata": {},
   "outputs": [],
   "source": [
    "# Réponse 2.\n"
   ]
  }
 ],
 "metadata": {
  "celltoolbar": "Aucun(e)",
  "kernelspec": {
   "display_name": "SageMath 9.5",
   "language": "sage",
   "name": "sagemath"
  },
  "language_info": {
   "codemirror_mode": {
    "name": "ipython",
    "version": 3
   },
   "file_extension": ".py",
   "mimetype": "text/x-python",
   "name": "python",
   "nbconvert_exporter": "python",
   "pygments_lexer": "ipython3",
   "version": "3.10.6"
  },
  "toc": {
   "base_numbering": 1,
   "nav_menu": {},
   "number_sections": true,
   "sideBar": true,
   "skip_h1_title": true,
   "title_cell": "Table of Contents",
   "title_sidebar": "Contents",
   "toc_cell": false,
   "toc_position": {
    "height": "904.867px",
    "left": "0px",
    "right": "1413px",
    "top": "111.133px",
    "width": "212px"
   },
   "toc_section_display": "block",
   "toc_window_display": true
  },
  "varInspector": {
   "cols": {
    "lenName": 16,
    "lenType": 16,
    "lenVar": 40
   },
   "kernels_config": {
    "python": {
     "delete_cmd_postfix": "",
     "delete_cmd_prefix": "del ",
     "library": "var_list.py",
     "varRefreshCmd": "print(var_dic_list())"
    },
    "r": {
     "delete_cmd_postfix": ") ",
     "delete_cmd_prefix": "rm(",
     "library": "var_list.r",
     "varRefreshCmd": "cat(var_dic_list()) "
    }
   },
   "types_to_exclude": [
    "module",
    "function",
    "builtin_function_or_method",
    "instance",
    "_Feature"
   ],
   "window_display": false
  }
 },
 "nbformat": 4,
 "nbformat_minor": 4
}
