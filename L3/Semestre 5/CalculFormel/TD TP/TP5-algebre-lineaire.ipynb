{
 "cells": [
  {
   "cell_type": "code",
   "execution_count": 0,
   "metadata": {},
   "outputs": [],
   "source": []
  },
  {
   "cell_type": "markdown",
   "metadata": {
    "deletable": false,
    "editable": false,
    "run_control": {
     "frozen": true
    }
   },
   "source": [
    "\n",
    "# TP Matrices et Vecteurs: un peu d'algèbre linéaire\n",
    "\n",
    "Durant cette séance nous nous intéressons à la manipulation de matrices et de vecteurs et nous aborderons des concepts généraux en algèbre linéaire.\n",
    "\n",
    "## Introduction\n",
    "\n",
    "### Matrices\n",
    "Tout d'abord notons que la création d'une matrice $A$ de dimension $m \\times n$ en Sage s'obtient par la commande \n",
    "\n",
    "`A=matrix(m,n,[[ligne1],[ligne2],...,lignem]])`\n",
    "\n",
    "ou m est le nombre de ligne et n le nombre d'éléments dans une ligne (autrement dit n est le nombre de colonne). Par défaut, les éléments de cette matrice seront considérés dans le domaine de définition des éléments passé dans les lignes. Si m et n sont spécifiés on peut simplement donner une seule liste de valeurs (pas besoin de liste de liste)."
   ]
  },
  {
   "cell_type": "code",
   "execution_count": 2,
   "metadata": {
    "tags": [
     "sujet"
    ]
   },
   "outputs": [
    {
     "name": "stdout",
     "output_type": "stream",
     "text": [
      "éléments de A1 : Integer Ring\n",
      "éléments de A2 : Real Field with 53 bits of precision\n",
      "éléments de A3 : Rational Field\n",
      "éléments de A4 : Symbolic Ring\n",
      "éléments de A5 : Integer Ring\n"
     ]
    },
    {
     "data": {
      "text/html": [
       "<html><script type=\"math/tex; mode=display\">\\newcommand{\\Bold}[1]{\\mathbf{#1}}\\left(\\begin{array}{rr}\n",
       "1 & 2 \\\\\n",
       "3 & 4\n",
       "\\end{array}\\right) \\left(\\begin{array}{rr}\n",
       "1.00000000000000 & 2.00000000000000 \\\\\n",
       "3.00000000000000 & 4.00000000000000\n",
       "\\end{array}\\right) \\left(\\begin{array}{rr}\n",
       "\\frac{1}{7} & \\frac{2}{5} \\\\\n",
       "\\frac{3}{8} & \\frac{4}{5}\n",
       "\\end{array}\\right) \\left(\\begin{array}{rr}\n",
       "a & b \\\\\n",
       "c & d\n",
       "\\end{array}\\right) \\left(\\begin{array}{rrr}\n",
       "0 & 0 & 0 \\\\\n",
       "0 & 0 & 0\n",
       "\\end{array}\\right)</script></html>"
      ],
      "text/latex": [
       "$$\\newcommand{\\Bold}[1]{\\mathbf{#1}}\\left(\\begin{array}{rr}\n",
       "1 & 2 \\\\\n",
       "3 & 4\n",
       "\\end{array}\\right) \\left(\\begin{array}{rr}\n",
       "1.00000000000000 & 2.00000000000000 \\\\\n",
       "3.00000000000000 & 4.00000000000000\n",
       "\\end{array}\\right) \\left(\\begin{array}{rr}\n",
       "\\frac{1}{7} & \\frac{2}{5} \\\\\n",
       "\\frac{3}{8} & \\frac{4}{5}\n",
       "\\end{array}\\right) \\left(\\begin{array}{rr}\n",
       "a & b \\\\\n",
       "c & d\n",
       "\\end{array}\\right) \\left(\\begin{array}{rrr}\n",
       "0 & 0 & 0 \\\\\n",
       "0 & 0 & 0\n",
       "\\end{array}\\right)$$"
      ],
      "text/plain": [
       "[1 2]\n",
       "[3 4] [1.00000000000000 2.00000000000000]\n",
       "[3.00000000000000 4.00000000000000] [1/7 2/5]\n",
       "[3/8 4/5] [a b]\n",
       "[c d] [0 0 0]\n",
       "[0 0 0]"
      ]
     },
     "metadata": {},
     "output_type": "display_data"
    }
   ],
   "source": [
    "A1=Matrix(2,2,[[1,2],[3,4]]) # matrice sur des entiers (multiprécision)\n",
    "A2=Matrix(2,2,[[1.0,2.0],[3.0,4.0]]) # matrice sur des flottants (double précision)\n",
    "A3=Matrix(2,2,[1/7,2/5,3/8,4/5]) # matrice sur des rationnels (multiprécision)\n",
    "var('a b c d')\n",
    "A4=Matrix([[a,b],[c,d]]) # matrice sur des symboles\n",
    "A5=Matrix(2,3) # matrice nulle sur des entiers par défaut\n",
    "\n",
    "print(\"éléments de A1 :\",A1.base_ring())\n",
    "print(\"éléments de A2 :\",A2.base_ring())\n",
    "print(\"éléments de A3 :\",A3.base_ring())\n",
    "print(\"éléments de A4 :\",A4.base_ring())\n",
    "print(\"éléments de A5 :\",A5.base_ring())\n",
    "\n",
    "show(A1,A2,A3,A4,A5)"
   ]
  },
  {
   "cell_type": "markdown",
   "metadata": {
    "deletable": false,
    "editable": false,
    "run_control": {
     "frozen": true
    }
   },
   "source": [
    "- si les éléments sont différents, la coercion de type la plus englobante sera utilisée\n",
    "- si on souhaite un type particulier, on spécifit le domaine des définitions des éléments comme premier argument"
   ]
  },
  {
   "cell_type": "code",
   "execution_count": 3,
   "metadata": {
    "tags": [
     "sujet"
    ]
   },
   "outputs": [
    {
     "name": "stdout",
     "output_type": "stream",
     "text": [
      "éléments de A6: Symbolic Ring\n",
      "éléments de A7 : Rational Field\n",
      "éléments de A8 : Real Field with 53 bits of precision\n"
     ]
    },
    {
     "data": {
      "text/html": [
       "<html><script type=\"math/tex; mode=display\">\\newcommand{\\Bold}[1]{\\mathbf{#1}}\\left(\\begin{array}{rr}\n",
       "1 & 2.00000000000000 \\\\\n",
       "\\frac{3}{4} & a\n",
       "\\end{array}\\right) \\left(\\begin{array}{rrr}\n",
       "0 & 0 & 0 \\\\\n",
       "0 & 0 & 0\n",
       "\\end{array}\\right) \\left(\\begin{array}{rr}\n",
       "1.00000000000000 & 2.30000000000000 \\\\\n",
       "0.750000000000000 & -1.00000000000000\n",
       "\\end{array}\\right)</script></html>"
      ],
      "text/latex": [
       "$$\\newcommand{\\Bold}[1]{\\mathbf{#1}}\\left(\\begin{array}{rr}\n",
       "1 & 2.00000000000000 \\\\\n",
       "\\frac{3}{4} & a\n",
       "\\end{array}\\right) \\left(\\begin{array}{rrr}\n",
       "0 & 0 & 0 \\\\\n",
       "0 & 0 & 0\n",
       "\\end{array}\\right) \\left(\\begin{array}{rr}\n",
       "1.00000000000000 & 2.30000000000000 \\\\\n",
       "0.750000000000000 & -1.00000000000000\n",
       "\\end{array}\\right)$$"
      ],
      "text/plain": [
       "[               1 2.00000000000000]\n",
       "[             3/4                a] [0 0 0]\n",
       "[0 0 0] [ 1.00000000000000  2.30000000000000]\n",
       "[0.750000000000000 -1.00000000000000]"
      ]
     },
     "metadata": {},
     "output_type": "display_data"
    }
   ],
   "source": [
    "A6=Matrix([[1,2.0],[3/4,a]]) # coercion automatique\n",
    "A7=Matrix(QQ,2,3) # force les éléments -> rationnel\n",
    "A8=Matrix(RR,[[1,2.3],[3/4,-1]]) # force les éléments -> nbr flottant (double)\n",
    "\n",
    "print(\"éléments de A6:\",A6.base_ring())\n",
    "print(\"éléments de A7 :\",A7.base_ring())\n",
    "print(\"éléments de A8 :\",A8.base_ring())\n",
    "\n",
    "show(A6,A7,A8)"
   ]
  },
  {
   "cell_type": "markdown",
   "metadata": {
    "deletable": false,
    "editable": false,
    "run_control": {
     "frozen": true
    }
   },
   "source": [
    "### Vecteurs\n",
    "Cela marche de manière identique pour les vecteurs avec la commande\n",
    "\n",
    "`vector([e1,e2,...,em])`\n",
    "\n",
    "Les vecteurs ne sont pas orientés, ils sont à la fois ligne et colonnes, le choix se fera selon le contexte. \n",
    "Si l'on souhaite créer des vecteurs d'une certaine dimension il faudra toujours donner le domaine de définition des coefficients.\n",
    "\n",
    "`vector(DD, [e1,e2,...,em])` ou `vector(DD,m)`\n",
    "\n",
    "Si l'on souhaite orienter un vecteur, il suffira de créer une matrice à 1 ligne ou 1 colonne. "
   ]
  },
  {
   "cell_type": "code",
   "execution_count": 4,
   "metadata": {
    "tags": [
     "sujet"
    ]
   },
   "outputs": [
    {
     "name": "stdout",
     "output_type": "stream",
     "text": [
      "éléments de v1: Integer Ring\n",
      "éléments de v2: Symbolic Ring\n",
      "éléments de v3: Real Field with 53 bits of precision\n",
      "éléments de v4: Rational Field\n"
     ]
    },
    {
     "data": {
      "text/html": [
       "<html><script type=\"math/tex; mode=display\">\\newcommand{\\Bold}[1]{\\mathbf{#1}}\\left(1,\\,2\\right) \\left(1,\\,2\\right) \\left(0.333333333333333,\\,2.00000000000000,\\,5.00000000000000\\right) \\left(0,\\,0\\right) \\left(\\begin{array}{rrr}\n",
       "0.333333333333333 & 2.00000000000000 & 5.00000000000000\n",
       "\\end{array}\\right) \\left(\\begin{array}{r}\n",
       "0.333333333333333 \\\\\n",
       "2.00000000000000 \\\\\n",
       "5.00000000000000\n",
       "\\end{array}\\right)</script></html>"
      ],
      "text/latex": [
       "$$\\newcommand{\\Bold}[1]{\\mathbf{#1}}\\left(1,\\,2\\right) \\left(1,\\,2\\right) \\left(0.333333333333333,\\,2.00000000000000,\\,5.00000000000000\\right) \\left(0,\\,0\\right) \\left(\\begin{array}{rrr}\n",
       "0.333333333333333 & 2.00000000000000 & 5.00000000000000\n",
       "\\end{array}\\right) \\left(\\begin{array}{r}\n",
       "0.333333333333333 \\\\\n",
       "2.00000000000000 \\\\\n",
       "5.00000000000000\n",
       "\\end{array}\\right)$$"
      ],
      "text/plain": [
       "(1, 2) (1, 2) (0.333333333333333, 2.00000000000000, 5.00000000000000) (0, 0) [0.333333333333333  2.00000000000000  5.00000000000000] [0.333333333333333]\n",
       "[ 2.00000000000000]\n",
       "[ 5.00000000000000]"
      ]
     },
     "metadata": {},
     "output_type": "display_data"
    }
   ],
   "source": [
    "v1=vector([1,2])\n",
    "v2=vector(SR,[1,2])\n",
    "v3=vector(RR,[1/3,2,5])\n",
    "v4=vector(QQ,2)\n",
    "\n",
    "print(\"éléments de v1:\",v1.base_ring())\n",
    "print(\"éléments de v2:\",v2.base_ring())\n",
    "print(\"éléments de v3:\",v3.base_ring())\n",
    "print(\"éléments de v4:\",v4.base_ring())\n",
    "\n",
    "v3R=Matrix(1,3,v3)\n",
    "v3C=Matrix(3,1,v3)\n",
    "\n",
    "show(v1,v2,v3,v4,v3R,v3C)"
   ]
  },
  {
   "cell_type": "markdown",
   "metadata": {
    "deletable": false,
    "editable": false,
    "run_control": {
     "frozen": true
    }
   },
   "source": [
    "## Multiplication\n",
    "\n",
    "L'operateur `*` permet de faire la multiplication des matrices et des vecteurs comme suit:\n",
    "- un vecteur ligne avec un matrice: `v*A`\n",
    "- une matrice avec un vecteur colonne: `A*v`\n",
    "- un vecteur ligne avec un vecteur colonne (produit scalaire): `v1*v2`\n",
    "- un vecteur colonne avec un vecteur ligne (produit ouvert): `v2*v1`\n",
    "- un vecteur ou une matrice avec un scalaire : `a*A` ou `a*v` \n",
    "\n",
    "### Question\n",
    "À partir des matrices et des vecteurs suivants donner tous les produits possibles et afficher le domaine parmi (`ZZ`,`QQ`,`SR`) dans lequel a été effectué le calcul\n",
    "$$\n",
    "A=\\begin{pmatrix} 1&2&3\\\\4&5&6\\end{pmatrix}, B=\\begin{pmatrix} 3&6&9\\\\1&2&4\\\\1&2&3\\end{pmatrix}, u=\\begin{pmatrix} 1&x&x^2 \\end{pmatrix}, v=\\begin{pmatrix} 8\\\\5 \\\\ 7/3\\end{pmatrix}\n",
    "$$\n"
   ]
  },
  {
   "cell_type": "code",
   "execution_count": 44,
   "metadata": {},
   "outputs": [
    {
     "data": {
      "text/html": [
       "<html><script type=\"math/tex; mode=display\">\\newcommand{\\Bold}[1]{\\mathbf{#1}}\\verb|A*B|\\verb| |\\verb|=| \\left(\\begin{array}{rrr}\n",
       "8 & 16 & 26 \\\\\n",
       "23 & 46 & 74\n",
       "\\end{array}\\right)  \\Bold{Z}</script></html>"
      ],
      "text/latex": [
       "$$\\newcommand{\\Bold}[1]{\\mathbf{#1}}\\verb|A*B|\\verb| |\\verb|=| \\left(\\begin{array}{rrr}\n",
       "8 & 16 & 26 \\\\\n",
       "23 & 46 & 74\n",
       "\\end{array}\\right)  \\Bold{Z}$$"
      ],
      "text/plain": [
       "'A*B = ' [ 8 16 26]\n",
       "[23 46 74] ' ' Integer Ring"
      ]
     },
     "metadata": {},
     "output_type": "display_data"
    },
    {
     "data": {
      "text/html": [
       "<html><script type=\"math/tex; mode=display\">\\newcommand{\\Bold}[1]{\\mathbf{#1}}\\verb|A*vV|\\verb| |\\verb|=| \\left(\\begin{array}{r}\n",
       "25 \\\\\n",
       "71\n",
       "\\end{array}\\right)  \\Bold{Q}</script></html>"
      ],
      "text/latex": [
       "$$\\newcommand{\\Bold}[1]{\\mathbf{#1}}\\verb|A*vV|\\verb| |\\verb|=| \\left(\\begin{array}{r}\n",
       "25 \\\\\n",
       "71\n",
       "\\end{array}\\right)  \\Bold{Q}$$"
      ],
      "text/plain": [
       "'A*vV = ' [25]\n",
       "[71] ' ' Rational Field"
      ]
     },
     "metadata": {},
     "output_type": "display_data"
    },
    {
     "data": {
      "text/html": [
       "<html><script type=\"math/tex; mode=display\">\\newcommand{\\Bold}[1]{\\mathbf{#1}}\\verb|B*B|\\verb| |\\verb|=| \\left(\\begin{array}{rrr}\n",
       "24 & 48 & 78 \\\\\n",
       "9 & 18 & 29 \\\\\n",
       "8 & 16 & 26\n",
       "\\end{array}\\right)  \\Bold{Z}</script></html>"
      ],
      "text/latex": [
       "$$\\newcommand{\\Bold}[1]{\\mathbf{#1}}\\verb|B*B|\\verb| |\\verb|=| \\left(\\begin{array}{rrr}\n",
       "24 & 48 & 78 \\\\\n",
       "9 & 18 & 29 \\\\\n",
       "8 & 16 & 26\n",
       "\\end{array}\\right)  \\Bold{Z}$$"
      ],
      "text/plain": [
       "'B*B = ' [24 48 78]\n",
       "[ 9 18 29]\n",
       "[ 8 16 26] ' ' Integer Ring"
      ]
     },
     "metadata": {},
     "output_type": "display_data"
    },
    {
     "data": {
      "text/html": [
       "<html><script type=\"math/tex; mode=display\">\\newcommand{\\Bold}[1]{\\mathbf{#1}}\\verb|B*vV|\\verb| |\\verb|=| \\left(\\begin{array}{r}\n",
       "75 \\\\\n",
       "\\frac{82}{3} \\\\\n",
       "25\n",
       "\\end{array}\\right)  \\Bold{Q}</script></html>"
      ],
      "text/latex": [
       "$$\\newcommand{\\Bold}[1]{\\mathbf{#1}}\\verb|B*vV|\\verb| |\\verb|=| \\left(\\begin{array}{r}\n",
       "75 \\\\\n",
       "\\frac{82}{3} \\\\\n",
       "25\n",
       "\\end{array}\\right)  \\Bold{Q}$$"
      ],
      "text/plain": [
       "'B*vV = ' [  75]\n",
       "[82/3]\n",
       "[  25] ' ' Rational Field"
      ]
     },
     "metadata": {},
     "output_type": "display_data"
    },
    {
     "data": {
      "text/html": [
       "<html><script type=\"math/tex; mode=display\">\\newcommand{\\Bold}[1]{\\mathbf{#1}}\\verb|u*B|\\verb| |\\verb|=| \\left(\\begin{array}{rrr}\n",
       "x^{2} + x + 3 & 2 \\, x^{2} + 2 \\, x + 6 & 3 \\, x^{2} + 4 \\, x + 9\n",
       "\\end{array}\\right)  \\text{SR}</script></html>"
      ],
      "text/latex": [
       "$$\\newcommand{\\Bold}[1]{\\mathbf{#1}}\\verb|u*B|\\verb| |\\verb|=| \\left(\\begin{array}{rrr}\n",
       "x^{2} + x + 3 & 2 \\, x^{2} + 2 \\, x + 6 & 3 \\, x^{2} + 4 \\, x + 9\n",
       "\\end{array}\\right)  \\text{SR}$$"
      ],
      "text/plain": [
       "'u*B = ' [    x^2 + x + 3 2*x^2 + 2*x + 6 3*x^2 + 4*x + 9] ' ' Symbolic Ring"
      ]
     },
     "metadata": {},
     "output_type": "display_data"
    },
    {
     "data": {
      "text/html": [
       "<html><script type=\"math/tex; mode=display\">\\newcommand{\\Bold}[1]{\\mathbf{#1}}\\verb|u*v|\\verb| |\\verb|=| \\left(\\begin{array}{r}\n",
       "\\frac{7}{3} \\, x^{2} + 5 \\, x + 8\n",
       "\\end{array}\\right)  \\text{SR}</script></html>"
      ],
      "text/latex": [
       "$$\\newcommand{\\Bold}[1]{\\mathbf{#1}}\\verb|u*v|\\verb| |\\verb|=| \\left(\\begin{array}{r}\n",
       "\\frac{7}{3} \\, x^{2} + 5 \\, x + 8\n",
       "\\end{array}\\right)  \\text{SR}$$"
      ],
      "text/plain": [
       "'u*v = ' [7/3*x^2 + 5*x + 8] ' ' Symbolic Ring"
      ]
     },
     "metadata": {},
     "output_type": "display_data"
    },
    {
     "data": {
      "text/html": [
       "<html><script type=\"math/tex; mode=display\">\\newcommand{\\Bold}[1]{\\mathbf{#1}}\\verb|v*v|\\verb| |\\verb|=| \\left(\\begin{array}{rrr}\n",
       "8 & 8 \\, x & 8 \\, x^{2} \\\\\n",
       "5 & 5 \\, x & 5 \\, x^{2} \\\\\n",
       "\\frac{7}{3} & \\frac{7}{3} \\, x & \\frac{7}{3} \\, x^{2}\n",
       "\\end{array}\\right)  \\text{SR}</script></html>"
      ],
      "text/latex": [
       "$$\\newcommand{\\Bold}[1]{\\mathbf{#1}}\\verb|v*v|\\verb| |\\verb|=| \\left(\\begin{array}{rrr}\n",
       "8 & 8 \\, x & 8 \\, x^{2} \\\\\n",
       "5 & 5 \\, x & 5 \\, x^{2} \\\\\n",
       "\\frac{7}{3} & \\frac{7}{3} \\, x & \\frac{7}{3} \\, x^{2}\n",
       "\\end{array}\\right)  \\text{SR}$$"
      ],
      "text/plain": [
       "'v*v = ' [      8     8*x   8*x^2]\n",
       "[      5     5*x   5*x^2]\n",
       "[    7/3   7/3*x 7/3*x^2] ' ' Symbolic Ring"
      ]
     },
     "metadata": {},
     "output_type": "display_data"
    }
   ],
   "source": [
    "var('x')\n",
    "A = matrix([[1,2,3],[4,5,6]])\n",
    "B = matrix([[3,6,9],[1,2,4],[1,2,3]])\n",
    "u = vector([1,x,x^2])\n",
    "v = vector([8,5,7/3])\n",
    "uH = matrix(1,3,u)\n",
    "vV = matrix(3,1,v)\n",
    "\n",
    "show(\"A*B = \",A*B,\" \",(A*B).base_ring())\n",
    "show(\"A*vV = \",A*vV,\" \",(A*vV).base_ring())\n",
    "show(\"B*B = \",B*B,\" \",(B*B).base_ring())\n",
    "show(\"B*vV = \",B*vV,\" \",(B*vV).base_ring())\n",
    "show(\"u*B = \",uH*B,\" \",(uH*B).base_ring())\n",
    "show(\"u*v = \",uH*vV,\" \",(uH*vV).base_ring())\n",
    "show(\"v*v = \",vV*uH,\" \",(vV*uH).base_ring())"
   ]
  },
  {
   "cell_type": "markdown",
   "metadata": {
    "deletable": false,
    "editable": false,
    "run_control": {
     "frozen": true
    }
   },
   "source": [
    "## Combinaison linéaire de vecteurs\n",
    "\n",
    "Si on considère un ensemble de vecteurs colonnes $v_1,\\dots,v_m$ tous de dimension $n$, et un ensemble de scalaires $\\alpha_1,\\dots, \\alpha_m$, le calcul de la combinaison linéaire\n",
    "$$\n",
    "u = \\alpha_1v_1+\\alpha_2v_2+\\dots+\\alpha_mv_m\n",
    "$$\n",
    "est équivalent au calcul du produit d'une matrice $A$ de $n$ lignes et $m$ colonnes par un vecteur colonne de dimension $m$\n",
    "$$\n",
    "u=\n",
    "\\begin{pmatrix}\n",
    " &&&\\\\\n",
    " v_1 & v_2 & \\dots& v_m\\\\\n",
    " &&&\\\\\\\n",
    "\\end{pmatrix}\n",
    "\\begin{pmatrix}\n",
    "\\alpha_1 \\\\ \\alpha_2 \\\\ \\vdots \\\\\\alpha_m\n",
    "\\end{pmatrix}\n",
    "$$"
   ]
  },
  {
   "cell_type": "markdown",
   "metadata": {
    "deletable": false,
    "editable": false,
    "run_control": {
     "frozen": true
    }
   },
   "source": [
    "### Question\n",
    "\n",
    "Calculer la combinaison linéaire suivante :\n",
    "$$\n",
    "3 * \\begin{pmatrix} 1 \\\\ 2 \\\\ 3 \\end{pmatrix} \n",
    "-4 * \\begin{pmatrix} 3 \\\\ 4 \\\\ 5 \\end{pmatrix} +\n",
    "5 * \\begin{pmatrix} 6 \\\\ 7 \\\\ 8 \\end{pmatrix} \n",
    "$$\n",
    "en construisant la matrice $A$ et le vecteur colonne $v_1$ adéquat puis en faisant le produit $A\\times v_1$. \n",
    "\n",
    "Vous ferez le même calcul en construisant la matrice $B$ adéquate et le vecteur ligne $v_2$ en faisant le produit $v_2\\times B$. \n",
    "\n",
    "Vérifiez que $v_1$ et $v_2$ contienne bien les mêmes valeurs mais qu'ils ne sont pas identiques."
   ]
  },
  {
   "cell_type": "code",
   "execution_count": 48,
   "metadata": {},
   "outputs": [
    {
     "data": {
      "text/html": [
       "<html><script type=\"math/tex; mode=display\">\\newcommand{\\Bold}[1]{\\mathbf{#1}}\\verb|A*v1|\\verb| |\\verb|=| \\left(\\begin{array}{r}\n",
       "21 \\\\\n",
       "25 \\\\\n",
       "29\n",
       "\\end{array}\\right)</script></html>"
      ],
      "text/latex": [
       "$$\\newcommand{\\Bold}[1]{\\mathbf{#1}}\\verb|A*v1|\\verb| |\\verb|=| \\left(\\begin{array}{r}\n",
       "21 \\\\\n",
       "25 \\\\\n",
       "29\n",
       "\\end{array}\\right)$$"
      ],
      "text/plain": [
       "'A*v1 = ' [21]\n",
       "[25]\n",
       "[29]"
      ]
     },
     "metadata": {},
     "output_type": "display_data"
    },
    {
     "data": {
      "text/html": [
       "<html><script type=\"math/tex; mode=display\">\\newcommand{\\Bold}[1]{\\mathbf{#1}}\\verb|v2*B|\\verb| |\\verb|=| \\left(\\begin{array}{rrr}\n",
       "21 & 25 & 29\n",
       "\\end{array}\\right)</script></html>"
      ],
      "text/latex": [
       "$$\\newcommand{\\Bold}[1]{\\mathbf{#1}}\\verb|v2*B|\\verb| |\\verb|=| \\left(\\begin{array}{rrr}\n",
       "21 & 25 & 29\n",
       "\\end{array}\\right)$$"
      ],
      "text/plain": [
       "'v2*B = ' [21 25 29]"
      ]
     },
     "metadata": {},
     "output_type": "display_data"
    },
    {
     "data": {
      "text/html": [
       "<html><script type=\"math/tex; mode=display\">\\newcommand{\\Bold}[1]{\\mathbf{#1}}\\verb|v1=| \\left(\\begin{array}{r}\n",
       "3 \\\\\n",
       "-4 \\\\\n",
       "5\n",
       "\\end{array}\\right) \\verb| |\\verb|v2=| \\left(\\begin{array}{rrr}\n",
       "3 & -4 & 5\n",
       "\\end{array}\\right) \\verb\" \"\\verb\"|\"\\verb\" \"\\verb\"Sont-ils\"\\verb\" \"\\verb\"identiques\"\\verb\" \"\\verb\"?\"\\verb\" \"\\verb\"->\" \\mathrm{False}</script></html>"
      ],
      "text/latex": [
       "$$\\newcommand{\\Bold}[1]{\\mathbf{#1}}\\verb|v1=| \\left(\\begin{array}{r}\n",
       "3 \\\\\n",
       "-4 \\\\\n",
       "5\n",
       "\\end{array}\\right) \\verb| |\\verb|v2=| \\left(\\begin{array}{rrr}\n",
       "3 & -4 & 5\n",
       "\\end{array}\\right) \\verb\" \"\\verb\"|\"\\verb\" \"\\verb\"Sont-ils\"\\verb\" \"\\verb\"identiques\"\\verb\" \"\\verb\"?\"\\verb\" \"\\verb\"->\" \\mathrm{False}$$"
      ],
      "text/plain": [
       "'v1=' [ 3]\n",
       "[-4]\n",
       "[ 5] ' v2=' [ 3 -4  5] ' | Sont-ils identiques ? ->' False"
      ]
     },
     "metadata": {},
     "output_type": "display_data"
    }
   ],
   "source": [
    "A = matrix([[1,3,6],[2,4,7],[3,5,8]])\n",
    "v1 = matrix(3,1,[3,-4,5])\n",
    "show(\"A*v1 = \",A*v1)\n",
    "B = matrix([[1,2,3],[3,4,5],[6,7,8]])\n",
    "v2 = matrix(1,3,[3,-4,5])\n",
    "show(\"v2*B = \",v2*B)\n",
    "\n",
    "show(\"v1=\",v1,\" v2=\",v2,\" | Sont-ils identiques ? ->\",bool((v1 is v2) or (v2 is v1)))"
   ]
  },
  {
   "cell_type": "markdown",
   "metadata": {
    "deletable": false,
    "editable": false,
    "run_control": {
     "frozen": true
    }
   },
   "source": [
    "### Transposition de matrice/vecteur\n",
    "\n",
    "Les vecteurs $v_1$ et $v_2$ de la question précédente ne sont pas identiques car  ils sont orientés différemment: un est en ligne alors que l'autre est en colonne. On dit qu'ils sont transposé l'un de l'autres.\n",
    "\n",
    "L'opération de tranposition d'un vecteur est donc le changement d'orientation. Cette notion s'étend aux matrices en considérant qu'une matrice est une collection de vecteurs (soit en ligne, soit en colonne, les deux choix sont possibles). Par conséquent la tranposition d'une matrice consiste à transposer les vecteurs la consistuant.\n",
    "\n",
    "$$\n",
    "A=\n",
    "\\begin{pmatrix}\n",
    " &&&\\\\\n",
    " v_1 & v_2 & \\dots& v_m\\\\\n",
    " &&&\\\\\\\n",
    "\\end{pmatrix}\n",
    " \\rightarrow\n",
    " A^T= \\begin{pmatrix}\n",
    " v_1^T \\\\ v_2^T \\\\ \\vdots \\\\ v_m^T\\\\\n",
    "\\end{pmatrix}\n",
    "$$"
   ]
  },
  {
   "cell_type": "markdown",
   "metadata": {
    "deletable": false,
    "editable": false,
    "run_control": {
     "frozen": true
    }
   },
   "source": [
    "### Question\n",
    "\n",
    "Essayer de trouver une propriété sur la transposition d'un produit en utilisant le fait que le vecteur $Av_1$ et $v_2B$ sont transposés l'un de l'autre. Si vous ne trouvez pas regarder sur Wikipédia."
   ]
  },
  {
   "cell_type": "code",
   "execution_count": 0,
   "metadata": {},
   "outputs": [],
   "source": [
    "#Si A = B*x \n",
    "#alors A' = x'*B'\n",
    "#alors A = (x'*B')'"
   ]
  },
  {
   "cell_type": "code",
   "execution_count": 0,
   "metadata": {},
   "outputs": [],
   "source": []
  },
  {
   "cell_type": "markdown",
   "metadata": {
    "deletable": false,
    "editable": false,
    "run_control": {
     "frozen": true
    }
   },
   "source": [
    "## Résolution de systèmes d'équations linéaires\n",
    "\n",
    "La résolution d´équation linéaire est une des opérations fondamentale en algèbre linéaire, et cela s'exprime facilement via la notion de produit matrice-vecteur. En effet, si l'on pose le système d'équation suivant:\n",
    "\\begin{equation}\n",
    "\\begin{cases}\n",
    "6x+5y+z=3\\\\\n",
    "2x-5+7z=-8\\\\\n",
    "x+y+z=3\n",
    "\\end{cases}\n",
    "\\end{equation}\n",
    "on peut ré-éxprimer ce problème sous forme matricielle:\n",
    "$$\n",
    "\\begin{pmatrix}\n",
    "6 & 5 & 1\\\\\n",
    "2 & -5 & 7\\\\\n",
    "1 & 1 & 1 \\\\\n",
    "\\end{pmatrix}\n",
    "\\begin{pmatrix}x\\\\y\\\\z\\end{pmatrix}\n",
    "= \\begin{pmatrix} 3\\\\-8\\\\3 \\end{pmatrix}\n",
    "$$\n",
    "\n",
    "Pour résoudre un système d'équation linéaire donnéer par l'équation matricielle $Av=b$,  il suffit d'appeler la méthode `A.solve_right(b)`. Si l'on souhaite résoudre à gauche $vA=b$, on appelle `A.solve_left(b)`."
   ]
  },
  {
   "cell_type": "markdown",
   "metadata": {
    "deletable": false,
    "editable": false,
    "run_control": {
     "frozen": true
    }
   },
   "source": [
    "### Question\n",
    "\n",
    "Trouver une solution au système donnée ci-dessus.\n",
    "- en cherchant une solution dans les rationnels\n",
    "- en redéfinissant le système sur le corps finis $GF(5)$. Attention, lisez bien les messages obtenus, surtout la dernière ligne."
   ]
  },
  {
   "cell_type": "code",
   "execution_count": 59,
   "metadata": {},
   "outputs": [
    {
     "data": {
      "text/html": [
       "<html><script type=\"math/tex; mode=display\">\\newcommand{\\Bold}[1]{\\mathbf{#1}}\\left(\\begin{array}{r}\n",
       "-\\frac{29}{10} \\\\\n",
       "\\frac{29}{8} \\\\\n",
       "\\frac{91}{40}\n",
       "\\end{array}\\right)</script></html>"
      ],
      "text/latex": [
       "$$\\newcommand{\\Bold}[1]{\\mathbf{#1}}\\left(\\begin{array}{r}\n",
       "-\\frac{29}{10} \\\\\n",
       "\\frac{29}{8} \\\\\n",
       "\\frac{91}{40}\n",
       "\\end{array}\\right)$$"
      ],
      "text/plain": [
       "[-29/10]\n",
       "[  29/8]\n",
       "[ 91/40]"
      ]
     },
     "metadata": {},
     "output_type": "display_data"
    }
   ],
   "source": [
    "A = matrix(3,3,[[6,5,1],[2,-5,7],[1,1,1]])\n",
    "b = matrix(3,1,[3,-8,3])\n",
    "v = A.solve_right(b)\n",
    "show(v)"
   ]
  },
  {
   "cell_type": "code",
   "execution_count": 66,
   "metadata": {},
   "outputs": [
    {
     "data": {
      "text/html": [
       "<html><script type=\"math/tex; mode=display\">\\newcommand{\\Bold}[1]{\\mathbf{#1}}\\left(\\begin{array}{rrr}\n",
       "1 & 0 & 2\n",
       "\\end{array}\\right)</script></html>"
      ],
      "text/latex": [
       "$$\\newcommand{\\Bold}[1]{\\mathbf{#1}}\\left(\\begin{array}{rrr}\n",
       "1 & 0 & 2\n",
       "\\end{array}\\right)$$"
      ],
      "text/plain": [
       "[1 0 2]"
      ]
     },
     "metadata": {},
     "output_type": "display_data"
    }
   ],
   "source": [
    "A = matrix(GF(5),[[6,5,1],[2,-5,7],[1,1,1]])\n",
    "b = matrix(GF(5),[3,-8,3])\n",
    "v = A.solve_left(b)\n",
    "show(v)"
   ]
  },
  {
   "cell_type": "markdown",
   "metadata": {
    "deletable": false,
    "editable": false,
    "run_control": {
     "frozen": true
    }
   },
   "source": [
    "### Question\n",
    "\n",
    "En utilisant la méthode `solve_right` des matrices trouver l'équation des droites $y=\\alpha x + \\beta $ qui passe par les points:\n",
    "- $(0,0)$ et $(3,5)$\n",
    "- $(-1,2)$ et $(7,-3)$\n",
    "\n",
    "Vous chercherez $\\alpha$ et $\\beta$ dans les rationnels et vous vérifierez vos résultats en utilisant la fonction plot sur l'intervalle $[-10,10]$."
   ]
  },
  {
   "cell_type": "code",
   "execution_count": 93,
   "metadata": {},
   "outputs": [
    {
     "name": "stdout",
     "output_type": "stream",
     "text": [
      "(0,0)&(3,5) -> a= 5/3  | b= 0\n"
     ]
    }
   ],
   "source": [
    "var('x')\n",
    "\n",
    "Y = matrix(2,1,[0,5])\n",
    "Eq = matrix(2,2,[[0,1],[3,1]])\n",
    "sol = Eq.solve_right(Y)\n",
    "a,b = sol[0][0],sol[1][0]\n",
    "print(\"(0,0)&(3,5) -> a=\",a,\" | b=\",b)\n",
    "f1(x)=a*x+b"
   ]
  },
  {
   "cell_type": "code",
   "execution_count": 94,
   "metadata": {},
   "outputs": [
    {
     "name": "stdout",
     "output_type": "stream",
     "text": [
      "(−1,2)&(7,−3) -> a= -5/8  | b= 11/8\n"
     ]
    }
   ],
   "source": [
    "Y = matrix(2,1,[2,-3])\n",
    "Eq = matrix(2,2,[[-1,1],[7,1]])\n",
    "sol = Eq.solve_right(Y)\n",
    "a,b = sol[0][0],sol[1][0]\n",
    "print(\"(−1,2)&(7,−3) -> a=\",a,\" | b=\",b)\n",
    "f2(x)=a*x+b"
   ]
  },
  {
   "cell_type": "code",
   "execution_count": 96,
   "metadata": {},
   "outputs": [
    {
     "data": {
      "image/png": "[encoded data removed]",
      "text/plain": [
       "Graphics object consisting of 4 graphics primitives"
      ]
     },
     "execution_count": 96,
     "metadata": {},
     "output_type": "execute_result"
    }
   ],
   "source": [
    "plot(f1,-10,10,color=\"pink\")+plot(f2,-10,10,color=\"orange\")+point([[0,0],[3,5]],color=\"purple\",size=40)+point([[-1,2],[7,-3]],color=\"red\",size=40)"
   ]
  },
  {
   "cell_type": "markdown",
   "metadata": {
    "deletable": false,
    "editable": false,
    "run_control": {
     "frozen": true
    }
   },
   "source": [
    "### Interpolation de polynômes\n",
    "\n",
    "De manière plus générale, si on se donne un ensemble de $d$ points $(x_i,y_i)$ deux à deux distinct et que l'on cherche l'unique polynôme $P(x)=p_0+p_1x+p_2x^2+\\dots + p_{d-1}x^{d-1}$ qui passe par tout ces points, cela se ramène comme précédemment à une résolution de système linéaire.\n",
    "\n",
    "En effet, on peut poser le système linéaire suivant pour trouver les coefficient $p_i$ de $P(x)$.\n",
    "$$\n",
    "\\begin{pmatrix}\n",
    "1 & x_1 & x_1^2 & x_1^3 & \\dots & x_1^{d-1} \\\\\n",
    "1 & x_2 & x_2^2 & x_2^3 & \\dots & x_2^{d-1} \\\\\n",
    "\\vdots & \\vdots & \\vdots & \\vdots& \\ddots & \\vdots\\\\\n",
    "1 & x_d & x_d^2 & x_d^3 & \\dots & x_d^{d-1} \\\\\n",
    "\\end{pmatrix}\n",
    "\\begin{pmatrix}\n",
    "p_0 \\\\p_1 \\\\ p_2 \\\\ \\vdots \\\\ p_{d-1} \n",
    "\\end{pmatrix}\n",
    "= \n",
    "\\begin{pmatrix}\n",
    "y_1 \\\\y_2 \\\\ y_3 \\\\ \\vdots \\\\ y_{d} \n",
    "\\end{pmatrix}\n",
    "$$"
   ]
  },
  {
   "cell_type": "markdown",
   "metadata": {
    "deletable": false,
    "editable": false,
    "run_control": {
     "frozen": true
    }
   },
   "source": [
    "### Question\n",
    "\n",
    "Trouver le polynômes de degrès 4 à coefficient rationnels qui passe par les points suivants:\n",
    "$$(-2,3),(-1,7),(0,4),(3,1),(5,5)$$\n",
    "\n",
    "Vous afficherez les points ainsi que la fonction $f(x)$ correspondant au polynôme pour $x \\in [-3,7]$."
   ]
  },
  {
   "cell_type": "code",
   "execution_count": 127,
   "metadata": {},
   "outputs": [
    {
     "data": {
      "text/html": [
       "<html><script type=\"math/tex; mode=display\">\\newcommand{\\Bold}[1]{\\mathbf{#1}}\\left(\\begin{array}{rrrrr}\n",
       "1 & -2 & 4 & -8 & 16 \\\\\n",
       "1 & -1 & 1 & -1 & 1 \\\\\n",
       "1 & 0 & 0 & 0 & 0 \\\\\n",
       "1 & 3 & 9 & 27 & 81 \\\\\n",
       "1 & 5 & 25 & 125 & 625\n",
       "\\end{array}\\right) \\verb|*X=| \\left(\\begin{array}{r}\n",
       "3 \\\\\n",
       "7 \\\\\n",
       "4 \\\\\n",
       "1 \\\\\n",
       "5\n",
       "\\end{array}\\right)</script></html>"
      ],
      "text/latex": [
       "$$\\newcommand{\\Bold}[1]{\\mathbf{#1}}\\left(\\begin{array}{rrrrr}\n",
       "1 & -2 & 4 & -8 & 16 \\\\\n",
       "1 & -1 & 1 & -1 & 1 \\\\\n",
       "1 & 0 & 0 & 0 & 0 \\\\\n",
       "1 & 3 & 9 & 27 & 81 \\\\\n",
       "1 & 5 & 25 & 125 & 625\n",
       "\\end{array}\\right) \\verb|*X=| \\left(\\begin{array}{r}\n",
       "3 \\\\\n",
       "7 \\\\\n",
       "4 \\\\\n",
       "1 \\\\\n",
       "5\n",
       "\\end{array}\\right)$$"
      ],
      "text/plain": [
       "[  1  -2   4  -8  16]\n",
       "[  1  -1   1  -1   1]\n",
       "[  1   0   0   0   0]\n",
       "[  1   3   9  27  81]\n",
       "[  1   5  25 125 625] '*X=' [3]\n",
       "[7]\n",
       "[4]\n",
       "[1]\n",
       "[5]"
      ]
     },
     "metadata": {},
     "output_type": "display_data"
    }
   ],
   "source": [
    "p1,p2,p3,p4,p5 = [-2,3],[-1,7],[0,4],[3,1],[5,5]\n",
    "P = [p1,p2,p3,p4,p5]\n",
    "\n",
    "A = matrix([(1,p[0],p[0]^2,p[0]^3,p[0]^4) for p in P])\n",
    "Y = matrix(5,1,[3,7,4,1,5])\n",
    "show(A,\"*X=\",Y)"
   ]
  },
  {
   "cell_type": "code",
   "execution_count": 125,
   "metadata": {},
   "outputs": [
    {
     "data": {
      "text/html": [
       "<html><script type=\"math/tex; mode=display\">\\newcommand{\\Bold}[1]{\\mathbf{#1}}\\verb|P(x)|\\verb| |\\verb|:| x \\ {\\mapsto}\\ -\\frac{47}{420} \\, x^{4} + \\frac{4}{5} \\, x^{3} - \\frac{19}{60} \\, x^{2} - \\frac{148}{35} \\, x + 4</script></html>"
      ],
      "text/latex": [
       "$$\\newcommand{\\Bold}[1]{\\mathbf{#1}}\\verb|P(x)|\\verb| |\\verb|:| x \\ {\\mapsto}\\ -\\frac{47}{420} \\, x^{4} + \\frac{4}{5} \\, x^{3} - \\frac{19}{60} \\, x^{2} - \\frac{148}{35} \\, x + 4$$"
      ],
      "text/plain": [
       "'P(x) :' x |--> -47/420*x^4 + 4/5*x^3 - 19/60*x^2 - 148/35*x + 4"
      ]
     },
     "metadata": {},
     "output_type": "display_data"
    }
   ],
   "source": [
    "var('x')\n",
    "sol = A.solve_right(Y)\n",
    "c0,c1,c2,c3,c4 = sol[0][0],sol[1][0],sol[2][0],sol[3][0],sol[4][0]\n",
    "P(x) = c4*x^4 + c3*x^3 + c2*x^2 + c1*x + c0\n",
    "show(\"P(x) :\",P)"
   ]
  },
  {
   "cell_type": "code",
   "execution_count": 126,
   "metadata": {},
   "outputs": [
    {
     "data": {
      "image/png": "[encoded data removed]",
      "text/plain": [
       "Graphics object consisting of 2 graphics primitives"
      ]
     },
     "metadata": {},
     "output_type": "display_data"
    }
   ],
   "source": [
    "graph = plot(P,-3,7)+point([p1,p2,p3,p4,p5],size=40,color='red')\n",
    "show(graph)"
   ]
  },
  {
   "cell_type": "markdown",
   "metadata": {
    "deletable": false,
    "editable": false,
    "run_control": {
     "frozen": true
    }
   },
   "source": [
    "## Méthode des moindres carrés\n",
    "\n",
    "\n",
    "Si l'on considère le système d'équation linéaires données par l'égalité matricielle $Ax=b$ avec $A$ une matrice constituée de $m$ lignes et de $n<m$ colonnes. Il n'existe pas de manière générale une solution $x$ à cette égalité. Toutefois, on s'intéresse à trouver un vecteur $x$ tel que $Ax$ soit au plus proche de $b$. Pour cela on va utiliser la norme Euclidienne des vecteurs : soit $v=[v_1 v_2 \\dots v_n]$ alors sa norme Euclidienne est  $|| v||_2 = \\sqrt{v*v}=\\sqrt{v_1^2+v_2^2+\\dots+v_n^2}$.\n",
    "\n",
    "Ainsi notre problème se ramène à trouver le vecteur $x$ qui minimise $|| Ax-b||_2$.\n",
    "\n",
    "Si la matrice $A$ a de bonnes propriétés (de rang maximal), alors la solution $x$ peut se calculer avec la résolution d'un autre système linéaire $Hx=c$ avec :\n",
    "- $H=A^TA$\n",
    "- $c=A^Tb$"
   ]
  },
  {
   "cell_type": "markdown",
   "metadata": {
    "deletable": false,
    "editable": false,
    "run_control": {
     "frozen": true
    }
   },
   "source": [
    "### Question\n",
    "\n",
    "En reprenant notre exemple précédent sur le calcul d'une droite  le problème revient à trouver l'équation d'un droite $y=\\alpha x+\\beta$ qui passe par plus que 2 points. Bien entendu si les points ne sont pas alignés, il n'y a pas de solution. La méthode des moindres carrées permet ici de trouver l'équation d'une droite qui minimise l'écart entre la droite et les points.\n",
    "\n",
    "Trouver quelle est la droite qui est la plus proche des points suivants:\n",
    "$(-10, -37), (-6, -7), (-2, -21), (2, 9), (6, 3)$\n",
    "Vous afficherez les points ainsi que la droite trouvée.\n"
   ]
  },
  {
   "cell_type": "code",
   "execution_count": 45,
   "metadata": {},
   "outputs": [
    {
     "data": {
      "text/html": [
       "<html><script type=\"math/tex; mode=display\">\\newcommand{\\Bold}[1]{\\mathbf{#1}}\\verb|A=| \\left(\\begin{array}{rr}\n",
       "-10 & 1 \\\\\n",
       "-6 & 1 \\\\\n",
       "-2 & 1 \\\\\n",
       "2 & 1 \\\\\n",
       "6 & 1\n",
       "\\end{array}\\right)</script></html>"
      ],
      "text/latex": [
       "$$\\newcommand{\\Bold}[1]{\\mathbf{#1}}\\verb|A=| \\left(\\begin{array}{rr}\n",
       "-10 & 1 \\\\\n",
       "-6 & 1 \\\\\n",
       "-2 & 1 \\\\\n",
       "2 & 1 \\\\\n",
       "6 & 1\n",
       "\\end{array}\\right)$$"
      ],
      "text/plain": [
       "'A=' [-10   1]\n",
       "[ -6   1]\n",
       "[ -2   1]\n",
       "[  2   1]\n",
       "[  6   1]"
      ]
     },
     "metadata": {},
     "output_type": "display_data"
    },
    {
     "data": {
      "text/html": [
       "<html><script type=\"math/tex; mode=display\">\\newcommand{\\Bold}[1]{\\mathbf{#1}}\\verb|b=| \\left(\\begin{array}{r}\n",
       "-37 \\\\\n",
       "-7 \\\\\n",
       "-21 \\\\\n",
       "9 \\\\\n",
       "3\n",
       "\\end{array}\\right)</script></html>"
      ],
      "text/latex": [
       "$$\\newcommand{\\Bold}[1]{\\mathbf{#1}}\\verb|b=| \\left(\\begin{array}{r}\n",
       "-37 \\\\\n",
       "-7 \\\\\n",
       "-21 \\\\\n",
       "9 \\\\\n",
       "3\n",
       "\\end{array}\\right)$$"
      ],
      "text/plain": [
       "'b=' [-37]\n",
       "[ -7]\n",
       "[-21]\n",
       "[  9]\n",
       "[  3]"
      ]
     },
     "metadata": {},
     "output_type": "display_data"
    },
    {
     "data": {
      "text/html": [
       "<html><script type=\"math/tex; mode=display\">\\newcommand{\\Bold}[1]{\\mathbf{#1}}\\verb|At=| \\left(\\begin{array}{rrrrr}\n",
       "-10 & -6 & -2 & 2 & 6 \\\\\n",
       "1 & 1 & 1 & 1 & 1\n",
       "\\end{array}\\right)</script></html>"
      ],
      "text/latex": [
       "$$\\newcommand{\\Bold}[1]{\\mathbf{#1}}\\verb|At=| \\left(\\begin{array}{rrrrr}\n",
       "-10 & -6 & -2 & 2 & 6 \\\\\n",
       "1 & 1 & 1 & 1 & 1\n",
       "\\end{array}\\right)$$"
      ],
      "text/plain": [
       "'At=' [-10  -6  -2   2   6]\n",
       "[  1   1   1   1   1]"
      ]
     },
     "metadata": {},
     "output_type": "display_data"
    },
    {
     "data": {
      "text/html": [
       "<html><script type=\"math/tex; mode=display\">\\newcommand{\\Bold}[1]{\\mathbf{#1}}\\verb|H=| \\left(\\begin{array}{rr}\n",
       "180 & -10 \\\\\n",
       "-10 & 5\n",
       "\\end{array}\\right)</script></html>"
      ],
      "text/latex": [
       "$$\\newcommand{\\Bold}[1]{\\mathbf{#1}}\\verb|H=| \\left(\\begin{array}{rr}\n",
       "180 & -10 \\\\\n",
       "-10 & 5\n",
       "\\end{array}\\right)$$"
      ],
      "text/plain": [
       "'H=' [180 -10]\n",
       "[-10   5]"
      ]
     },
     "metadata": {},
     "output_type": "display_data"
    },
    {
     "data": {
      "text/html": [
       "<html><script type=\"math/tex; mode=display\">\\newcommand{\\Bold}[1]{\\mathbf{#1}}\\verb|c=| \\left(\\begin{array}{r}\n",
       "490 \\\\\n",
       "-53\n",
       "\\end{array}\\right)</script></html>"
      ],
      "text/latex": [
       "$$\\newcommand{\\Bold}[1]{\\mathbf{#1}}\\verb|c=| \\left(\\begin{array}{r}\n",
       "490 \\\\\n",
       "-53\n",
       "\\end{array}\\right)$$"
      ],
      "text/plain": [
       "'c=' [490]\n",
       "[-53]"
      ]
     },
     "metadata": {},
     "output_type": "display_data"
    }
   ],
   "source": [
    "P = [[-10,-37],[-6,-7],[-2,-21],[2,9],[6,3]]\n",
    "A = matrix(5,2,[(p[0],1) for p in P])\n",
    "At = matrix(2,5,[[p[0]for p in P],[1,1,1,1,1]])\n",
    "b = matrix(5,1,[p[1] for p in P])\n",
    "H = At*A\n",
    "c = At*b\n",
    "show(\"A=\",A)\n",
    "show(\"b=\",b)\n",
    "show(\"At=\",At)\n",
    "show(\"H=\",H)\n",
    "show(\"c=\",c)"
   ]
  },
  {
   "cell_type": "code",
   "execution_count": 37,
   "metadata": {},
   "outputs": [
    {
     "data": {
      "text/html": [
       "<html><script type=\"math/tex; mode=display\">\\newcommand{\\Bold}[1]{\\mathbf{#1}}\\verb|f(x)|\\verb| |\\verb|:| x \\ {\\mapsto}\\ \\frac{12}{5} \\, x - \\frac{29}{5}</script></html>"
      ],
      "text/latex": [
       "$$\\newcommand{\\Bold}[1]{\\mathbf{#1}}\\verb|f(x)|\\verb| |\\verb|:| x \\ {\\mapsto}\\ \\frac{12}{5} \\, x - \\frac{29}{5}$$"
      ],
      "text/plain": [
       "'f(x) : ' x |--> 12/5*x - 29/5"
      ]
     },
     "metadata": {},
     "output_type": "display_data"
    }
   ],
   "source": [
    "var('x')\n",
    "sol1 = H.solve_right(c)\n",
    "a,b = sol1[0][0],sol1[1][0]\n",
    "\n",
    "f(x) = a*x+b\n",
    "show(\"f(x) : \",f)"
   ]
  },
  {
   "cell_type": "code",
   "execution_count": 38,
   "metadata": {},
   "outputs": [
    {
     "data": {
      "image/png": "[encoded data removed]",
      "text/plain": [
       "Graphics object consisting of 2 graphics primitives"
      ]
     },
     "metadata": {},
     "output_type": "display_data"
    }
   ],
   "source": [
    "graph = point(P,color='red',size=40)+plot(f,-12,7)\n",
    "show(graph)"
   ]
  },
  {
   "cell_type": "markdown",
   "metadata": {
    "deletable": false,
    "editable": false,
    "run_control": {
     "frozen": true
    }
   },
   "source": [
    "### Question\n",
    "\n",
    "Faite la même chose pour trouver un polynôme de degrès 3 qui est le plus proche des points suivants:\n",
    "$(-2,3),(-1,7),(0,4),(3,1),(4,4),(5,5)$\n",
    "\n",
    "Comme précémment vous afficherez les points ainsi que la fonction  𝑓(𝑥)  correspondant au polynôme pour  $𝑥∈[−3,7]$."
   ]
  },
  {
   "cell_type": "code",
   "execution_count": 128,
   "metadata": {},
   "outputs": [
    {
     "data": {
      "text/html": [
       "<html><script type=\"math/tex; mode=display\">\\newcommand{\\Bold}[1]{\\mathbf{#1}}\\verb|A=| \\left(\\begin{array}{rrrr}\n",
       "-8 & 4 & -2 & 1 \\\\\n",
       "-1 & 1 & -1 & 1 \\\\\n",
       "0 & 0 & 0 & 1 \\\\\n",
       "27 & 9 & 3 & 1 \\\\\n",
       "64 & 16 & 4 & 1 \\\\\n",
       "125 & 25 & 5 & 1\n",
       "\\end{array}\\right)</script></html>"
      ],
      "text/latex": [
       "$$\\newcommand{\\Bold}[1]{\\mathbf{#1}}\\verb|A=| \\left(\\begin{array}{rrrr}\n",
       "-8 & 4 & -2 & 1 \\\\\n",
       "-1 & 1 & -1 & 1 \\\\\n",
       "0 & 0 & 0 & 1 \\\\\n",
       "27 & 9 & 3 & 1 \\\\\n",
       "64 & 16 & 4 & 1 \\\\\n",
       "125 & 25 & 5 & 1\n",
       "\\end{array}\\right)$$"
      ],
      "text/plain": [
       "'A=' [ -8   4  -2   1]\n",
       "[ -1   1  -1   1]\n",
       "[  0   0   0   1]\n",
       "[ 27   9   3   1]\n",
       "[ 64  16   4   1]\n",
       "[125  25   5   1]"
      ]
     },
     "metadata": {},
     "output_type": "display_data"
    },
    {
     "data": {
      "text/html": [
       "<html><script type=\"math/tex; mode=display\">\\newcommand{\\Bold}[1]{\\mathbf{#1}}\\verb|Y=| \\left(\\begin{array}{r}\n",
       "3 \\\\\n",
       "7 \\\\\n",
       "4 \\\\\n",
       "1 \\\\\n",
       "4 \\\\\n",
       "5\n",
       "\\end{array}\\right)</script></html>"
      ],
      "text/latex": [
       "$$\\newcommand{\\Bold}[1]{\\mathbf{#1}}\\verb|Y=| \\left(\\begin{array}{r}\n",
       "3 \\\\\n",
       "7 \\\\\n",
       "4 \\\\\n",
       "1 \\\\\n",
       "4 \\\\\n",
       "5\n",
       "\\end{array}\\right)$$"
      ],
      "text/plain": [
       "'Y=' [3]\n",
       "[7]\n",
       "[4]\n",
       "[1]\n",
       "[4]\n",
       "[5]"
      ]
     },
     "metadata": {},
     "output_type": "display_data"
    },
    {
     "data": {
      "text/html": [
       "<html><script type=\"math/tex; mode=display\">\\newcommand{\\Bold}[1]{\\mathbf{#1}}\\verb|At=| \\left(\\begin{array}{rrrrrr}\n",
       "-8 & -1 & 0 & 27 & 64 & 125 \\\\\n",
       "4 & 1 & 0 & 9 & 16 & 25 \\\\\n",
       "-2 & -1 & 0 & 3 & 4 & 5 \\\\\n",
       "1 & 1 & 1 & 1 & 1 & 1\n",
       "\\end{array}\\right)</script></html>"
      ],
      "text/latex": [
       "$$\\newcommand{\\Bold}[1]{\\mathbf{#1}}\\verb|At=| \\left(\\begin{array}{rrrrrr}\n",
       "-8 & -1 & 0 & 27 & 64 & 125 \\\\\n",
       "4 & 1 & 0 & 9 & 16 & 25 \\\\\n",
       "-2 & -1 & 0 & 3 & 4 & 5 \\\\\n",
       "1 & 1 & 1 & 1 & 1 & 1\n",
       "\\end{array}\\right)$$"
      ],
      "text/plain": [
       "'At=' [ -8  -1   0  27  64 125]\n",
       "[  4   1   0   9  16  25]\n",
       "[ -2  -1   0   3   4   5]\n",
       "[  1   1   1   1   1   1]"
      ]
     },
     "metadata": {},
     "output_type": "display_data"
    },
    {
     "data": {
      "text/html": [
       "<html><script type=\"math/tex; mode=display\">\\newcommand{\\Bold}[1]{\\mathbf{#1}}\\verb|H=| \\left(\\begin{array}{rrrr}\n",
       "20515 & 4359 & 979 & 207 \\\\\n",
       "4359 & 979 & 207 & 55 \\\\\n",
       "979 & 207 & 55 & 9 \\\\\n",
       "207 & 55 & 9 & 6\n",
       "\\end{array}\\right)</script></html>"
      ],
      "text/latex": [
       "$$\\newcommand{\\Bold}[1]{\\mathbf{#1}}\\verb|H=| \\left(\\begin{array}{rrrr}\n",
       "20515 & 4359 & 979 & 207 \\\\\n",
       "4359 & 979 & 207 & 55 \\\\\n",
       "979 & 207 & 55 & 9 \\\\\n",
       "207 & 55 & 9 & 6\n",
       "\\end{array}\\right)$$"
      ],
      "text/plain": [
       "'H=' [20515  4359   979   207]\n",
       "[ 4359   979   207    55]\n",
       "[  979   207    55     9]\n",
       "[  207    55     9     6]"
      ]
     },
     "metadata": {},
     "output_type": "display_data"
    },
    {
     "data": {
      "text/html": [
       "<html><script type=\"math/tex; mode=display\">\\newcommand{\\Bold}[1]{\\mathbf{#1}}\\verb|c=| \\left(\\begin{array}{r}\n",
       "877 \\\\\n",
       "217 \\\\\n",
       "31 \\\\\n",
       "24\n",
       "\\end{array}\\right)</script></html>"
      ],
      "text/latex": [
       "$$\\newcommand{\\Bold}[1]{\\mathbf{#1}}\\verb|c=| \\left(\\begin{array}{r}\n",
       "877 \\\\\n",
       "217 \\\\\n",
       "31 \\\\\n",
       "24\n",
       "\\end{array}\\right)$$"
      ],
      "text/plain": [
       "'c=' [877]\n",
       "[217]\n",
       "[ 31]\n",
       "[ 24]"
      ]
     },
     "metadata": {},
     "output_type": "display_data"
    }
   ],
   "source": [
    "var('x')\n",
    "P = [[-2,3],[-1,7],[0,4],[3,1],[4,4],[5,5]]\n",
    "A = matrix(6,4,[(p[0]^3,p[0]^2,p[0],1) for p in P])\n",
    "At = matrix(4,6,[[p[0]^3 for p in P],[p[0]^2 for p in P],[p[0]for p in P],[1,1,1,1,1,1]])\n",
    "Y = matrix(6,1,[p[1] for p in P])\n",
    "H = At*A\n",
    "c = At*Y\n",
    "show(\"A=\",A)\n",
    "show(\"Y=\",Y)\n",
    "show(\"At=\",At)\n",
    "show(\"H=\",H)\n",
    "show(\"c=\",c)"
   ]
  },
  {
   "cell_type": "code",
   "execution_count": 129,
   "metadata": {},
   "outputs": [
    {
     "data": {
      "text/html": [
       "<html><script type=\"math/tex; mode=display\">\\newcommand{\\Bold}[1]{\\mathbf{#1}}\\left(\\begin{array}{r}\n",
       "\\frac{209}{1530} \\\\\n",
       "-\\frac{1603}{3230} \\\\\n",
       "-\\frac{12094}{14535} \\\\\n",
       "\\frac{4927}{969}\n",
       "\\end{array}\\right)</script></html>"
      ],
      "text/latex": [
       "$$\\newcommand{\\Bold}[1]{\\mathbf{#1}}\\left(\\begin{array}{r}\n",
       "\\frac{209}{1530} \\\\\n",
       "-\\frac{1603}{3230} \\\\\n",
       "-\\frac{12094}{14535} \\\\\n",
       "\\frac{4927}{969}\n",
       "\\end{array}\\right)$$"
      ],
      "text/plain": [
       "[    209/1530]\n",
       "[  -1603/3230]\n",
       "[-12094/14535]\n",
       "[    4927/969]"
      ]
     },
     "metadata": {},
     "output_type": "display_data"
    },
    {
     "data": {
      "text/html": [
       "<html><script type=\"math/tex; mode=display\">\\newcommand{\\Bold}[1]{\\mathbf{#1}}\\verb|f(x)|\\verb| |\\verb|:| x \\ {\\mapsto}\\ \\frac{209}{1530} \\, x^{3} - \\frac{1603}{3230} \\, x^{2} - \\frac{12094}{14535} \\, x + \\frac{4927}{969}</script></html>"
      ],
      "text/latex": [
       "$$\\newcommand{\\Bold}[1]{\\mathbf{#1}}\\verb|f(x)|\\verb| |\\verb|:| x \\ {\\mapsto}\\ \\frac{209}{1530} \\, x^{3} - \\frac{1603}{3230} \\, x^{2} - \\frac{12094}{14535} \\, x + \\frac{4927}{969}$$"
      ],
      "text/plain": [
       "'f(x) : ' x |--> 209/1530*x^3 - 1603/3230*x^2 - 12094/14535*x + 4927/969"
      ]
     },
     "metadata": {},
     "output_type": "display_data"
    }
   ],
   "source": [
    "var('x')\n",
    "sol2 = H.solve_right(c)\n",
    "show(sol2)\n",
    "a,b,c,d = sol2[0][0],sol2[1][0],sol2[2][0],sol2[3][0]\n",
    "\n",
    "f(x) = a*x^3 + b*x^2 + c*x + d\n",
    "show(\"f(x) : \",f)"
   ]
  },
  {
   "cell_type": "code",
   "execution_count": 131,
   "metadata": {
    "scrolled": true
   },
   "outputs": [
    {
     "data": {
      "image/png": "[encoded data removed]",
      "text/plain": [
       "Graphics object consisting of 2 graphics primitives"
      ]
     },
     "metadata": {},
     "output_type": "display_data"
    }
   ],
   "source": [
    "graph = point(P,color='red',size=40)+plot(f,-2.5,5.5)\n",
    "show(graph)"
   ]
  },
  {
   "cell_type": "markdown",
   "metadata": {
    "deletable": false,
    "editable": false,
    "run_control": {
     "frozen": true
    }
   },
   "source": [
    "## Réécriture d'un vecteur à partir d'autres vecteurs.\n",
    "Étant donné un ensemble de vecteur $v_1,\\dots,v_n$ on peut se poser la question de savoir si il est possible d'écrire un autre vecteur $u$ à partir de combinaison linéaire des vecteurs $v_i$. \n"
   ]
  },
  {
   "cell_type": "markdown",
   "metadata": {
    "deletable": false,
    "editable": false,
    "run_control": {
     "frozen": true
    }
   },
   "source": [
    "### question\n",
    "On considére les vecteurs à coefficients dans le corps finis à 3 éléments (`GF(3)` en Sage est équivalement aux entiers modulo 3) donnés ci-dessous\n",
    "$$\n",
    "v_1=\\begin{pmatrix} 0 \\\\ 1 \\\\2 \\end{pmatrix},\n",
    "v_2=\\begin{pmatrix} 1 \\\\ 0 \\\\1 \\end{pmatrix},\n",
    "v_3=\\begin{pmatrix} 1 \\\\ 1 \\\\1 \\end{pmatrix}\n",
    "$$\n",
    "\n",
    "Construisez la liste des vecteurs qui peuvent s'écrire comme combinaison linéaire de $v_1,v_2,v_3$, câd tous les vecteurs $\\alpha_1 v_1 +\\alpha_2  v_2 + \\alpha_3 v_3$ avec $\\alpha_1,\\alpha_2,\\alpha_3$ des scalaires dans $\\{0,1,2\\}$. Attention, les calculs doivent se faire modulo 3 et il faut éviter les doublons. Combien de vecteurs trouvez vous ?\n"
   ]
  },
  {
   "cell_type": "code",
   "execution_count": 148,
   "metadata": {},
   "outputs": [
    {
     "name": "stdout",
     "output_type": "stream",
     "text": [
      "[(0, 1, 2), (1, 0, 1), (1, 1, 1), (0, 0, 0), (2, 2, 2), (2, 1, 2), (0, 2, 0), (2, 0, 2), (0, 1, 0), (1, 2, 1), (1, 2, 0), (2, 0, 1), (1, 1, 0), (2, 2, 1), (0, 0, 2), (2, 1, 1), (0, 2, 2), (1, 0, 0), (0, 2, 1), (1, 0, 2), (2, 1, 0), (1, 2, 2), (2, 0, 0), (0, 1, 1), (2, 2, 0), (0, 0, 1), (1, 1, 2)]\n"
     ]
    },
    {
     "data": {
      "text/html": [
       "<html><script type=\"math/tex; mode=display\">\\newcommand{\\Bold}[1]{\\mathbf{#1}}\\verb|Il|\\verb| |\\verb|y|\\verb| |\\verb|a|\\verb| |\\verb|:| 27 \\verb|:|\\verb| |\\verb|vecteurs|\\verb| |\\verb|!|</script></html>"
      ],
      "text/latex": [
       "$$\\newcommand{\\Bold}[1]{\\mathbf{#1}}\\verb|Il|\\verb| |\\verb|y|\\verb| |\\verb|a|\\verb| |\\verb|:| 27 \\verb|:|\\verb| |\\verb|vecteurs|\\verb| |\\verb|!|$$"
      ],
      "text/plain": [
       "'Il y a :' 27 ': vecteurs !'"
      ]
     },
     "metadata": {},
     "output_type": "display_data"
    }
   ],
   "source": [
    "v1 = vector(GF(3),[0,1,2])\n",
    "v2 = vector(GF(3),[1,0,1])\n",
    "v3 = vector(GF(3),[1,1,1])\n",
    "\n",
    "listeVecteur = [v1,v2,v3]\n",
    "for a1 in range(0,3):\n",
    "    for a2 in range(0,3):\n",
    "        for a3 in range(0,3):\n",
    "            v = a1*v1 + a2*v2 + a3*v3\n",
    "            if(not(v in listeVecteur)):\n",
    "                listeVecteur.append(v)\n",
    "print(listeVecteur)\n",
    "show(\"Il y a :\",len(listeVecteur),\": vecteurs !\")"
   ]
  },
  {
   "cell_type": "markdown",
   "metadata": {
    "deletable": false,
    "editable": false,
    "run_control": {
     "frozen": true
    }
   },
   "source": [
    "### question\n",
    "Faite la même chose avec en remplacant le vecteur $v_3$ par le vecteur $v_4=\\begin{pmatrix} 1 \\\\ 1 \\\\0 \\end{pmatrix}$. \n",
    "- Que remarquez vous ? \n",
    "- Essayer de donner une explication à partir des valeurs de $v_1,v_2$ et $v_4$"
   ]
  },
  {
   "cell_type": "code",
   "execution_count": 157,
   "metadata": {},
   "outputs": [
    {
     "name": "stdout",
     "output_type": "stream",
     "text": [
      "[(0, 1, 2), (1, 0, 1), (1, 1, 0), (0, 0, 0), (2, 2, 0), (2, 1, 1), (0, 2, 1), (2, 0, 2), (1, 2, 2)]\n"
     ]
    },
    {
     "data": {
      "text/html": [
       "<html><script type=\"math/tex; mode=display\">\\newcommand{\\Bold}[1]{\\mathbf{#1}}\\verb|Il|\\verb| |\\verb|y|\\verb| |\\verb|a|\\verb| |\\verb|:| 9 \\verb|:|\\verb| |\\verb|vecteurs|\\verb| |\\verb|!|</script></html>"
      ],
      "text/latex": [
       "$$\\newcommand{\\Bold}[1]{\\mathbf{#1}}\\verb|Il|\\verb| |\\verb|y|\\verb| |\\verb|a|\\verb| |\\verb|:| 9 \\verb|:|\\verb| |\\verb|vecteurs|\\verb| |\\verb|!|$$"
      ],
      "text/plain": [
       "'Il y a :' 9 ': vecteurs !'"
      ]
     },
     "metadata": {},
     "output_type": "display_data"
    }
   ],
   "source": [
    "v4 = vector(GF(3),[1,1,0])\n",
    "\n",
    "listeVecteur = [v1,v2,v4]\n",
    "for a1 in range(0,3):\n",
    "    for a2 in range(0,3):\n",
    "        for a4 in range(0,3):\n",
    "            v = a1*v1 + a2*v2 + a4*v4\n",
    "            if(not(v in listeVecteur)):\n",
    "                listeVecteur.append(v)\n",
    "print(listeVecteur)\n",
    "show(\"Il y a :\",len(listeVecteur),\": vecteurs !\")"
   ]
  },
  {
   "cell_type": "code",
   "execution_count": 158,
   "metadata": {},
   "outputs": [
    {
     "name": "stdout",
     "output_type": "stream",
     "text": [
      "v4 est combinaison linéaire de v1 et v2, on n'ajoute donc aucune possibilité. Cela revient à faire l'ensemble des combinaisons linéaires avec v1 et v2 seulement.\n"
     ]
    }
   ],
   "source": [
    "print(\"v4 est combinaison linéaire de v1 et v2, on n'ajoute donc aucune possibilité. Cela revient à faire l'ensemble des combinaisons linéaires avec v1 et v2 seulement.\")"
   ]
  },
  {
   "cell_type": "markdown",
   "metadata": {
    "deletable": false,
    "editable": false,
    "run_control": {
     "frozen": true
    }
   },
   "source": [
    "Vous venez d'entrevoir la notion de dimension d'un espace vectoriel, c'est à dire le nombre minimal de vecteurs permettant de définir cet espace. Autrement dit, la taille d'une famille libre de cet espace. Cette information est accessible en construisant la matrice constituées des vecteurs données et en calculant son rang: `A.rank()` ou `A` est une matrice."
   ]
  },
  {
   "cell_type": "markdown",
   "metadata": {
    "deletable": false,
    "editable": false,
    "run_control": {
     "frozen": true
    }
   },
   "source": [
    "### Question \n",
    "Construisez les matrices $A_1$ et $A_2$ à partir des vecteurs $v_1,v_2,v_3$ et $v_4$ données précédemment.\n",
    "Les lignes de $A_1$ correspondent à $v_1,v_2,v_3$ et celles de $A_2$ à $v_1,v_2,v_4$. \n",
    "Retrouver le nombre de vecteurs des questions précédentes à partit du rang de ces matrices.\n"
   ]
  },
  {
   "cell_type": "code",
   "execution_count": 163,
   "metadata": {},
   "outputs": [
    {
     "data": {
      "text/html": [
       "<html><script type=\"math/tex; mode=display\">\\newcommand{\\Bold}[1]{\\mathbf{#1}}\\left(\\begin{array}{rrr}\n",
       "0 & 1 & 2 \\\\\n",
       "1 & 0 & 1 \\\\\n",
       "1 & 1 & 1\n",
       "\\end{array}\\right) \\left(\\begin{array}{rrr}\n",
       "0 & 1 & 2 \\\\\n",
       "1 & 0 & 1 \\\\\n",
       "1 & 1 & 0\n",
       "\\end{array}\\right)</script></html>"
      ],
      "text/latex": [
       "$$\\newcommand{\\Bold}[1]{\\mathbf{#1}}\\left(\\begin{array}{rrr}\n",
       "0 & 1 & 2 \\\\\n",
       "1 & 0 & 1 \\\\\n",
       "1 & 1 & 1\n",
       "\\end{array}\\right) \\left(\\begin{array}{rrr}\n",
       "0 & 1 & 2 \\\\\n",
       "1 & 0 & 1 \\\\\n",
       "1 & 1 & 0\n",
       "\\end{array}\\right)$$"
      ],
      "text/plain": [
       "[0 1 2]\n",
       "[1 0 1]\n",
       "[1 1 1] [0 1 2]\n",
       "[1 0 1]\n",
       "[1 1 0]"
      ]
     },
     "metadata": {},
     "output_type": "display_data"
    }
   ],
   "source": [
    "A1 = matrix([v1,v2,v3])\n",
    "A2 = matrix([v1,v2,v4])\n",
    "show(A1,A2)"
   ]
  },
  {
   "cell_type": "markdown",
   "metadata": {
    "deletable": false,
    "editable": false,
    "run_control": {
     "frozen": true
    }
   },
   "source": [
    "Pour déduire la dépendance entre les vecteurs, on peut s'appuyer sur la méthode 'right_kernel()' qui pour une matrice donnée $A \\in \\mathbb{K}^{m \\times n}$ retourne l'espace des vecteurs de $\\mathbb{K}^n$ qui annule cette matrice par multiplication à droite. C'est à dire \n",
    "\n",
    "$$\n",
    "\\operatorname{kernel}(A) =v \\in \\mathbb{K}^n \\mbox{ tel que } Av = 0 \\in \\mathbb{K}^m\n",
    "$$\n",
    "\n",
    "Attention, cet espace de vecteur est considéré par Sage comme un objet algébrique. Il faut donc utiliser la méthode 'basis_matrix()' pour récupérer une matrice définissant une base de cet espace."
   ]
  },
  {
   "cell_type": "markdown",
   "metadata": {
    "deletable": false,
    "editable": false,
    "run_control": {
     "frozen": true
    }
   },
   "source": [
    "### Question\n",
    "Retrouvez la combinaison linéaire entre $v_1,v_2$ et $v_4$ trouver précédemment. Vous utiliserez `print` pour afficher l'égalité."
   ]
  },
  {
   "cell_type": "code",
   "execution_count": 162,
   "metadata": {},
   "outputs": [
    {
     "name": "stdout",
     "output_type": "stream",
     "text": [
      "(1, 1, 0) = (1, 1, 0)\n"
     ]
    }
   ],
   "source": [
    "print(1*v1 + 1*v2 ,'=', v4)"
   ]
  },
  {
   "cell_type": "markdown",
   "metadata": {
    "deletable": false,
    "editable": false,
    "run_control": {
     "frozen": true
    }
   },
   "source": [
    "## Méthode d'élimination de Gauss\n",
    "Bien évidemment, la méthode de calcul exhaustif  employée précédemment ne peut être utilisée si l'on considère un domaine de calul de taille infini comme les entiers ou les rationnels, ou même avec une espace fini de grande taille comme les flottants double précision. En effet, la complexité est exponentielle en le nombre de vecteurs.\n",
    "\n",
    "La méthode d'élimination de Gauss, aussi appelée pivot de Gauss, est une solution algorithmique qui permet de rester dans une complexité polynomiale pour calculer la dépendance linéaire de vecteurs. L'idée est très simple: l'objectif est de rendre certaines entrées d'un vecteur à 0 en faisant des combinaisons linéaire 2 à 2.\n",
    "\n",
    "Par exemple, avec $v_1=[1,2,3]$ et $v_2=[1,4,5]$ à coefficient dans les entiers, on a $v_1-v_2=[0 -2 -2]$. Par construction, on sait que  l'ensemble des combinaisons linéaires de $v_1,v_2$ est équivalent à celui de $v_1,v_1-v_2$ ou $v_1-v_2, v_2$.\n",
    "Comme $v_1-v_2$ a un zero dans sa 1ère composante et que ce n'est pas le cas de $v_1$ ou $v_2$ alors il est linéairement indépendant de $v_1$ et $v_2$.\n",
    "\n",
    "Le procédé de l'élimination de Gauss consite donc à ajouter à un vecteur $v$ un multiple d'un autre vecteur $u$, tel qu'une composante du nouveau vecteur soit nul. L'élimination de Gauss est l'algorithme qui est utilisé par la fonction `basis_matrix()`. Nous allons découvrir comment fonctionne cet algorithme."
   ]
  },
  {
   "cell_type": "markdown",
   "metadata": {
    "deletable": false,
    "editable": false,
    "run_control": {
     "frozen": true
    }
   },
   "source": [
    "### Question\n",
    "Écrire une fonction `combineVect(u,v,i)` qui prend en entrée deux vecteur $u$ et $v$ de même dimension $n$ tel que $i<n$ et $u[i]\\neq 0$. Cette fonction retourne un nouveau vecteur $r=v+\\alpha u$ tel que l'entrée en position $i$ du vecteur $r$ soit nulle.  \n",
    "\n",
    "Vous testerez votre fonction sur les lignes de la matrice $A$ suivante définie sur $\\mathbb{Q}$:\n",
    "\n",
    "$$A=\n",
    "\\begin{pmatrix}\n",
    "2/3 & 1 & 5 \\\\\n",
    "1 & 1/5 & 8 \\\\\n",
    "5 & 1/2 & 3/4\n",
    "\\end{pmatrix}.\n",
    "$$\n",
    "Votre objectif est de modifier la matrice pour mettre des zero sous la diagonale. \n",
    "En notant $l_0, l_1$ et $l_2$ les lignes de la matrice A, on va devoir:\n",
    "- ajouter un multiple de $l_0$ à $l_1$ et $l_2$ pour mettre un 0 dans leur 1ère composante\n",
    "- ajouter un multiple de $l_1$ à $l_2$ pour mettre un 0 dans sa 2ème composante\n",
    "\n",
    "*Aide: on récupère une copie de la ligne i avec la méthode `A.row(i)`*"
   ]
  },
  {
   "cell_type": "code",
   "execution_count": 3,
   "metadata": {},
   "outputs": [],
   "source": [
    "def combineVect(v,u,i):\n",
    "    a = solve([v[i]+x*u[i]==0],x)\n",
    "    r = v + a[-1].rhs()*u\n",
    "    return r"
   ]
  },
  {
   "cell_type": "code",
   "execution_count": 4,
   "metadata": {},
   "outputs": [
    {
     "data": {
      "text/html": [
       "<html><script type=\"math/tex; mode=display\">\\newcommand{\\Bold}[1]{\\mathbf{#1}}\\verb|A|\\verb| |\\verb|initial|\\verb| |\\verb|->| \\left(\\begin{array}{rrr}\n",
       "\\frac{2}{3} & 1 & 5 \\\\\n",
       "1 & \\frac{1}{5} & 8 \\\\\n",
       "5 & \\frac{1}{2} & \\frac{3}{4}\n",
       "\\end{array}\\right)</script></html>"
      ],
      "text/latex": [
       "$$\\newcommand{\\Bold}[1]{\\mathbf{#1}}\\verb|A|\\verb| |\\verb|initial|\\verb| |\\verb|->| \\left(\\begin{array}{rrr}\n",
       "\\frac{2}{3} & 1 & 5 \\\\\n",
       "1 & \\frac{1}{5} & 8 \\\\\n",
       "5 & \\frac{1}{2} & \\frac{3}{4}\n",
       "\\end{array}\\right)$$"
      ],
      "text/plain": [
       "'A initial ->' [2/3   1   5]\n",
       "[  1 1/5   8]\n",
       "[  5 1/2 3/4]"
      ]
     },
     "metadata": {},
     "output_type": "display_data"
    },
    {
     "data": {
      "text/html": [
       "<html><script type=\"math/tex; mode=display\">\\newcommand{\\Bold}[1]{\\mathbf{#1}}\\verb|A|\\verb| |\\verb|final|\\verb| |\\verb|->| \\left(\\begin{array}{rrr}\n",
       "\\frac{2}{3} & 1 & 5 \\\\\n",
       "0 & -\\frac{13}{10} & \\frac{1}{2} \\\\\n",
       "0 & 0 & -\\frac{2051}{52}\n",
       "\\end{array}\\right)</script></html>"
      ],
      "text/latex": [
       "$$\\newcommand{\\Bold}[1]{\\mathbf{#1}}\\verb|A|\\verb| |\\verb|final|\\verb| |\\verb|->| \\left(\\begin{array}{rrr}\n",
       "\\frac{2}{3} & 1 & 5 \\\\\n",
       "0 & -\\frac{13}{10} & \\frac{1}{2} \\\\\n",
       "0 & 0 & -\\frac{2051}{52}\n",
       "\\end{array}\\right)$$"
      ],
      "text/plain": [
       "'A final ->' [     2/3        1        5]\n",
       "[       0   -13/10      1/2]\n",
       "[       0        0 -2051/52]"
      ]
     },
     "metadata": {},
     "output_type": "display_data"
    }
   ],
   "source": [
    "l0 = vector([2/3,1,5])\n",
    "l1 = vector([1,1/5,8])\n",
    "l2 = vector([5,1/2,3/4])\n",
    "A = matrix([l0,l1,l2])\n",
    "show(\"A initial ->\",A)\n",
    "\n",
    "l1 = combineVect(l1,l0,0)\n",
    "l2 = combineVect(l2,l0,0)\n",
    "l2 = combineVect(l2,l1,1)\n",
    "A = matrix([l0,l1,l2])\n",
    "show(\"A final ->\",A)"
   ]
  },
  {
   "cell_type": "markdown",
   "metadata": {
    "deletable": false,
    "editable": false,
    "run_control": {
     "frozen": true
    }
   },
   "source": [
    "De manière plus générale, pour savoir si un vecteur $u$ peut s'écrire comme une combinaison linéaire d'autres vecteur $v_1, \\dots, v_m$, il suffit de construire la matrice\n",
    "\n",
    "$$\n",
    "A=\n",
    "\\begin{pmatrix}\n",
    "&&v_1&&\\\\\n",
    "&&v_2&&\\\\\n",
    "&&\\vdots&&\\\\\n",
    "&&v_m&&\\\\\n",
    "&&u&&\n",
    "\\end{pmatrix}\n",
    "$$\n",
    "est d'essayer de mettre des zero sous la diagonale comme précédemment. Si après ce procédé la dernière ligne de $A$ est nulle alors $u$ peut s'écrire comme une combinaison linéaire des $v_i$."
   ]
  },
  {
   "cell_type": "markdown",
   "metadata": {
    "deletable": false,
    "editable": false,
    "run_control": {
     "frozen": true
    }
   },
   "source": [
    "### Question\n",
    "Écrire un  fonction `dependanceLineaire([v1,...,vm,u])` qui teste si le vecteur $u$ peut s'écrire comme une combinaison linéaire des vecteurs $v_i$. Autrement dit, la fonction cherche une dépendance linéaire entre le dernier vecteur de la liste et tous les autres\n",
    "\n",
    "Pour écrire votre fonction, vous proposerez une généralisation du calcul fait à la question précédente.\n",
    "\n",
    "Vous testerez votre fonction avec la liste $L= [v_3,v_2, v_1,u]$ pour $u=[2,1,2]$."
   ]
  },
  {
   "cell_type": "code",
   "execution_count": 5,
   "metadata": {},
   "outputs": [],
   "source": [
    "def dependanceLineraire(L):\n",
    "    for i in range(len(L)-2):\n",
    "        for j in range(len(L)-1):\n",
    "            if(not(i+j+1 >= len(L))):\n",
    "                L[i+j+1] = combineVect(L[i],L[i+j+1],i)\n",
    "    return(L==[[0]*len(L[0])]*len(L))"
   ]
  },
  {
   "cell_type": "code",
   "execution_count": 6,
   "metadata": {},
   "outputs": [
    {
     "ename": "IndexError",
     "evalue": "list index out of range",
     "output_type": "error",
     "traceback": [
      "\u001b[0;31m---------------------------------------------------------------------------\u001b[0m",
      "\u001b[0;31mIndexError\u001b[0m                                Traceback (most recent call last)",
      "\u001b[0;32m/tmp/user/22010416/ipykernel_217657/3232371467.py\u001b[0m in \u001b[0;36m<module>\u001b[0;34m\u001b[0m\n\u001b[1;32m      3\u001b[0m \u001b[0mv3\u001b[0m \u001b[0;34m=\u001b[0m \u001b[0mvector\u001b[0m\u001b[0;34m(\u001b[0m\u001b[0;34m[\u001b[0m\u001b[0mInteger\u001b[0m\u001b[0;34m(\u001b[0m\u001b[0;36m1\u001b[0m\u001b[0;34m)\u001b[0m\u001b[0;34m,\u001b[0m\u001b[0mInteger\u001b[0m\u001b[0;34m(\u001b[0m\u001b[0;36m1\u001b[0m\u001b[0;34m)\u001b[0m\u001b[0;34m,\u001b[0m\u001b[0mInteger\u001b[0m\u001b[0;34m(\u001b[0m\u001b[0;36m1\u001b[0m\u001b[0;34m)\u001b[0m\u001b[0;34m]\u001b[0m\u001b[0;34m)\u001b[0m\u001b[0;34m\u001b[0m\u001b[0;34m\u001b[0m\u001b[0m\n\u001b[1;32m      4\u001b[0m \u001b[0;34m\u001b[0m\u001b[0m\n\u001b[0;32m----> 5\u001b[0;31m \u001b[0mbool\u001b[0m\u001b[0;34m(\u001b[0m\u001b[0mdependanceLineraire\u001b[0m\u001b[0;34m(\u001b[0m\u001b[0;34m[\u001b[0m\u001b[0mv3\u001b[0m\u001b[0;34m,\u001b[0m\u001b[0mv2\u001b[0m\u001b[0;34m,\u001b[0m\u001b[0mv1\u001b[0m\u001b[0;34m,\u001b[0m\u001b[0mvector\u001b[0m\u001b[0;34m(\u001b[0m\u001b[0;34m[\u001b[0m\u001b[0mInteger\u001b[0m\u001b[0;34m(\u001b[0m\u001b[0;36m2\u001b[0m\u001b[0;34m)\u001b[0m\u001b[0;34m,\u001b[0m\u001b[0mInteger\u001b[0m\u001b[0;34m(\u001b[0m\u001b[0;36m1\u001b[0m\u001b[0;34m)\u001b[0m\u001b[0;34m,\u001b[0m\u001b[0mInteger\u001b[0m\u001b[0;34m(\u001b[0m\u001b[0;36m2\u001b[0m\u001b[0;34m)\u001b[0m\u001b[0;34m]\u001b[0m\u001b[0;34m)\u001b[0m\u001b[0;34m]\u001b[0m\u001b[0;34m)\u001b[0m\u001b[0;34m)\u001b[0m\u001b[0;34m\u001b[0m\u001b[0;34m\u001b[0m\u001b[0m\n\u001b[0m",
      "\u001b[0;32m/tmp/user/22010416/ipykernel_217657/1745002634.py\u001b[0m in \u001b[0;36mdependanceLineraire\u001b[0;34m(L)\u001b[0m\n\u001b[1;32m      3\u001b[0m         \u001b[0;32mfor\u001b[0m \u001b[0mj\u001b[0m \u001b[0;32min\u001b[0m \u001b[0mrange\u001b[0m\u001b[0;34m(\u001b[0m\u001b[0mlen\u001b[0m\u001b[0;34m(\u001b[0m\u001b[0mL\u001b[0m\u001b[0;34m)\u001b[0m\u001b[0;34m-\u001b[0m\u001b[0mInteger\u001b[0m\u001b[0;34m(\u001b[0m\u001b[0;36m1\u001b[0m\u001b[0;34m)\u001b[0m\u001b[0;34m)\u001b[0m\u001b[0;34m:\u001b[0m\u001b[0;34m\u001b[0m\u001b[0;34m\u001b[0m\u001b[0m\n\u001b[1;32m      4\u001b[0m             \u001b[0;32mif\u001b[0m\u001b[0;34m(\u001b[0m\u001b[0;32mnot\u001b[0m\u001b[0;34m(\u001b[0m\u001b[0mi\u001b[0m\u001b[0;34m+\u001b[0m\u001b[0mj\u001b[0m\u001b[0;34m+\u001b[0m\u001b[0mInteger\u001b[0m\u001b[0;34m(\u001b[0m\u001b[0;36m1\u001b[0m\u001b[0;34m)\u001b[0m \u001b[0;34m>=\u001b[0m \u001b[0mlen\u001b[0m\u001b[0;34m(\u001b[0m\u001b[0mL\u001b[0m\u001b[0;34m)\u001b[0m\u001b[0;34m)\u001b[0m\u001b[0;34m)\u001b[0m\u001b[0;34m:\u001b[0m\u001b[0;34m\u001b[0m\u001b[0;34m\u001b[0m\u001b[0m\n\u001b[0;32m----> 5\u001b[0;31m                 \u001b[0mL\u001b[0m\u001b[0;34m[\u001b[0m\u001b[0mi\u001b[0m\u001b[0;34m+\u001b[0m\u001b[0mj\u001b[0m\u001b[0;34m+\u001b[0m\u001b[0mInteger\u001b[0m\u001b[0;34m(\u001b[0m\u001b[0;36m1\u001b[0m\u001b[0;34m)\u001b[0m\u001b[0;34m]\u001b[0m \u001b[0;34m=\u001b[0m \u001b[0mcombineVect\u001b[0m\u001b[0;34m(\u001b[0m\u001b[0mL\u001b[0m\u001b[0;34m[\u001b[0m\u001b[0mi\u001b[0m\u001b[0;34m]\u001b[0m\u001b[0;34m,\u001b[0m\u001b[0mL\u001b[0m\u001b[0;34m[\u001b[0m\u001b[0mi\u001b[0m\u001b[0;34m+\u001b[0m\u001b[0mj\u001b[0m\u001b[0;34m+\u001b[0m\u001b[0mInteger\u001b[0m\u001b[0;34m(\u001b[0m\u001b[0;36m1\u001b[0m\u001b[0;34m)\u001b[0m\u001b[0;34m]\u001b[0m\u001b[0;34m,\u001b[0m\u001b[0mi\u001b[0m\u001b[0;34m)\u001b[0m\u001b[0;34m\u001b[0m\u001b[0;34m\u001b[0m\u001b[0m\n\u001b[0m\u001b[1;32m      6\u001b[0m     \u001b[0;32mreturn\u001b[0m\u001b[0;34m(\u001b[0m\u001b[0mL\u001b[0m\u001b[0;34m==\u001b[0m\u001b[0;34m[\u001b[0m\u001b[0;34m[\u001b[0m\u001b[0mInteger\u001b[0m\u001b[0;34m(\u001b[0m\u001b[0;36m0\u001b[0m\u001b[0;34m)\u001b[0m\u001b[0;34m]\u001b[0m\u001b[0;34m*\u001b[0m\u001b[0mlen\u001b[0m\u001b[0;34m(\u001b[0m\u001b[0mL\u001b[0m\u001b[0;34m[\u001b[0m\u001b[0mInteger\u001b[0m\u001b[0;34m(\u001b[0m\u001b[0;36m0\u001b[0m\u001b[0;34m)\u001b[0m\u001b[0;34m]\u001b[0m\u001b[0;34m)\u001b[0m\u001b[0;34m]\u001b[0m\u001b[0;34m*\u001b[0m\u001b[0mlen\u001b[0m\u001b[0;34m(\u001b[0m\u001b[0mL\u001b[0m\u001b[0;34m)\u001b[0m\u001b[0;34m)\u001b[0m\u001b[0;34m\u001b[0m\u001b[0;34m\u001b[0m\u001b[0m\n",
      "\u001b[0;32m/tmp/user/22010416/ipykernel_217657/2992405400.py\u001b[0m in \u001b[0;36mcombineVect\u001b[0;34m(v, u, i)\u001b[0m\n\u001b[1;32m      1\u001b[0m \u001b[0;32mdef\u001b[0m \u001b[0mcombineVect\u001b[0m\u001b[0;34m(\u001b[0m\u001b[0mv\u001b[0m\u001b[0;34m,\u001b[0m\u001b[0mu\u001b[0m\u001b[0;34m,\u001b[0m\u001b[0mi\u001b[0m\u001b[0;34m)\u001b[0m\u001b[0;34m:\u001b[0m\u001b[0;34m\u001b[0m\u001b[0;34m\u001b[0m\u001b[0m\n\u001b[1;32m      2\u001b[0m     \u001b[0ma\u001b[0m \u001b[0;34m=\u001b[0m \u001b[0msolve\u001b[0m\u001b[0;34m(\u001b[0m\u001b[0;34m[\u001b[0m\u001b[0mv\u001b[0m\u001b[0;34m[\u001b[0m\u001b[0mi\u001b[0m\u001b[0;34m]\u001b[0m\u001b[0;34m+\u001b[0m\u001b[0mx\u001b[0m\u001b[0;34m*\u001b[0m\u001b[0mu\u001b[0m\u001b[0;34m[\u001b[0m\u001b[0mi\u001b[0m\u001b[0;34m]\u001b[0m\u001b[0;34m==\u001b[0m\u001b[0mInteger\u001b[0m\u001b[0;34m(\u001b[0m\u001b[0;36m0\u001b[0m\u001b[0;34m)\u001b[0m\u001b[0;34m]\u001b[0m\u001b[0;34m,\u001b[0m\u001b[0mx\u001b[0m\u001b[0;34m)\u001b[0m\u001b[0;34m\u001b[0m\u001b[0;34m\u001b[0m\u001b[0m\n\u001b[0;32m----> 3\u001b[0;31m     \u001b[0mr\u001b[0m \u001b[0;34m=\u001b[0m \u001b[0mv\u001b[0m \u001b[0;34m+\u001b[0m \u001b[0ma\u001b[0m\u001b[0;34m[\u001b[0m\u001b[0;34m-\u001b[0m\u001b[0mInteger\u001b[0m\u001b[0;34m(\u001b[0m\u001b[0;36m1\u001b[0m\u001b[0;34m)\u001b[0m\u001b[0;34m]\u001b[0m\u001b[0;34m.\u001b[0m\u001b[0mrhs\u001b[0m\u001b[0;34m(\u001b[0m\u001b[0;34m)\u001b[0m\u001b[0;34m*\u001b[0m\u001b[0mu\u001b[0m\u001b[0;34m\u001b[0m\u001b[0;34m\u001b[0m\u001b[0m\n\u001b[0m\u001b[1;32m      4\u001b[0m     \u001b[0;32mreturn\u001b[0m \u001b[0mr\u001b[0m\u001b[0;34m\u001b[0m\u001b[0;34m\u001b[0m\u001b[0m\n",
      "\u001b[0;32m/usr/lib/python3/dist-packages/sage/structure/sequence.py\u001b[0m in \u001b[0;36m__getitem__\u001b[0;34m(self, n)\u001b[0m\n\u001b[1;32m    525\u001b[0m                             cr = self.__cr)\n\u001b[1;32m    526\u001b[0m         \u001b[0;32melse\u001b[0m\u001b[0;34m:\u001b[0m\u001b[0;34m\u001b[0m\u001b[0;34m\u001b[0m\u001b[0m\n\u001b[0;32m--> 527\u001b[0;31m             \u001b[0;32mreturn\u001b[0m \u001b[0mlist\u001b[0m\u001b[0;34m.\u001b[0m\u001b[0m__getitem__\u001b[0m\u001b[0;34m(\u001b[0m\u001b[0mself\u001b[0m\u001b[0;34m,\u001b[0m\u001b[0mn\u001b[0m\u001b[0;34m)\u001b[0m\u001b[0;34m\u001b[0m\u001b[0;34m\u001b[0m\u001b[0m\n\u001b[0m\u001b[1;32m    528\u001b[0m \u001b[0;34m\u001b[0m\u001b[0m\n\u001b[1;32m    529\u001b[0m     \u001b[0;31m# We have to define the *slice functions as long as Sage uses Python 2.*\u001b[0m\u001b[0;34m\u001b[0m\u001b[0;34m\u001b[0m\u001b[0m\n",
      "\u001b[0;31mIndexError\u001b[0m: list index out of range"
     ]
    }
   ],
   "source": [
    "v1 = vector([0,1,2])\n",
    "v2 = vector([1,0,1])\n",
    "v3 = vector([1,1,1])\n",
    "\n",
    "bool(dependanceLineraire([v3,v2,v1,vector([2,1,2])]))"
   ]
  },
  {
   "cell_type": "markdown",
   "metadata": {
    "deletable": false,
    "editable": false,
    "run_control": {
     "frozen": true
    }
   },
   "source": [
    "Tester votre fonction en inversant l'ordre des éléments de la liste: $L= [v_1,v_2, v_3, u]$. *Attention, il est normal que votre fonction ne marche pas.*"
   ]
  },
  {
   "cell_type": "code",
   "execution_count": 0,
   "metadata": {},
   "outputs": [],
   "source": []
  },
  {
   "cell_type": "markdown",
   "metadata": {
    "deletable": false,
    "editable": false,
    "run_control": {
     "frozen": true
    }
   },
   "source": [
    "Votre fonction ne marche plus car il n'est pas garantie que lors l'appel à la fonction `combineVect` l'entrée $A[i,i]$ sur la diagonale de la matrice soit non nulle. Lorsque ce problème arrive, il suffit de trouver une ligne $j>i$ de la matrice $A$ telle que $A[j,i]\\neq 0$ et d'échanger ces deux lignes. La fonction `A.swap_rows(i,j)` vous permettra de faire cette échange. Si il n'y aucune ligne à échanger cela signifie que toutes les i-ème composantes sont toutes nulles et qu'on peut donc changer de composante qu'on doit mettre à 0. Attention, on n'échanche pas avec la dernière ligne qui correspond à $u$."
   ]
  },
  {
   "cell_type": "markdown",
   "metadata": {
    "deletable": false,
    "editable": false,
    "run_control": {
     "frozen": true
    }
   },
   "source": [
    "### Question\n",
    "Écrire une nouvelle fonction `dependanceLineaire([v1,...,vm,u])` qui prenne en compte ces échanges de lignes. Vous la testerez sur l'exemple précédent qui ne fonctionnait pas (votre fonction doit retourner `true` pour cet exemple). "
   ]
  },
  {
   "cell_type": "code",
   "execution_count": 0,
   "metadata": {},
   "outputs": [],
   "source": []
  },
  {
   "cell_type": "code",
   "execution_count": 0,
   "metadata": {},
   "outputs": [],
   "source": []
  },
  {
   "cell_type": "markdown",
   "metadata": {
    "deletable": false,
    "editable": false,
    "run_control": {
     "frozen": true
    }
   },
   "source": [
    "### Question\n",
    "Tester votre nouvelle fonction sur la liste $L= [v_4,v_2, v_1, u]$. Votre fonction doit retourner `false` pour cet exemple)."
   ]
  },
  {
   "cell_type": "code",
   "execution_count": 0,
   "metadata": {},
   "outputs": [],
   "source": []
  },
  {
   "cell_type": "markdown",
   "metadata": {
    "deletable": false,
    "editable": false,
    "run_control": {
     "frozen": true
    }
   },
   "source": [
    "On souhaite maintenant trouver les valeurs de la combinaison linéaire\n",
    "permettant de réécrire un vecteur $u$ en fonction des vecteurs $[v_1,\\dots,v_m]$, lorsque cela est possible, câd $u= \\alpha_1 v_1+\\alpha_2 v2 + \\dots + \\alpha_m v_m$.\n",
    "\n",
    "Pour cela il va falloir conserver toutes les réécriture des lignes qui sont faites avec les appels à la fonction `combineVect`. En effet, à chaque étape `i` on a calculé $u=u+\\alpha_i v_i$ tel que $u[i]$ soit nul mais les vecteur $v_i$ ont eux aussi été modifiés de telle sorte que  $v_i= v_i+\\sum_{k<i} \\beta_k v_k$. Il faut donc pouvoir conserver la ré-écriture de tous les $v_i$. Une facon simple de conserver ces réécritures est de faire le calcul sur la matrice augmentée à droite par une matrice identité de taille $m+1$.\n",
    "\n",
    "$$\n",
    "A=\n",
    "\\begin{pmatrix}\n",
    "&&v_1&& 1&&&&\\\\\n",
    "&&v_2&& &1&&&\\\\\n",
    "&&\\vdots&&&&\\ddots&&\\\\\n",
    "&&v_m&& &&&1&\\\\\n",
    "&&u&& &&&&1\n",
    "\\end{pmatrix}\n",
    "$$\n",
    "\n",
    "Si on applique notre méthode pour mettre des zéro sous la diagonale, la matrice identité conservera toutes les réécriture des vecteurs. En particulier, la dernière ligne permettra de trouver facilement les coefficients $\\alpha_i$ demandés."
   ]
  },
  {
   "cell_type": "markdown",
   "metadata": {
    "deletable": false,
    "editable": false,
    "run_control": {
     "frozen": true
    }
   },
   "source": [
    "### Question\n",
    "Proposer une nouvelle fonction `findDependanceLineaire(u,[v1,...,vm])` qui retourne le vecteur $[\\alpha_1,\\dots,\\alpha_m]$ tel que $u=\\alpha_1v_1+\\dots+\\alpha_mv_m$. Si il n'y pas de dépendance linéaire vous renverrez `None`.\n",
    "\n",
    "Vous vérifierez votre réponse pour $L= [v_3,v_2, v_1,u]$ et $L= [v_4,v_2, v_1,u]$"
   ]
  },
  {
   "cell_type": "code",
   "execution_count": 0,
   "metadata": {},
   "outputs": [],
   "source": []
  },
  {
   "cell_type": "code",
   "execution_count": 0,
   "metadata": {},
   "outputs": [],
   "source": []
  },
  {
   "cell_type": "code",
   "execution_count": 0,
   "metadata": {},
   "outputs": [],
   "source": []
  },
  {
   "cell_type": "code",
   "execution_count": 0,
   "metadata": {},
   "outputs": [],
   "source": []
  },
  {
   "cell_type": "markdown",
   "metadata": {
    "deletable": false,
    "editable": false,
    "run_control": {
     "frozen": true
    }
   },
   "source": [
    "## Rang d'une matrice avec l'élimination de Gauss\n",
    "\n",
    "La méthode d'élimination de Gauss vu précédemment permet également d'inverser une matrice (quand elle est inversible). Attention, l'inverse d'une matrice $A$ n'existe que si $A$ est carrée et que toutes les lignes sont linéairement indépendantes. On retrouve encore la notion de rang. \n",
    "\n",
    "Le rang d'une matrice est le nombre minimal de lignes (ou de colonnes) qui permet de représenter la famille\n",
    "des vecteurs lignes (ou colonnes) définie par la matrice.\n"
   ]
  },
  {
   "cell_type": "markdown",
   "metadata": {
    "deletable": false,
    "editable": false,
    "run_control": {
     "frozen": true
    }
   },
   "source": [
    "### Question\n",
    "On peut facilement modifier la méthode de Gauss vu précédemment pour calculer le rang puisqu'il suffit encore une fois de mettre des zéros sous la diagonale. La différence est que maintenant on s'autorise à faire des échanges de lignes avec la dernière ligne. À l'issue de l'élimination, il suffit de compter le nombre de lignes non-nulles pour avoir le rang.\n",
    "\n",
    "Écrire une fonction `myRank(A)` qui calcule le rang de A en utilisant l'élimination de Gauss vu précédemment.\n"
   ]
  },
  {
   "cell_type": "code",
   "execution_count": 0,
   "metadata": {},
   "outputs": [],
   "source": []
  },
  {
   "cell_type": "code",
   "execution_count": 0,
   "metadata": {},
   "outputs": [],
   "source": []
  },
  {
   "cell_type": "markdown",
   "metadata": {
    "deletable": false,
    "editable": false,
    "run_control": {
     "frozen": true
    }
   },
   "source": [
    "### Question\n",
    "Construisez des matrices aléatoires rectangulaires de taille $m \\times n$ qui ne sont pas de rang maximal. Vous vérifierez que leur rang est $< \\operatorname{min}(m,n)$ et qu'il est identique à celui calculé par la methode `rank` de Sage.  **Aide:** pour construire une matrice $A$ de rang non maximal, il suffit de construire une matrice aléatoire $B$ de taille plus petite que A et de rajouter des lignes ou des colonnes qui seront des combinaisons linéaires des lignes (ou colonnes) de B. \n",
    "\n",
    "**Rappel:** lorsque'on multiplie deux matrices A et B, leur produit réprésente à la fois:\n",
    "- une combinaison linéaire des colonnes de A\n",
    "- une combinaison linéaire des lignes de B"
   ]
  },
  {
   "cell_type": "code",
   "execution_count": 0,
   "metadata": {},
   "outputs": [],
   "source": []
  },
  {
   "cell_type": "markdown",
   "metadata": {
    "deletable": false,
    "editable": false,
    "run_control": {
     "frozen": true
    }
   },
   "source": [
    "## Inversion d'une matrice par Gauss\n",
    "\n",
    "Pour inverser une matrice carré, nous allons reprendre la méthode d'élimination de Gauss utilisée pour trouver les combinaisons linéaires de vecteurs. Cette fois-ci on va augmenter la matrice à droite avec une matrice identité et on va essayer de mettre de zero au dessus et au-dessous de la diagonale et également mettre des 1 sur la diagonale.\n",
    "\n",
    "$$\n",
    "A=\n",
    "\\begin{pmatrix}\n",
    "* & * & * & * \\\\\n",
    "* & * & * & * \\\\\n",
    "* & * & * & * \\\\\n",
    "* & * & * & * \\\\\n",
    "\\end{pmatrix}\n",
    "\\Longrightarrow\n",
    "\\begin{pmatrix}A & I \\end{pmatrix} =\n",
    "\\begin{pmatrix}\n",
    "* & * & * & * & 1& & & \\\\\n",
    "* & * & * & * &  &1 & &\\\\\n",
    "* & * & * & * &  &  &1 &\\\\\n",
    "* & * & * & * &  &  & &1\\\\\n",
    "\\end{pmatrix}\n",
    "$$\n",
    "\n",
    "$$\n",
    "\\Longrightarrow\n",
    "Gauss(\n",
    "\\begin{pmatrix}A & I \\end{pmatrix}) =\n",
    "\\begin{pmatrix}\n",
    " 1& & & & * & * & * & * \\\\\n",
    "  &1 & & & * & * & * & * \\\\\n",
    "  &  &1 & & * & * & * & * \\\\\n",
    "  &  & &  1& * & * & * & * \\\\\n",
    "\\end{pmatrix}= \\begin{pmatrix}I & A^{-1} \\end{pmatrix} \n",
    "$$\n",
    "\n",
    "Comme précédemment, on utilisera la fonction `combineVect` pour modifier une ligne en lui ajoutant un multiple d'une autre pour mettre un zero à une certaine position. Pour mettre un 1 en position $(i,i)$ dans la matrice $A$, il suffit de multiplier la ligne $i$ de A par l'inverse de l'élément $A[i,i]$."
   ]
  },
  {
   "cell_type": "markdown",
   "metadata": {
    "deletable": false,
    "editable": false,
    "run_control": {
     "frozen": true
    }
   },
   "source": [
    "### Question\n",
    "\n",
    "Écrire la fonction `myInverse(A)` qui calculer l'inverse d'une matrice carrée. Attention, vous devrez vérifier en premier que la matrice est carré. Bien entendu, il faudra s'assurer que la matrice est bien inversible, mais l'élimination de Gauss nous permettra de le savoir. En effet, il suffira de vérifier qu'à la fin de l'algorithme vous obtenez bien la matrice identité sur la partie gauche de la matrice augmentée. Si telle est le cas, la matrice est inversible et son inverse est dans la partie droite de la matrice augmentée, sinon cela signifie que la matrice n'est pas inversible.\n"
   ]
  },
  {
   "cell_type": "code",
   "execution_count": 0,
   "metadata": {},
   "outputs": [],
   "source": []
  },
  {
   "cell_type": "code",
   "execution_count": 0,
   "metadata": {},
   "outputs": [],
   "source": []
  },
  {
   "cell_type": "code",
   "execution_count": 0,
   "metadata": {},
   "outputs": [],
   "source": []
  },
  {
   "cell_type": "markdown",
   "metadata": {
    "deletable": false,
    "editable": false,
    "run_control": {
     "frozen": true
    }
   },
   "source": [
    "## Une formule récursive  pour le calcul de l'inverse\n",
    "\n",
    "En considérant la matrice  $ A= \n",
    "\\begin{pmatrix}\n",
    "a & b\\\\\n",
    "c & d\\\\\n",
    "\\end{pmatrix}\n",
    "\\,\\mbox{et le symbole }\\,\n",
    "S=d-ca^{-1}b\n",
    "$\n",
    "\n",
    "on peut facilement définir l'inverse \n",
    "$$\n",
    "A^{-1}= \n",
    "\\begin{pmatrix}\n",
    "1 & -a^{-1}b\\\\\n",
    "0 & 1\\\\\n",
    "\\end{pmatrix}\n",
    "\\begin{pmatrix}\n",
    "a^{-1} & 0\\\\\n",
    "0 & S^{-1}\\\\\n",
    "\\end{pmatrix}\n",
    "\\begin{pmatrix}\n",
    "1 & 0\\\\\n",
    "-ca^{-1} & 1\\\\\n",
    "\\end{pmatrix}\n",
    "$$\n",
    "\n",
    "\n"
   ]
  },
  {
   "cell_type": "markdown",
   "metadata": {
    "deletable": false,
    "editable": false,
    "run_control": {
     "frozen": true
    }
   },
   "source": [
    "### Question\n",
    "\n",
    "En utilisant le domaine `SymbolicRing` (`SR`) prouver la formule donnée précédemment (de deux manières différentes).\n"
   ]
  },
  {
   "cell_type": "code",
   "execution_count": 0,
   "metadata": {},
   "outputs": [],
   "source": []
  },
  {
   "cell_type": "markdown",
   "metadata": {
    "deletable": false,
    "editable": false,
    "run_control": {
     "frozen": true
    }
   },
   "source": [
    "### Généralisation de la récurrence aux matrices\n",
    "À partir de cette formule d'inversion de matrice $2\\times 2$, nous pouvons  définir un algorithme récursif.\n",
    "En effet, si la dimension $n$ d'une matrice $H$ est paire alors on peut découper la matrice $H$ en 4 blocs correspondants à des matrices de taille $\\frac{n}{2}\\times\\frac{n}{2}$\n",
    "\n",
    "$$\n",
    "H=\n",
    "\\begin{pmatrix}\n",
    "A & B\\\\\n",
    "C & D\\\\\n",
    "\\end{pmatrix}\n",
    "$$\n",
    "\n",
    "On peut donc appliquer la formule ci-dessus pour calculer l'inverse en calculant récursivement $A^{-1}$ et $S^{-1}= (D-CA^{-1}B)^{-1}$. Bien entendu, la récurrence ne sera valide que si $n=2^k$ et elle s'arrètera pour $n=1$ où il est facile de retourner l'inverse."
   ]
  },
  {
   "cell_type": "markdown",
   "metadata": {
    "deletable": false,
    "editable": false,
    "run_control": {
     "frozen": true
    }
   },
   "source": [
    "### Question\n",
    "\n",
    "Défininir la fonction `myInverseRec(H)` qui calcule l'inverse de la matrice $H$ en appliquant la méthode ci-dessus. Cette fonction ne marchera que pour des dimensions de matrices qui seront des puissances de 2."
   ]
  },
  {
   "cell_type": "code",
   "execution_count": 0,
   "metadata": {},
   "outputs": [],
   "source": []
  },
  {
   "cell_type": "markdown",
   "metadata": {
    "deletable": false,
    "editable": false,
    "run_control": {
     "frozen": true
    }
   },
   "source": [
    "### Question\n",
    "Tester votre fonction pour des matrices aléatoires de taille $2^k$ pour $1<k<8$ à coefficient dans le corps finis à 65537 éléments `GF(65537)`."
   ]
  },
  {
   "cell_type": "code",
   "execution_count": 0,
   "metadata": {},
   "outputs": [],
   "source": []
  },
  {
   "cell_type": "markdown",
   "metadata": {
    "deletable": false,
    "editable": false,
    "run_control": {
     "frozen": true
    }
   },
   "source": [
    "### Question\n",
    "\n",
    "En utilisant la fonction `%time` comparer le temps de calcul de vos deux fonctions `myInverse` et `myInverseRec`"
   ]
  },
  {
   "cell_type": "code",
   "execution_count": 0,
   "metadata": {},
   "outputs": [],
   "source": []
  },
  {
   "cell_type": "code",
   "execution_count": 0,
   "metadata": {},
   "outputs": [],
   "source": []
  },
  {
   "cell_type": "code",
   "execution_count": 0,
   "metadata": {},
   "outputs": [],
   "source": []
  }
 ],
 "metadata": {
  "celltoolbar": "Aucun(e)",
  "kernelspec": {
   "display_name": "SageMath 9.5",
   "language": "sage",
   "name": "sagemath"
  },
  "language_info": {
   "codemirror_mode": {
    "name": "ipython",
    "version": 3
   },
   "file_extension": ".py",
   "mimetype": "text/x-python",
   "name": "python",
   "nbconvert_exporter": "python",
   "pygments_lexer": "ipython3",
   "version": "3.10.6"
  },
  "toc": {
   "base_numbering": 1,
   "nav_menu": {},
   "number_sections": true,
   "sideBar": true,
   "skip_h1_title": true,
   "title_cell": "Table of Contents",
   "title_sidebar": "Contents",
   "toc_cell": false,
   "toc_position": {
    "height": "calc(100% - 180px)",
    "left": "10px",
    "top": "150px",
    "width": "191.916672px"
   },
   "toc_section_display": true,
   "toc_window_display": true
  },
  "varInspector": {
   "cols": {
    "lenName": 16,
    "lenType": 16,
    "lenVar": 40
   },
   "kernels_config": {
    "python": {
     "delete_cmd_postfix": "",
     "delete_cmd_prefix": "del ",
     "library": "var_list.py",
     "varRefreshCmd": "print(var_dic_list())"
    },
    "r": {
     "delete_cmd_postfix": ") ",
     "delete_cmd_prefix": "rm(",
     "library": "var_list.r",
     "varRefreshCmd": "cat(var_dic_list()) "
    }
   },
   "types_to_exclude": [
    "module",
    "function",
    "builtin_function_or_method",
    "instance",
    "_Feature"
   ],
   "window_display": false
  }
 },
 "nbformat": 4,
 "nbformat_minor": 4
}
