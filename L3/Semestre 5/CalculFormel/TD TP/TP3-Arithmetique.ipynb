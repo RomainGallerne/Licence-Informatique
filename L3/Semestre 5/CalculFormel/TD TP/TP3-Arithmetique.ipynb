{
 "cells": [
  {
   "cell_type": "code",
   "execution_count": 1,
   "metadata": {
    "tags": [
     "sujet"
    ]
   },
   "outputs": [],
   "source": [
    "%display latex"
   ]
  },
  {
   "cell_type": "markdown",
   "metadata": {
    "deletable": false,
    "editable": false,
    "run_control": {
     "frozen": true
    }
   },
   "source": [
    "# TP arithmétique et cryptographie\n",
    "\n",
    "Durant cette séance nous nous intéressons à faire des calculs dans des structures mathématiques classiques qui sont d'une grande importance dans les applications en cryptographie.\n",
    "\n",
    "## Introduction\n",
    "\n",
    "Tout d'abord nous allons revenir sur la notion de calcul, et plus particulièrement sur la notion de certains *domaines de calcul*. En effet, dans SageMath nous pouvons calculer avec des entiers ou des nombres rationnels assez facilement à partir d'expression mathématiques.\n"
   ]
  },
  {
   "cell_type": "code",
   "execution_count": 2,
   "metadata": {
    "tags": [
     "sujet"
    ]
   },
   "outputs": [
    {
     "data": {
      "text/html": [
       "<html><script type=\"math/tex; mode=display\">\\newcommand{\\Bold}[1]{\\mathbf{#1}}4</script></html>"
      ],
      "text/latex": [
       "$$\\newcommand{\\Bold}[1]{\\mathbf{#1}}4$$"
      ],
      "text/plain": [
       "4"
      ]
     },
     "execution_count": 2,
     "metadata": {},
     "output_type": "execute_result"
    }
   ],
   "source": [
    "2+2 # calcul avec des entiers"
   ]
  },
  {
   "cell_type": "code",
   "execution_count": 3,
   "metadata": {
    "tags": [
     "sujet"
    ]
   },
   "outputs": [
    {
     "data": {
      "text/html": [
       "<html><script type=\"math/tex; mode=display\">\\newcommand{\\Bold}[1]{\\mathbf{#1}}\\frac{29}{21}</script></html>"
      ],
      "text/latex": [
       "$$\\newcommand{\\Bold}[1]{\\mathbf{#1}}\\frac{29}{21}$$"
      ],
      "text/plain": [
       "29/21"
      ]
     },
     "execution_count": 3,
     "metadata": {},
     "output_type": "execute_result"
    }
   ],
   "source": [
    "2/3+5/7 # calcul avec des nombres rationnels"
   ]
  },
  {
   "cell_type": "markdown",
   "metadata": {
    "deletable": false,
    "editable": false,
    "run_control": {
     "frozen": true
    }
   },
   "source": [
    "En fait, la notion de calcul sur les entiers ou les rationnels est associé à la notion de *structure mathématique* $\\mathbb Z$ et $\\mathbb{Q}$ pour lesquels les opérations telles que l'addition et la multiplication sont *bien définies*. Par *bien définie*, on entend que l'opération est calculable et que le résultat reste dans le même ensemble de valeurs que celui des entrées : pour $\\star\\in\\{+,\\times\\}$,\n",
    "- $\\forall x,y \\in \\mathbb{Z} \\longrightarrow (x\\star y)\\in\\mathbb{Z}$, et \n",
    "- $\\forall x,y \\in \\mathbb{Q} \\longrightarrow (x \\star y)\\in\\mathbb{Q}$\n",
    "\n",
    "Dans SageMath, les structures $\\mathbb Z$ et $\\mathbb Q$ sont nommées `ZZ` et `QQ`. Par exemple `QQ(3)` construit le *rationnel* $3$ alors que `ZZ(3)` construit l'entier $3$."
   ]
  },
  {
   "cell_type": "markdown",
   "metadata": {
    "deletable": false,
    "editable": false,
    "run_control": {
     "frozen": true
    }
   },
   "source": [
    "### Question\n",
    "Vérifier au travers d'exemples que les résultats des opérations `+` et `*` sur les rationnels sont bien des rationnels. *Essayer de deviner la réponse aux questions qui suivent, puis vérifier avec l'instruction `type(...)` qui fournit le type de son argument.*\n",
    "- Quels sont les types de retour de `ZZ(3)+ZZ(5)` et `QQ(3)+QQ(5)`.\n",
    "- Quelle est la valeur de $\\frac{6}{5}\\times\\frac{35}{3}$ ? Et son type de retour ?\n",
    "- Que se passe-t-il si on tape `ZZ(4) * QQ(6)` ?"
   ]
  },
  {
   "cell_type": "code",
   "execution_count": 4,
   "metadata": {},
   "outputs": [
    {
     "data": {
      "text/html": [
       "<html><script type=\"math/tex; mode=display\">\\newcommand{\\Bold}[1]{\\mathbf{#1}}8</script></html>"
      ],
      "text/latex": [
       "$$\\newcommand{\\Bold}[1]{\\mathbf{#1}}8$$"
      ],
      "text/plain": [
       "8"
      ]
     },
     "metadata": {},
     "output_type": "display_data"
    },
    {
     "data": {
      "text/html": [
       "<html><script type=\"math/tex; mode=display\">\\newcommand{\\Bold}[1]{\\mathbf{#1}}\\verb|&lt;class|\\verb| |\\verb|'sage.rings.integer.Integer'>|</script></html>"
      ],
      "text/latex": [
       "$$\\newcommand{\\Bold}[1]{\\mathbf{#1}}\\verb|<class|\\verb| |\\verb|'sage.rings.integer.Integer'>|$$"
      ],
      "text/plain": [
       "<class 'sage.rings.integer.Integer'>"
      ]
     },
     "metadata": {},
     "output_type": "display_data"
    },
    {
     "data": {
      "text/html": [
       "<html><script type=\"math/tex; mode=display\">\\newcommand{\\Bold}[1]{\\mathbf{#1}}8</script></html>"
      ],
      "text/latex": [
       "$$\\newcommand{\\Bold}[1]{\\mathbf{#1}}8$$"
      ],
      "text/plain": [
       "8"
      ]
     },
     "metadata": {},
     "output_type": "display_data"
    },
    {
     "data": {
      "text/html": [
       "<html><script type=\"math/tex; mode=display\">\\newcommand{\\Bold}[1]{\\mathbf{#1}}\\verb|&lt;class|\\verb| |\\verb|'sage.rings.rational.Rational'>|</script></html>"
      ],
      "text/latex": [
       "$$\\newcommand{\\Bold}[1]{\\mathbf{#1}}\\verb|<class|\\verb| |\\verb|'sage.rings.rational.Rational'>|$$"
      ],
      "text/plain": [
       "<class 'sage.rings.rational.Rational'>"
      ]
     },
     "metadata": {},
     "output_type": "display_data"
    }
   ],
   "source": [
    "p = ZZ(3)+ZZ(5)\n",
    "show(p)\n",
    "show(type(p))\n",
    "\n",
    "q = QQ(3)+QQ(5)\n",
    "show(q)\n",
    "show(type(q))"
   ]
  },
  {
   "cell_type": "code",
   "execution_count": 5,
   "metadata": {},
   "outputs": [
    {
     "data": {
      "text/html": [
       "<html><script type=\"math/tex; mode=display\">\\newcommand{\\Bold}[1]{\\mathbf{#1}}14</script></html>"
      ],
      "text/latex": [
       "$$\\newcommand{\\Bold}[1]{\\mathbf{#1}}14$$"
      ],
      "text/plain": [
       "14"
      ]
     },
     "metadata": {},
     "output_type": "display_data"
    },
    {
     "data": {
      "text/html": [
       "<html><script type=\"math/tex; mode=display\">\\newcommand{\\Bold}[1]{\\mathbf{#1}}\\verb|&lt;class|\\verb| |\\verb|'sage.rings.rational.Rational'>|</script></html>"
      ],
      "text/latex": [
       "$$\\newcommand{\\Bold}[1]{\\mathbf{#1}}\\verb|<class|\\verb| |\\verb|'sage.rings.rational.Rational'>|$$"
      ],
      "text/plain": [
       "<class 'sage.rings.rational.Rational'>"
      ]
     },
     "metadata": {},
     "output_type": "display_data"
    }
   ],
   "source": [
    "p = 6/5 * 35/3\n",
    "show(p)\n",
    "show(type(p))"
   ]
  },
  {
   "cell_type": "code",
   "execution_count": 6,
   "metadata": {},
   "outputs": [
    {
     "data": {
      "text/html": [
       "<html><script type=\"math/tex; mode=display\">\\newcommand{\\Bold}[1]{\\mathbf{#1}}24</script></html>"
      ],
      "text/latex": [
       "$$\\newcommand{\\Bold}[1]{\\mathbf{#1}}24$$"
      ],
      "text/plain": [
       "24"
      ]
     },
     "metadata": {},
     "output_type": "display_data"
    },
    {
     "data": {
      "text/html": [
       "<html><script type=\"math/tex; mode=display\">\\newcommand{\\Bold}[1]{\\mathbf{#1}}\\verb|&lt;class|\\verb| |\\verb|'sage.rings.rational.Rational'>|</script></html>"
      ],
      "text/latex": [
       "$$\\newcommand{\\Bold}[1]{\\mathbf{#1}}\\verb|<class|\\verb| |\\verb|'sage.rings.rational.Rational'>|$$"
      ],
      "text/plain": [
       "<class 'sage.rings.rational.Rational'>"
      ]
     },
     "metadata": {},
     "output_type": "display_data"
    }
   ],
   "source": [
    "p = ZZ(4) * QQ(6)\n",
    "show(p)\n",
    "show(type(p))"
   ]
  },
  {
   "cell_type": "markdown",
   "metadata": {
    "deletable": false,
    "editable": false,
    "run_control": {
     "frozen": true
    }
   },
   "source": [
    "## Opérations modulaires\n",
    "\n",
    "<!-- On peut facilement définir la notion d'inverse pour l'addition et la multiplication à partir d'un élément neutre.\n",
    "\n",
    "- En effet, 0 étant neutre pour l'addition $(x+0= 0+x = x$),  l'inverse de l'addition est définie comme l'opération qui donne 0 par l'addition de x et de son inverse. Cela donne $ x + \\mathsf{inv}_+(x) = 0 \\longrightarrow \\mathsf{inv}_+(x)= -x$. On voit facilement que l'inverse de l'addition est bien définie pour $\\mathbb{Q}$ et $\\mathbb{Z}$: $\\forall x \\in \\mathbb{Q,Z} \\longrightarrow -x \\in \\mathbb{Q,Z}$\n",
    "\n",
    "\n",
    "- Cela marche pareil pour définir la multiplication en remarquant que 1 est le neutre pour la multiplication. Cela donne $ x * \\mathsf{inv}_*(x) = 1 \\longrightarrow \\mathsf{inv}_*(x)= 1/x$. Malheureuresement, on peut voir que cette inverse n'est pas bien définie pour tout  $x \\in \\mathbb{Q,Z}$. En effet, dans $\\mathbb{Z}$ seul 1 et -1 sont inversibles alors que pour $\\mathbb{Q}$ tout les éléments sauf zero sont inversibles.\n",
    "\n",
    "\n",
    "\n",
    "C'est à partir de cette notion d'inverse que l'on peut définir les opérations de soustraction et de division.\n",
    "- la soustraction est la composition de l'addition et de son inverse: $x-y = x + (-y)$\n",
    "- la division est la composition de la multiplication et de son inverse: $x/y = x * (1/y)$\n",
    "\n",
    "\n",
    "Pour retrouver des propriétés d'inversibilité pour les entiers similaires à celles des nombres rationnels de $ \\mathbb{Q}$ (tous les éléments hormis 0 ont un inverse.), il faut se ramener à des sous-ensemble des entiers.\n",
    "\n",
    "-->\n"
   ]
  },
  {
   "cell_type": "markdown",
   "metadata": {
    "deletable": false,
    "editable": false,
    "run_control": {
     "frozen": true
    }
   },
   "source": [
    "En cryptographie, on a besoin de travailler avec des ensembles *finis* de nombres. Pour cela, on utilise l'opération *modulo*. L'ensemble des entiers *modulo* $N$ est l'ensemble des entiers entre $0$ et $N-1$, et les opérations d'addition et de multiplication se font *modulo* $N$. <!--Le sous-ensemble des entiers à $N$ élements peut être identifié par la classe des entiers modulo $N$, câd l'ensemble des entiers compris entre $0$ et $N-1$. Pour--> Concrètement, pour calculer dans cet ensemble il suffit de faire le calcul dans $\\mathbb{Z}$ et de réduire le résultat *modulo* $N$ (prendre le reste de la division par $N$).\n",
    "\n",
    "Avec ce mode de calcul les opérations  $+$ et $\\times$ sont bien définies : pour $\\star\\in\\{+,\\times\\}$,\n",
    "$$\\forall x,y \\in\\{0,1,\\dots, N-1\\} \\longrightarrow (x\\star y) \\bmod N \\in \\{0,1,\\dots, N-1\\}$$\n",
    "\n",
    "<!--- l'inverse de l'addition étant définie par $\\mathsf{inv}_+(x) = N-x \\bmod N$, cette opération est bien définie on a que $x-y=x+N-y \\bmod N$  est bien un entier compris entre 0 et N-1.\n",
    "\n",
    "Nous reviendrons un peu plus loin sur l'inverse de la multiplication.-->\n",
    "\n",
    "Dans les questions qui suivent, on s'intéressent aux tables d'addition et de multiplication des entiers *modulo* $N$."
   ]
  },
  {
   "cell_type": "markdown",
   "metadata": {
    "deletable": false,
    "editable": false,
    "run_control": {
     "frozen": true
    }
   },
   "source": [
    "### Question  \n",
    "Donner la table d'addition <!--et de soustraction--> de l'ensemble $\\{0,1,2,3,4\\}$ des entiers *modulo* $5$ : représenter la table par une matrice `Ma5` telle que $Ma5[i,j]= i+j \\bmod 5$<!--et $Mb5[i,j]= i+5-j \\bmod 5$-->.  *L'instruction `Matrix(n,n)` permet de construire une matrice de taille $n \\times n$.*"
   ]
  },
  {
   "cell_type": "code",
   "execution_count": 7,
   "metadata": {},
   "outputs": [
    {
     "data": {
      "text/html": [
       "<html><script type=\"math/tex; mode=display\">\\newcommand{\\Bold}[1]{\\mathbf{#1}}\\left(\\begin{array}{rrrrr}\n",
       "0 & 1 & 2 & 3 & 4 \\\\\n",
       "1 & 2 & 3 & 4 & 0 \\\\\n",
       "2 & 3 & 4 & 0 & 1 \\\\\n",
       "3 & 4 & 0 & 1 & 2 \\\\\n",
       "4 & 0 & 1 & 2 & 3\n",
       "\\end{array}\\right)</script></html>"
      ],
      "text/latex": [
       "$$\\newcommand{\\Bold}[1]{\\mathbf{#1}}\\left(\\begin{array}{rrrrr}\n",
       "0 & 1 & 2 & 3 & 4 \\\\\n",
       "1 & 2 & 3 & 4 & 0 \\\\\n",
       "2 & 3 & 4 & 0 & 1 \\\\\n",
       "3 & 4 & 0 & 1 & 2 \\\\\n",
       "4 & 0 & 1 & 2 & 3\n",
       "\\end{array}\\right)$$"
      ],
      "text/plain": [
       "[0 1 2 3 4]\n",
       "[1 2 3 4 0]\n",
       "[2 3 4 0 1]\n",
       "[3 4 0 1 2]\n",
       "[4 0 1 2 3]"
      ]
     },
     "metadata": {},
     "output_type": "display_data"
    }
   ],
   "source": [
    "Ma5 = Matrix(5,5)\n",
    "for i in range(5):\n",
    "    for j in range(5):\n",
    "        Ma5[i,j] = (i+j) % 5\n",
    "show(Ma5)"
   ]
  },
  {
   "cell_type": "markdown",
   "metadata": {
    "deletable": false,
    "editable": false,
    "run_control": {
     "frozen": true
    }
   },
   "source": [
    "Pour effectuer des additions dans l'ensemble des entiers modulo 5, on peut utiliser cette matrice. <!-- qui donnent les tables d'addition et de sopustraction des entiers modulo 5.-->\n",
    "Par exemple, taper `Ma5[2,3]` pour obtenir $2+3 \\bmod 5$. <!--  et Ms5[2,3] pour obtenir $2-3 \\bmod 5$.-->"
   ]
  },
  {
   "cell_type": "code",
   "execution_count": 8,
   "metadata": {},
   "outputs": [
    {
     "data": {
      "text/html": [
       "<html><script type=\"math/tex; mode=display\">\\newcommand{\\Bold}[1]{\\mathbf{#1}}\\mathrm{True}</script></html>"
      ],
      "text/latex": [
       "$$\\newcommand{\\Bold}[1]{\\mathbf{#1}}\\mathrm{True}$$"
      ],
      "text/plain": [
       "True"
      ]
     },
     "execution_count": 8,
     "metadata": {},
     "output_type": "execute_result"
    }
   ],
   "source": [
    "bool(Ma5[2,3] == (2+3)%5)"
   ]
  },
  {
   "cell_type": "markdown",
   "metadata": {
    "deletable": false,
    "editable": false,
    "run_control": {
     "frozen": true
    }
   },
   "source": [
    "### Question \n",
    "Construire la matrice `Mp5` de multiplication des entiers modulo $5$ et utiliser cette matrice pour calculer $3^{98} \\bmod 5$. *Vérifier votre résultat en comparant avec l'instruction `pow(3,n,5)`.* "
   ]
  },
  {
   "cell_type": "code",
   "execution_count": 9,
   "metadata": {},
   "outputs": [
    {
     "data": {
      "text/html": [
       "<html><script type=\"math/tex; mode=display\">\\newcommand{\\Bold}[1]{\\mathbf{#1}}\\left(\\begin{array}{rrrrr}\n",
       "0 & 1 & 2 & 3 & 4 \\\\\n",
       "1 & 2 & 3 & 4 & 0 \\\\\n",
       "2 & 3 & 4 & 0 & 1 \\\\\n",
       "3 & 4 & 0 & 1 & 2 \\\\\n",
       "4 & 0 & 1 & 2 & 3\n",
       "\\end{array}\\right)</script></html>"
      ],
      "text/latex": [
       "$$\\newcommand{\\Bold}[1]{\\mathbf{#1}}\\left(\\begin{array}{rrrrr}\n",
       "0 & 1 & 2 & 3 & 4 \\\\\n",
       "1 & 2 & 3 & 4 & 0 \\\\\n",
       "2 & 3 & 4 & 0 & 1 \\\\\n",
       "3 & 4 & 0 & 1 & 2 \\\\\n",
       "4 & 0 & 1 & 2 & 3\n",
       "\\end{array}\\right)$$"
      ],
      "text/plain": [
       "[0 1 2 3 4]\n",
       "[1 2 3 4 0]\n",
       "[2 3 4 0 1]\n",
       "[3 4 0 1 2]\n",
       "[4 0 1 2 3]"
      ]
     },
     "metadata": {},
     "output_type": "display_data"
    }
   ],
   "source": [
    "Mp5 = Matrix(5,5)\n",
    "for i in range(5):\n",
    "    for j in range(5):\n",
    "        Mp5[i,j] = (i*j) % 5\n",
    "show(Ma5)"
   ]
  },
  {
   "cell_type": "code",
   "execution_count": 10,
   "metadata": {},
   "outputs": [
    {
     "data": {
      "text/html": [
       "<html><script type=\"math/tex; mode=display\">\\newcommand{\\Bold}[1]{\\mathbf{#1}}\\mathrm{True}</script></html>"
      ],
      "text/latex": [
       "$$\\newcommand{\\Bold}[1]{\\mathbf{#1}}\\mathrm{True}$$"
      ],
      "text/plain": [
       "True"
      ]
     },
     "execution_count": 10,
     "metadata": {},
     "output_type": "execute_result"
    }
   ],
   "source": [
    "r = 1\n",
    "for i in range(98):\n",
    "    r = Mp5[r,3]\n",
    "    \n",
    "bool(r == pow(3,98,5))"
   ]
  },
  {
   "cell_type": "markdown",
   "metadata": {
    "deletable": false,
    "editable": false,
    "run_control": {
     "frozen": true
    }
   },
   "source": [
    "### Question\n",
    "\n",
    "On a vu que le domaine des entiers de $\\mathbb{Z}$ se nomme `ZZ` dans SageMath. <!-- et x=ZZ(13) définit x comme l'entier 13 dans $\\mathbb{Z}$.--> De manière similaire, SageMath définit l'objet représentant l'ensemble des entiers *modulo* $N$ par `Integers(N)` pour un entier `N` donné. Mathématiquement, cet ensemble est noté $\\mathbb Z/N\\mathbb Z$.\n",
    "\n",
    "Par exemple, `A=Integers(50)` définit la structure mathématique correspondant aux entiers *modulo* $50$. Pour construire un élément de cette ensemble, il suffit de lui passer en paramètre un entier :\n",
    "- `A(10)` construit l'entier $10$ dans cet ensemble, càd $10 \\bmod 50 \\rightarrow 10$ ;\n",
    "- `A(57)` construit l'entier $57$ dans cet ensemble, càd $57 \\bmod 50 \\rightarrow 7$.\n",
    "\n",
    "**Dans toute la suite, on travaillera avec des éléments de `Integers(N)` pour différentes valeurs de $N$ : on ne devra donc plus utiliser le *modulo* (symbole `%`) car les opérations sont automatiquement faites *modulo* $N$ dans `Integers(N)`.\n",
    "\n",
    "**À vous de jouer :** \n",
    "- Définissez la variable `I10` définissant l'ensemble des entiers *modulo* $10$ et faite le calcul de $7\\times 5$ dans cet ensemble. \n",
    "- En utilisant la méthode `random_element()` de `I10`, calculer et afficher la somme et le produit de deux élements de `I10` choisis aléatoirement. \n",
    "- Refaites le calcul de $3^{98} \\bmod 5$ en utilisant la classe des entiers *modulo* $5$ de SageMath."
   ]
  },
  {
   "cell_type": "code",
   "execution_count": 11,
   "metadata": {},
   "outputs": [
    {
     "data": {
      "text/html": [
       "<html><script type=\"math/tex; mode=display\">\\newcommand{\\Bold}[1]{\\mathbf{#1}}5</script></html>"
      ],
      "text/latex": [
       "$$\\newcommand{\\Bold}[1]{\\mathbf{#1}}5$$"
      ],
      "text/plain": [
       "5"
      ]
     },
     "metadata": {},
     "output_type": "display_data"
    }
   ],
   "source": [
    "I10 = Integers(10)\n",
    "show(I10(5*7))"
   ]
  },
  {
   "cell_type": "code",
   "execution_count": 12,
   "metadata": {},
   "outputs": [
    {
     "data": {
      "text/html": [
       "<html><script type=\"math/tex; mode=display\">\\newcommand{\\Bold}[1]{\\mathbf{#1}}1</script></html>"
      ],
      "text/latex": [
       "$$\\newcommand{\\Bold}[1]{\\mathbf{#1}}1$$"
      ],
      "text/plain": [
       "1"
      ]
     },
     "metadata": {},
     "output_type": "display_data"
    },
    {
     "data": {
      "text/html": [
       "<html><script type=\"math/tex; mode=display\">\\newcommand{\\Bold}[1]{\\mathbf{#1}}0</script></html>"
      ],
      "text/latex": [
       "$$\\newcommand{\\Bold}[1]{\\mathbf{#1}}0$$"
      ],
      "text/plain": [
       "0"
      ]
     },
     "metadata": {},
     "output_type": "display_data"
    },
    {
     "data": {
      "text/html": [
       "<html><script type=\"math/tex; mode=display\">\\newcommand{\\Bold}[1]{\\mathbf{#1}}\\verb|---------------|</script></html>"
      ],
      "text/latex": [
       "$$\\newcommand{\\Bold}[1]{\\mathbf{#1}}\\verb|---------------|$$"
      ],
      "text/plain": [
       "'---------------'"
      ]
     },
     "metadata": {},
     "output_type": "display_data"
    },
    {
     "data": {
      "text/html": [
       "<html><script type=\"math/tex; mode=display\">\\newcommand{\\Bold}[1]{\\mathbf{#1}}1</script></html>"
      ],
      "text/latex": [
       "$$\\newcommand{\\Bold}[1]{\\mathbf{#1}}1$$"
      ],
      "text/plain": [
       "1"
      ]
     },
     "metadata": {},
     "output_type": "display_data"
    },
    {
     "data": {
      "text/html": [
       "<html><script type=\"math/tex; mode=display\">\\newcommand{\\Bold}[1]{\\mathbf{#1}}0</script></html>"
      ],
      "text/latex": [
       "$$\\newcommand{\\Bold}[1]{\\mathbf{#1}}0$$"
      ],
      "text/plain": [
       "0"
      ]
     },
     "metadata": {},
     "output_type": "display_data"
    }
   ],
   "source": [
    "r1 = I10.random_element()\n",
    "r2 = I10.random_element()\n",
    "\n",
    "show(r1)\n",
    "show(r2)\n",
    "show(\"---------------\")\n",
    "show(r1+r2)\n",
    "show(r1*r2)"
   ]
  },
  {
   "cell_type": "code",
   "execution_count": 13,
   "metadata": {},
   "outputs": [
    {
     "data": {
      "text/html": [
       "<html><script type=\"math/tex; mode=display\">\\newcommand{\\Bold}[1]{\\mathbf{#1}}4</script></html>"
      ],
      "text/latex": [
       "$$\\newcommand{\\Bold}[1]{\\mathbf{#1}}4$$"
      ],
      "text/plain": [
       "4"
      ]
     },
     "metadata": {},
     "output_type": "display_data"
    }
   ],
   "source": [
    "I5 = Integers(5)\n",
    "show(pow(I5(3),98,5))"
   ]
  },
  {
   "cell_type": "markdown",
   "metadata": {
    "deletable": false,
    "editable": false,
    "run_control": {
     "frozen": true
    }
   },
   "source": [
    "### Question\n",
    "\n",
    "Définir deux fonctions `genMatrixAdd` et `genMatrixMul` qui prennent en paramètre un entier $N$ et qui calculent la matrice correspondant à la table d'addition et de multiplication des entiers *modulo* $N$. Remarque : on souhaite que les matrices contiennent des éléments de `Integers(N)`. *Vérifiez que vos fonctions sont correctes (vous pouvez comparez le résultat avec les matrices `Ma5` et `Mp5` définies précédemment).*"
   ]
  },
  {
   "cell_type": "code",
   "execution_count": 14,
   "metadata": {},
   "outputs": [
    {
     "data": {
      "text/html": [
       "<html><script type=\"math/tex; mode=display\">\\newcommand{\\Bold}[1]{\\mathbf{#1}}\\mathrm{True}</script></html>"
      ],
      "text/latex": [
       "$$\\newcommand{\\Bold}[1]{\\mathbf{#1}}\\mathrm{True}$$"
      ],
      "text/plain": [
       "True"
      ]
     },
     "metadata": {},
     "output_type": "display_data"
    },
    {
     "data": {
      "text/html": [
       "<html><script type=\"math/tex; mode=display\">\\newcommand{\\Bold}[1]{\\mathbf{#1}}\\mathrm{True}</script></html>"
      ],
      "text/latex": [
       "$$\\newcommand{\\Bold}[1]{\\mathbf{#1}}\\mathrm{True}$$"
      ],
      "text/plain": [
       "True"
      ]
     },
     "metadata": {},
     "output_type": "display_data"
    }
   ],
   "source": [
    "def genMatrixAdd(N):\n",
    "    I = Integers(N)\n",
    "    M = Matrix(Integers(N),N,N)\n",
    "    for i in range(N):\n",
    "        for j in range(N):\n",
    "            M[i,j] = I(i+j)\n",
    "    return M\n",
    "    \n",
    "\n",
    "def genMatrixMul(N):\n",
    "    I = Integers(N)\n",
    "    M = Matrix(Integers(N),N,N)\n",
    "    for i in range(N):\n",
    "        for j in range(N):\n",
    "            M[i,j] = I(i*j)\n",
    "    return M\n",
    "\n",
    "show(bool(Mp5 == genMatrixMul(5)))\n",
    "show(bool(Ma5 == genMatrixAdd(5)))"
   ]
  },
  {
   "cell_type": "markdown",
   "metadata": {
    "deletable": false,
    "editable": false,
    "run_control": {
     "frozen": true
    }
   },
   "source": [
    "## Inverses\n",
    "\n",
    "On peut facilement définir la notion d'inverse pour l'addition et la multiplication à partir d'un *élément neutre*, c'est-à-dire un élément $e$ tel que $\\forall x, x\\star e = e\\star x = x$. Ainsi, $0$ est l'élément neutre de l'addition et $1$ celui de la multiplication (que ce soit dans $\\mathbb Z$, $\\mathbb Q$ ou $\\mathbb Z/N\\mathbb Z$).\n",
    "\n",
    "- L'*inverse pour l'addition* d'un élément $x$ est l'élément $\\mathsf{inv}_+(x)$ tel que $ x + \\mathsf{inv}_+(x) = 0$. On voit donc que $\\mathsf{inv}_+(x)= -x$ : l'inverse pour l'addition est donc ce qu'on nomme habituellement l'opposé d'un nombre, et est bien définie pour $\\mathbb{Q}$ et $\\mathbb{Z}$ : $\\forall x \\in \\mathbb{Q,Z} \\longrightarrow -x \\in \\mathbb{Q,Z}$\n",
    "\n",
    "- De la même façon, l'*inverse pour la multiplication* se définit à partir du neutre $1$ pour la multiplication :  $\\mathsf{inv}_*(x)$ est défini par $ x * \\mathsf{inv}_*(x) = 1$, c'est-à-dire $\\mathsf{inv}_*(x)= 1/x$. L'inverse pour la multiplication est donc ce qu'on nomme habituellement l'inverse d'un nombre. On remarque donc que tout élément non nul de $\\mathbb Q$ admet un inverse (on dit qu'un tel élément est *inversible*). Mais dans $\\mathbb Z$, seuls $1$ et $-1$ sont inversibles.\n",
    "\n",
    "Remarque : comme tout entier peut être vu comme un nombre rationnel (en symboles, $\\mathbb Z\\subseteq\\mathbb Q$), si on cherche à calculer l'inverse d'un nombre entier $n$, SageMath le considèrera comme un rationnel et renverra le rationnel $1/n$."
   ]
  },
  {
   "cell_type": "markdown",
   "metadata": {
    "deletable": false,
    "editable": false,
    "run_control": {
     "frozen": true
    }
   },
   "source": [
    "### Question\n",
    "Que se passe-t-il quand on veut inverser l'entier $0$ ?"
   ]
  },
  {
   "cell_type": "code",
   "execution_count": 15,
   "metadata": {},
   "outputs": [
    {
     "data": {
      "text/html": [
       "<html><script type=\"math/tex; mode=display\">\\newcommand{\\Bold}[1]{\\mathbf{#1}}\\verb|0|\\verb| |\\verb|est|\\verb| |\\verb|son|\\verb| |\\verb|propre|\\verb| |\\verb|inverse|\\verb| |\\verb|dans|\\verb| |\\verb|+|</script></html>"
      ],
      "text/latex": [
       "$$\\newcommand{\\Bold}[1]{\\mathbf{#1}}\\verb|0|\\verb| |\\verb|est|\\verb| |\\verb|son|\\verb| |\\verb|propre|\\verb| |\\verb|inverse|\\verb| |\\verb|dans|\\verb| |\\verb|+|$$"
      ],
      "text/plain": [
       "'0 est son propre inverse dans +'"
      ]
     },
     "metadata": {},
     "output_type": "display_data"
    },
    {
     "data": {
      "text/html": [
       "<html><script type=\"math/tex; mode=display\">\\newcommand{\\Bold}[1]{\\mathbf{#1}}\\verb|0|\\verb| |\\verb|n'a|\\verb| |\\verb|pas|\\verb| |\\verb|d'inverse|\\verb| |\\verb|dans|\\verb| |\\verb|x|</script></html>"
      ],
      "text/latex": [
       "$$\\newcommand{\\Bold}[1]{\\mathbf{#1}}\\verb|0|\\verb| |\\verb|n'a|\\verb| |\\verb|pas|\\verb| |\\verb|d'inverse|\\verb| |\\verb|dans|\\verb| |\\verb|x|$$"
      ],
      "text/plain": [
       "\"0 n'a pas d'inverse dans x\""
      ]
     },
     "metadata": {},
     "output_type": "display_data"
    }
   ],
   "source": [
    "show(\"0 est son propre inverse dans +\")\n",
    "show(\"0 n'a pas d'inverse dans x\")"
   ]
  },
  {
   "cell_type": "markdown",
   "metadata": {
    "deletable": false,
    "editable": false,
    "run_control": {
     "frozen": true
    }
   },
   "source": [
    "<!-- À partir des notions d'inverse pour l'addition et la multiplication, on peut définir les opérations de soustraction et de division :\n",
    "- la soustraction est la composition de l'addition et de son inverse: $x-y = x + (-y)$ ;\n",
    "- la division est la composition de la multiplication et de son inverse: $x/y = x \\times (1/y)$.\n",
    "\n",
    "De même que pour l'inversion, la division n'est bien définie que pour les rationnels.\n",
    "\n",
    "Pour retrouver des propriétés d'inversibilité pour les entiers similaires à celles des nombres rationnels de $ \\mathbb{Q}$ (tous les éléments sauf 0 ont un inverse), il faut se ramener à des sous-ensemble des entiers.-->\n",
    "\n",
    "On va voir que lorsqu'on travaille avec des entiers *modulo* $N$, on retrouve l'inversibilité, au moins partiellement, dont on dipose avec les rationnels.\n",
    "La notion d'inverse pour l'addition ou la multiplication peut se voir directement sur les matrices représentant les tables des opérations :\n",
    "- un élément $x$ est inversible pour l'addition si et seulement s'il y a un unique $0$ dans la ligne et la colonne d'indice $x$ ;\n",
    "- un élément $x$ est inversible pour la multiplication si et seulement s'il y  a un unique $1$ dans la ligne et la colonne d'indice $x$.\n",
    "\n",
    "### Question\n",
    "En utilisant les matrices associées à l'addition et la multiplication des entiers *modulo* $5$, donner la liste des éléments inversibles pour l'addition, et celle des éléments inversibles pour la multiplication. *Attention à bien avoir une liste d'éléments de `Integers(N)` et pas d'entiers (vérifier avec `type(...)`).*"
   ]
  },
  {
   "cell_type": "code",
   "execution_count": 16,
   "metadata": {},
   "outputs": [
    {
     "data": {
      "text/html": [
       "<html><script type=\"math/tex; mode=display\">\\newcommand{\\Bold}[1]{\\mathbf{#1}}\\left(\\begin{array}{rrrrr}\n",
       "0 & 1 & 2 & 3 & 4 \\\\\n",
       "1 & 2 & 3 & 4 & 0 \\\\\n",
       "2 & 3 & 4 & 0 & 1 \\\\\n",
       "3 & 4 & 0 & 1 & 2 \\\\\n",
       "4 & 0 & 1 & 2 & 3\n",
       "\\end{array}\\right)</script></html>"
      ],
      "text/latex": [
       "$$\\newcommand{\\Bold}[1]{\\mathbf{#1}}\\left(\\begin{array}{rrrrr}\n",
       "0 & 1 & 2 & 3 & 4 \\\\\n",
       "1 & 2 & 3 & 4 & 0 \\\\\n",
       "2 & 3 & 4 & 0 & 1 \\\\\n",
       "3 & 4 & 0 & 1 & 2 \\\\\n",
       "4 & 0 & 1 & 2 & 3\n",
       "\\end{array}\\right)$$"
      ],
      "text/plain": [
       "[0 1 2 3 4]\n",
       "[1 2 3 4 0]\n",
       "[2 3 4 0 1]\n",
       "[3 4 0 1 2]\n",
       "[4 0 1 2 3]"
      ]
     },
     "metadata": {},
     "output_type": "display_data"
    },
    {
     "data": {
      "text/html": [
       "<html><script type=\"math/tex; mode=display\">\\newcommand{\\Bold}[1]{\\mathbf{#1}}\\left[0, 1, 2, 3, 4\\right]</script></html>"
      ],
      "text/latex": [
       "$$\\newcommand{\\Bold}[1]{\\mathbf{#1}}\\left[0, 1, 2, 3, 4\\right]$$"
      ],
      "text/plain": [
       "[0, 1, 2, 3, 4]"
      ]
     },
     "metadata": {},
     "output_type": "display_data"
    }
   ],
   "source": [
    "InverseAdd = []\n",
    "show(Ma5)\n",
    "for i in range(5):\n",
    "    compte1 = 0\n",
    "    compte2 = 0\n",
    "    for a in range(5):\n",
    "        if(Ma5[a,i]==0):compte1+=1\n",
    "        if(Ma5[i,a]==0):compte2+=1\n",
    "    if(compte1==1 and compte2==1):\n",
    "        InverseAdd.append(i)\n",
    "    \n",
    "show(InverseAdd)"
   ]
  },
  {
   "cell_type": "code",
   "execution_count": 17,
   "metadata": {},
   "outputs": [
    {
     "data": {
      "text/html": [
       "<html><script type=\"math/tex; mode=display\">\\newcommand{\\Bold}[1]{\\mathbf{#1}}\\left(\\begin{array}{rrrrr}\n",
       "0 & 0 & 0 & 0 & 0 \\\\\n",
       "0 & 1 & 2 & 3 & 4 \\\\\n",
       "0 & 2 & 4 & 1 & 3 \\\\\n",
       "0 & 3 & 1 & 4 & 2 \\\\\n",
       "0 & 4 & 3 & 2 & 1\n",
       "\\end{array}\\right)</script></html>"
      ],
      "text/latex": [
       "$$\\newcommand{\\Bold}[1]{\\mathbf{#1}}\\left(\\begin{array}{rrrrr}\n",
       "0 & 0 & 0 & 0 & 0 \\\\\n",
       "0 & 1 & 2 & 3 & 4 \\\\\n",
       "0 & 2 & 4 & 1 & 3 \\\\\n",
       "0 & 3 & 1 & 4 & 2 \\\\\n",
       "0 & 4 & 3 & 2 & 1\n",
       "\\end{array}\\right)$$"
      ],
      "text/plain": [
       "[0 0 0 0 0]\n",
       "[0 1 2 3 4]\n",
       "[0 2 4 1 3]\n",
       "[0 3 1 4 2]\n",
       "[0 4 3 2 1]"
      ]
     },
     "metadata": {},
     "output_type": "display_data"
    },
    {
     "data": {
      "text/html": [
       "<html><script type=\"math/tex; mode=display\">\\newcommand{\\Bold}[1]{\\mathbf{#1}}\\left[1, 2, 3, 4\\right]</script></html>"
      ],
      "text/latex": [
       "$$\\newcommand{\\Bold}[1]{\\mathbf{#1}}\\left[1, 2, 3, 4\\right]$$"
      ],
      "text/plain": [
       "[1, 2, 3, 4]"
      ]
     },
     "metadata": {},
     "output_type": "display_data"
    }
   ],
   "source": [
    "InverseMul = []\n",
    "show(Mp5)\n",
    "for i in range(5):\n",
    "    compte1 = 0\n",
    "    compte2 = 0\n",
    "    for a in range(5):\n",
    "        if(Mp5[a,i]==1):compte1+=1\n",
    "        if(Mp5[i,a]==1):compte2+=1\n",
    "    if(compte1==1 and compte2==1):\n",
    "        InverseMul.append(i)\n",
    "    \n",
    "show(InverseMul)"
   ]
  },
  {
   "cell_type": "markdown",
   "metadata": {
    "deletable": false,
    "editable": false,
    "run_control": {
     "frozen": true
    }
   },
   "source": [
    "### Question\n",
    "Définissez les fonctions `inv_add` et `inv_mul` qui prennent en entrée un entier $N$ et un entier $x\\in \\{0,\\dots,N-1\\}$ et qui renvoient l'inverse de $x$ pour l'addition *modulo* $N$ ,et l'inverse de $x$ pour la multiplication *modulo* $N$. *Vos fonction devront construire les tables d'addition et de multiplication modulo $N$ et les utiliser pour le calcul. Si $x$ n'est pas inversible, la fonction renvoie `None`. Encore une fois, attention à bien renvoyer un élément de `Integers(N)` et pas un entier !*\n",
    "\n",
    "Vous testerez vos fonctions pour  les valeurs de $N=17,12$ et les valeurs de $x=3,0,4$."
   ]
  },
  {
   "cell_type": "code",
   "execution_count": 18,
   "metadata": {
    "scrolled": true
   },
   "outputs": [
    {
     "data": {
      "text/html": [
       "<html><script type=\"math/tex; mode=display\">\\newcommand{\\Bold}[1]{\\mathbf{#1}}\\verb|----|\\verb| |\\verb|Entrée|\\verb| |\\verb|----|</script></html>"
      ],
      "text/latex": [
       "$$\\newcommand{\\Bold}[1]{\\mathbf{#1}}\\verb|----|\\verb| |\\verb|Entrée|\\verb| |\\verb|----|$$"
      ],
      "text/plain": [
       "'---- Entrée ----'"
      ]
     },
     "metadata": {},
     "output_type": "display_data"
    },
    {
     "name": "stdout",
     "output_type": "stream",
     "text": [
      "[3, 0, 4]\n"
     ]
    },
    {
     "data": {
      "text/html": [
       "<html><script type=\"math/tex; mode=display\">\\newcommand{\\Bold}[1]{\\mathbf{#1}}\\verb|----|\\verb| |\\verb|Addition|\\verb| |\\verb|----|</script></html>"
      ],
      "text/latex": [
       "$$\\newcommand{\\Bold}[1]{\\mathbf{#1}}\\verb|----|\\verb| |\\verb|Addition|\\verb| |\\verb|----|$$"
      ],
      "text/plain": [
       "'---- Addition ----'"
      ]
     },
     "metadata": {},
     "output_type": "display_data"
    },
    {
     "name": "stdout",
     "output_type": "stream",
     "text": [
      "[14, 0, 13]  / N = 17\n",
      "[9, 0, 8]  / N = 12\n"
     ]
    },
    {
     "data": {
      "text/html": [
       "<html><script type=\"math/tex; mode=display\">\\newcommand{\\Bold}[1]{\\mathbf{#1}}\\verb|----|\\verb| |\\verb|Multiplication|\\verb| |\\verb|----|</script></html>"
      ],
      "text/latex": [
       "$$\\newcommand{\\Bold}[1]{\\mathbf{#1}}\\verb|----|\\verb| |\\verb|Multiplication|\\verb| |\\verb|----|$$"
      ],
      "text/plain": [
       "'---- Multiplication ----'"
      ]
     },
     "metadata": {},
     "output_type": "display_data"
    },
    {
     "name": "stdout",
     "output_type": "stream",
     "text": [
      "[6, None, 13]  / N = 17\n",
      "[None, None, None]  / N = 12\n"
     ]
    }
   ],
   "source": [
    "def inv_add(x,N):\n",
    "    I = Integers(N)\n",
    "    M = genMatrixAdd(N)\n",
    "    for i in range(N):\n",
    "        if(M[x,i]==0):\n",
    "            return i\n",
    "    return None\n",
    "    \n",
    "def inv_mul(x,N):\n",
    "    I = Integers(N)\n",
    "    M = genMatrixMul(N)\n",
    "    for i in range(N):\n",
    "        if(M[x,i]==1):\n",
    "            return i\n",
    "    return None\n",
    "\n",
    "show(\"---- Entrée ----\")\n",
    "print([3,0,4])\n",
    "show(\"---- Addition ----\")\n",
    "print([inv_add(x,17) for x in [3,0,4]],\" / N = 17\")\n",
    "print([inv_add(x,12) for x in [3,0,4]],\" / N = 12\")\n",
    "show(\"---- Multiplication ----\")\n",
    "print([inv_mul(x,17) for x in [3,0,4]],\" / N = 17\")\n",
    "print([inv_mul(x,12) for x in [3,0,4]],\" / N = 12\")"
   ]
  },
  {
   "cell_type": "markdown",
   "metadata": {
    "deletable": false,
    "editable": false,
    "run_control": {
     "frozen": true
    }
   },
   "source": [
    "### Question\n",
    "Proposer une fonction d'inversion générique `inv_gen` qui prend en paramètre une matrice `M` représentant une opération modulo $N$, un élément neutre `e` et un elément `x` qu'on souhaite inverser. Comme précédemment si $x$ n'est pas inversible la fonction renverra `none`. Attention, votre matrice $M$ doit être définie sur `Integers(N)` de telle sorte que `M.base_ring()` retourne `Integers(N)`.\n",
    "\n",
    "- Vous verifierez que votre fonction générique est équivalente aux fonctions `inv_add` et `inv_mul` pour tous les entiers modulo 5"
   ]
  },
  {
   "cell_type": "code",
   "execution_count": 19,
   "metadata": {
    "scrolled": true
   },
   "outputs": [
    {
     "data": {
      "text/html": [
       "<html><script type=\"math/tex; mode=display\">\\newcommand{\\Bold}[1]{\\mathbf{#1}}\\left[0, 4, 3, 2, 1\\right]</script></html>"
      ],
      "text/latex": [
       "$$\\newcommand{\\Bold}[1]{\\mathbf{#1}}\\left[0, 4, 3, 2, 1\\right]$$"
      ],
      "text/plain": [
       "[0, 4, 3, 2, 1]"
      ]
     },
     "metadata": {},
     "output_type": "display_data"
    },
    {
     "data": {
      "text/html": [
       "<html><script type=\"math/tex; mode=display\">\\newcommand{\\Bold}[1]{\\mathbf{#1}}\\left[\\mathrm{None}, 1, 3, 2, 4\\right]</script></html>"
      ],
      "text/latex": [
       "$$\\newcommand{\\Bold}[1]{\\mathbf{#1}}\\left[\\mathrm{None}, 1, 3, 2, 4\\right]$$"
      ],
      "text/plain": [
       "[None, 1, 3, 2, 4]"
      ]
     },
     "metadata": {},
     "output_type": "display_data"
    },
    {
     "data": {
      "text/html": [
       "<html><script type=\"math/tex; mode=display\">\\newcommand{\\Bold}[1]{\\mathbf{#1}}\\left[0, 4, 3, 2, 1\\right]</script></html>"
      ],
      "text/latex": [
       "$$\\newcommand{\\Bold}[1]{\\mathbf{#1}}\\left[0, 4, 3, 2, 1\\right]$$"
      ],
      "text/plain": [
       "[0, 4, 3, 2, 1]"
      ]
     },
     "metadata": {},
     "output_type": "display_data"
    },
    {
     "data": {
      "text/html": [
       "<html><script type=\"math/tex; mode=display\">\\newcommand{\\Bold}[1]{\\mathbf{#1}}\\left[\\mathrm{None}, 1, 3, 2, 4\\right]</script></html>"
      ],
      "text/latex": [
       "$$\\newcommand{\\Bold}[1]{\\mathbf{#1}}\\left[\\mathrm{None}, 1, 3, 2, 4\\right]$$"
      ],
      "text/plain": [
       "[None, 1, 3, 2, 4]"
      ]
     },
     "metadata": {},
     "output_type": "display_data"
    }
   ],
   "source": [
    "def inv_gen(x,e,M):\n",
    "    if(x>M.nrows()):\n",
    "        return None\n",
    "    else:\n",
    "        for i in range(M.nrows()):\n",
    "            if(M[x,i]==e):\n",
    "                return i\n",
    "        return None\n",
    "\n",
    "\n",
    "\n",
    "\n",
    "Madd5 = genMatrixAdd(5)\n",
    "Mprod5 = genMatrixMul(5)\n",
    "Ladd,Lprod,LgenAdd,LgenProd = [],[],[],[]\n",
    "\n",
    "for i in range(5):\n",
    "    Ladd.append(inv_add(i,5))\n",
    "    Lprod.append(inv_mul(i,5))\n",
    "    LgenAdd.append(inv_gen(i,0,Madd5))\n",
    "    LgenProd.append(inv_gen(i,1,Mprod5))\n",
    "    \n",
    "show(Ladd)\n",
    "show(Lprod)\n",
    "show(LgenAdd)\n",
    "show(LgenProd)"
   ]
  },
  {
   "cell_type": "markdown",
   "metadata": {
    "deletable": false,
    "editable": false,
    "run_control": {
     "frozen": true
    }
   },
   "source": [
    "### Question\n",
    "- Écrire deux fonctions `liste_inv_add(N)` et `liste_inv_mul(N)` qui calculent la liste des éléments inversibles pour l'addition et la multiplication *modulo* $N$ (vous utiliserez la fonction `inv_gen` de la question précédente, ainsi que les fonction `genMatrixAdd` et `genMatrixMul`).\n",
    "- Regarder ce qu'il se passe pour $N=5,10,13,16$."
   ]
  },
  {
   "cell_type": "code",
   "execution_count": 20,
   "metadata": {},
   "outputs": [],
   "source": [
    "def liste_inv_add(N):\n",
    "    L = []\n",
    "    MaddN = genMatrixAdd(N)\n",
    "    for i in range(N):\n",
    "        if(inv_gen(i,0,MaddN)!=None): L.append(i)\n",
    "    return L"
   ]
  },
  {
   "cell_type": "code",
   "execution_count": 21,
   "metadata": {},
   "outputs": [],
   "source": [
    "def liste_inv_mul(N):\n",
    "    L = []\n",
    "    MprodN = genMatrixMul(N)\n",
    "    for i in range(N):\n",
    "        if(inv_gen(i,1,MprodN)!=None): L.append(i)\n",
    "    return L"
   ]
  },
  {
   "cell_type": "code",
   "execution_count": 22,
   "metadata": {},
   "outputs": [
    {
     "data": {
      "text/html": [
       "<html><script type=\"math/tex; mode=display\">\\newcommand{\\Bold}[1]{\\mathbf{#1}}\\verb|liste|\\verb| |\\verb|éléments|\\verb| |\\verb|inversibles|\\verb| |\\verb|additon|\\verb| |\\verb|N=5|\\verb| |\\verb|:| \\left[0, 1, 2, 3, 4\\right]</script></html>"
      ],
      "text/latex": [
       "$$\\newcommand{\\Bold}[1]{\\mathbf{#1}}\\verb|liste|\\verb| |\\verb|éléments|\\verb| |\\verb|inversibles|\\verb| |\\verb|additon|\\verb| |\\verb|N=5|\\verb| |\\verb|:| \\left[0, 1, 2, 3, 4\\right]$$"
      ],
      "text/plain": [
       "'liste éléments inversibles additon N=5 : ' [0, 1, 2, 3, 4]"
      ]
     },
     "metadata": {},
     "output_type": "display_data"
    },
    {
     "data": {
      "text/html": [
       "<html><script type=\"math/tex; mode=display\">\\newcommand{\\Bold}[1]{\\mathbf{#1}}\\verb|liste|\\verb| |\\verb|éléments|\\verb| |\\verb|inversibles|\\verb| |\\verb|multiplication|\\verb| |\\verb|N=5|\\verb| |\\verb|:| \\left[1, 2, 3, 4\\right]</script></html>"
      ],
      "text/latex": [
       "$$\\newcommand{\\Bold}[1]{\\mathbf{#1}}\\verb|liste|\\verb| |\\verb|éléments|\\verb| |\\verb|inversibles|\\verb| |\\verb|multiplication|\\verb| |\\verb|N=5|\\verb| |\\verb|:| \\left[1, 2, 3, 4\\right]$$"
      ],
      "text/plain": [
       "'liste éléments inversibles multiplication N=5 : ' [1, 2, 3, 4]"
      ]
     },
     "metadata": {},
     "output_type": "display_data"
    },
    {
     "data": {
      "text/html": [
       "<html><script type=\"math/tex; mode=display\">\\newcommand{\\Bold}[1]{\\mathbf{#1}}\\verb|liste|\\verb| |\\verb|éléments|\\verb| |\\verb|inversibles|\\verb| |\\verb|additon|\\verb| |\\verb|N=10|\\verb| |\\verb|:| \\left[0, 1, 2, 3, 4, 5, 6, 7, 8, 9\\right]</script></html>"
      ],
      "text/latex": [
       "$$\\newcommand{\\Bold}[1]{\\mathbf{#1}}\\verb|liste|\\verb| |\\verb|éléments|\\verb| |\\verb|inversibles|\\verb| |\\verb|additon|\\verb| |\\verb|N=10|\\verb| |\\verb|:| \\left[0, 1, 2, 3, 4, 5, 6, 7, 8, 9\\right]$$"
      ],
      "text/plain": [
       "'liste éléments inversibles additon N=10 : ' [0, 1, 2, 3, 4, 5, 6, 7, 8, 9]"
      ]
     },
     "metadata": {},
     "output_type": "display_data"
    },
    {
     "data": {
      "text/html": [
       "<html><script type=\"math/tex; mode=display\">\\newcommand{\\Bold}[1]{\\mathbf{#1}}\\verb|liste|\\verb| |\\verb|éléments|\\verb| |\\verb|inversibles|\\verb| |\\verb|multiplication|\\verb| |\\verb|N=10|\\verb| |\\verb|:| \\left[1, 3, 7, 9\\right]</script></html>"
      ],
      "text/latex": [
       "$$\\newcommand{\\Bold}[1]{\\mathbf{#1}}\\verb|liste|\\verb| |\\verb|éléments|\\verb| |\\verb|inversibles|\\verb| |\\verb|multiplication|\\verb| |\\verb|N=10|\\verb| |\\verb|:| \\left[1, 3, 7, 9\\right]$$"
      ],
      "text/plain": [
       "'liste éléments inversibles multiplication N=10 : ' [1, 3, 7, 9]"
      ]
     },
     "metadata": {},
     "output_type": "display_data"
    },
    {
     "data": {
      "text/html": [
       "<html><script type=\"math/tex; mode=display\">\\newcommand{\\Bold}[1]{\\mathbf{#1}}\\verb|liste|\\verb| |\\verb|éléments|\\verb| |\\verb|inversibles|\\verb| |\\verb|additon|\\verb| |\\verb|N=13|\\verb| |\\verb|:| \\left[0, 1, 2, 3, 4, 5, 6, 7, 8, 9, 10, 11, 12\\right]</script></html>"
      ],
      "text/latex": [
       "$$\\newcommand{\\Bold}[1]{\\mathbf{#1}}\\verb|liste|\\verb| |\\verb|éléments|\\verb| |\\verb|inversibles|\\verb| |\\verb|additon|\\verb| |\\verb|N=13|\\verb| |\\verb|:| \\left[0, 1, 2, 3, 4, 5, 6, 7, 8, 9, 10, 11, 12\\right]$$"
      ],
      "text/plain": [
       "'liste éléments inversibles additon N=13 : ' [0, 1, 2, 3, 4, 5, 6, 7, 8, 9, 10, 11, 12]"
      ]
     },
     "metadata": {},
     "output_type": "display_data"
    },
    {
     "data": {
      "text/html": [
       "<html><script type=\"math/tex; mode=display\">\\newcommand{\\Bold}[1]{\\mathbf{#1}}\\verb|liste|\\verb| |\\verb|éléments|\\verb| |\\verb|inversibles|\\verb| |\\verb|multiplication|\\verb| |\\verb|N=13|\\verb| |\\verb|:| \\left[1, 2, 3, 4, 5, 6, 7, 8, 9, 10, 11, 12\\right]</script></html>"
      ],
      "text/latex": [
       "$$\\newcommand{\\Bold}[1]{\\mathbf{#1}}\\verb|liste|\\verb| |\\verb|éléments|\\verb| |\\verb|inversibles|\\verb| |\\verb|multiplication|\\verb| |\\verb|N=13|\\verb| |\\verb|:| \\left[1, 2, 3, 4, 5, 6, 7, 8, 9, 10, 11, 12\\right]$$"
      ],
      "text/plain": [
       "'liste éléments inversibles multiplication N=13 : ' [1, 2, 3, 4, 5, 6, 7, 8, 9, 10, 11, 12]"
      ]
     },
     "metadata": {},
     "output_type": "display_data"
    },
    {
     "data": {
      "text/html": [
       "<html><script type=\"math/tex; mode=display\">\\newcommand{\\Bold}[1]{\\mathbf{#1}}\\verb|liste|\\verb| |\\verb|éléments|\\verb| |\\verb|inversibles|\\verb| |\\verb|additon|\\verb| |\\verb|N=16|\\verb| |\\verb|:| \\left[0, 1, 2, 3, 4, 5, 6, 7, 8, 9, 10, 11, 12, 13, 14, 15\\right]</script></html>"
      ],
      "text/latex": [
       "$$\\newcommand{\\Bold}[1]{\\mathbf{#1}}\\verb|liste|\\verb| |\\verb|éléments|\\verb| |\\verb|inversibles|\\verb| |\\verb|additon|\\verb| |\\verb|N=16|\\verb| |\\verb|:| \\left[0, 1, 2, 3, 4, 5, 6, 7, 8, 9, 10, 11, 12, 13, 14, 15\\right]$$"
      ],
      "text/plain": [
       "'liste éléments inversibles additon N=16 : ' [0, 1, 2, 3, 4, 5, 6, 7, 8, 9, 10, 11, 12, 13, 14, 15]"
      ]
     },
     "metadata": {},
     "output_type": "display_data"
    },
    {
     "data": {
      "text/html": [
       "<html><script type=\"math/tex; mode=display\">\\newcommand{\\Bold}[1]{\\mathbf{#1}}\\verb|liste|\\verb| |\\verb|éléments|\\verb| |\\verb|inversibles|\\verb| |\\verb|multiplication|\\verb| |\\verb|N=16|\\verb| |\\verb|:| \\left[1, 3, 5, 7, 9, 11, 13, 15\\right]</script></html>"
      ],
      "text/latex": [
       "$$\\newcommand{\\Bold}[1]{\\mathbf{#1}}\\verb|liste|\\verb| |\\verb|éléments|\\verb| |\\verb|inversibles|\\verb| |\\verb|multiplication|\\verb| |\\verb|N=16|\\verb| |\\verb|:| \\left[1, 3, 5, 7, 9, 11, 13, 15\\right]$$"
      ],
      "text/plain": [
       "'liste éléments inversibles multiplication N=16 : ' [1, 3, 5, 7, 9, 11, 13, 15]"
      ]
     },
     "metadata": {},
     "output_type": "display_data"
    }
   ],
   "source": [
    "show(\"liste éléments inversibles additon N=5 : \",liste_inv_add(5))\n",
    "show(\"liste éléments inversibles multiplication N=5 : \",liste_inv_mul(5))\n",
    "show(\"liste éléments inversibles additon N=10 : \",liste_inv_add(10))\n",
    "show(\"liste éléments inversibles multiplication N=10 : \",liste_inv_mul(10))\n",
    "show(\"liste éléments inversibles additon N=13 : \",liste_inv_add(13))\n",
    "show(\"liste éléments inversibles multiplication N=13 : \",liste_inv_mul(13))\n",
    "show(\"liste éléments inversibles additon N=16 : \",liste_inv_add(16))\n",
    "show(\"liste éléments inversibles multiplication N=16 : \",liste_inv_mul(16))"
   ]
  },
  {
   "cell_type": "markdown",
   "metadata": {
    "deletable": false,
    "editable": false,
    "run_control": {
     "frozen": true
    }
   },
   "source": [
    "On remarque que pour toute valeur de $N$, tous les éléments sont inversibles pour l'addition, mais que ce n'est pas le cas pour la division. D'une part $0$ n'est jamais inversible, mais dans certains cas d'autres éléments ne le sont pas non plus.\n",
    "\n"
   ]
  },
  {
   "cell_type": "markdown",
   "metadata": {
    "deletable": false,
    "editable": false,
    "run_control": {
     "frozen": true
    }
   },
   "source": [
    "\n",
    "### Question \n",
    "Lister tous les entiers $N$ entre $2$ et $30$ pour lesquels tous les éléments sauf $0$ sont inversibles pour la multiplication *modulo* $N$. Que remarquez-vous ?"
   ]
  },
  {
   "cell_type": "code",
   "execution_count": 23,
   "metadata": {},
   "outputs": [
    {
     "data": {
      "text/html": [
       "<html><script type=\"math/tex; mode=display\">\\newcommand{\\Bold}[1]{\\mathbf{#1}}\\left[2, 3, 5, 7, 11, 13, 17, 19, 23, 29\\right]</script></html>"
      ],
      "text/latex": [
       "$$\\newcommand{\\Bold}[1]{\\mathbf{#1}}\\left[2, 3, 5, 7, 11, 13, 17, 19, 23, 29\\right]$$"
      ],
      "text/plain": [
       "[2, 3, 5, 7, 11, 13, 17, 19, 23, 29]"
      ]
     },
     "metadata": {},
     "output_type": "display_data"
    },
    {
     "data": {
      "text/html": [
       "<html><script type=\"math/tex; mode=display\">\\newcommand{\\Bold}[1]{\\mathbf{#1}}\\verb|Il|\\verb| |\\verb|s'agit|\\verb| |\\verb|des|\\verb| |\\verb|nombres|\\verb| |\\verb|premiers|</script></html>"
      ],
      "text/latex": [
       "$$\\newcommand{\\Bold}[1]{\\mathbf{#1}}\\verb|Il|\\verb| |\\verb|s'agit|\\verb| |\\verb|des|\\verb| |\\verb|nombres|\\verb| |\\verb|premiers|$$"
      ],
      "text/plain": [
       "\"Il s'agit des nombres premiers\""
      ]
     },
     "metadata": {},
     "output_type": "display_data"
    }
   ],
   "source": [
    "L = []\n",
    "for N in range(2,31):\n",
    "    if(liste_inv_mul(N) == [i for i in range(1,N)]):L.append(N)\n",
    "show(L)\n",
    "show(\"Il s'agit des nombres premiers\")"
   ]
  },
  {
   "cell_type": "markdown",
   "metadata": {
    "deletable": false,
    "editable": false,
    "run_control": {
     "frozen": true
    }
   },
   "source": [
    "## Soustraction, division\n",
    "\n",
    "À partir des notions d'inverse pour l'addition et la multiplication, on peut définir les opérations de soustraction et de division :\n",
    "- la soustraction est la composition de l'addition et de son inverse: $x-y = x + \\mathsf{inv}_+(y)$ ;\n",
    "- la division est la composition de la multiplication et de son inverse: $x/y = x \\times \\mathsf{inv}_\\times(y)$.\n",
    "\n",
    "Un autre point de vue est de se dire que l'inverse pour l'addition est défini par la soustraction $0-y$, alors que l'inverse pour la multiplication est défini par la division $1/y$. Autrement dit, il est équivalent de considérer les opérations $\\{+,\\times,\\mathsf{inv}_+,\\mathsf{inv_\\times}\\}$ ou les opérations $\\{+,\\times,-,/\\}$.\n",
    "\n",
    "On a vu précédemment que tous les éléments non nuls sont inversibles pour la multiplication *modulo* $N$ si et seulement si $N$ est premier. \n",
    "\n",
    "### Question\n",
    "Calculer les tables de soustraction et de division modulo $5$ à partir des tables d'addition, de multiplication et de la fonction `inv_gen`. *En case $(i,j)$, la table contient le résultat de l'opération $i\\star j$ pour $\\star\\in\\{-,/\\}$. Pour la division, on pourra mettre un $0$ lorsque la division n'est pas définie (division par zéro).*"
   ]
  },
  {
   "cell_type": "code",
   "execution_count": 24,
   "metadata": {},
   "outputs": [
    {
     "data": {
      "text/html": [
       "<html><script type=\"math/tex; mode=display\">\\newcommand{\\Bold}[1]{\\mathbf{#1}}\\left(\\begin{array}{rrrrr}\n",
       "0 & 4 & 3 & 2 & 1 \\\\\n",
       "1 & 0 & 4 & 3 & 2 \\\\\n",
       "2 & 1 & 0 & 4 & 3 \\\\\n",
       "3 & 2 & 1 & 0 & 4 \\\\\n",
       "4 & 3 & 2 & 1 & 0\n",
       "\\end{array}\\right)</script></html>"
      ],
      "text/latex": [
       "$$\\newcommand{\\Bold}[1]{\\mathbf{#1}}\\left(\\begin{array}{rrrrr}\n",
       "0 & 4 & 3 & 2 & 1 \\\\\n",
       "1 & 0 & 4 & 3 & 2 \\\\\n",
       "2 & 1 & 0 & 4 & 3 \\\\\n",
       "3 & 2 & 1 & 0 & 4 \\\\\n",
       "4 & 3 & 2 & 1 & 0\n",
       "\\end{array}\\right)$$"
      ],
      "text/plain": [
       "[0 4 3 2 1]\n",
       "[1 0 4 3 2]\n",
       "[2 1 0 4 3]\n",
       "[3 2 1 0 4]\n",
       "[4 3 2 1 0]"
      ]
     },
     "metadata": {},
     "output_type": "display_data"
    },
    {
     "data": {
      "text/html": [
       "<html><script type=\"math/tex; mode=display\">\\newcommand{\\Bold}[1]{\\mathbf{#1}}\\left(\\begin{array}{rrrrr}\n",
       "0 & 0 & 0 & 0 & 0 \\\\\n",
       "0 & 1 & 3 & 2 & 4 \\\\\n",
       "0 & 2 & 1 & 4 & 3 \\\\\n",
       "0 & 3 & 4 & 1 & 2 \\\\\n",
       "0 & 4 & 2 & 3 & 1\n",
       "\\end{array}\\right)</script></html>"
      ],
      "text/latex": [
       "$$\\newcommand{\\Bold}[1]{\\mathbf{#1}}\\left(\\begin{array}{rrrrr}\n",
       "0 & 0 & 0 & 0 & 0 \\\\\n",
       "0 & 1 & 3 & 2 & 4 \\\\\n",
       "0 & 2 & 1 & 4 & 3 \\\\\n",
       "0 & 3 & 4 & 1 & 2 \\\\\n",
       "0 & 4 & 2 & 3 & 1\n",
       "\\end{array}\\right)$$"
      ],
      "text/plain": [
       "[0 0 0 0 0]\n",
       "[0 1 3 2 4]\n",
       "[0 2 1 4 3]\n",
       "[0 3 4 1 2]\n",
       "[0 4 2 3 1]"
      ]
     },
     "metadata": {},
     "output_type": "display_data"
    }
   ],
   "source": [
    "I5 = Integers(5)\n",
    "\n",
    "Msous5 = Matrix(5,5)\n",
    "for i in range(5):\n",
    "    for j in range(5):\n",
    "        Msous5[i,j] = I5(i+inv_gen(j,0,Madd5))\n",
    "show(Msous5)\n",
    "\n",
    "Mdiv5 = Matrix(5,5)\n",
    "for i in range(5):\n",
    "    for j in range(5):\n",
    "        if(inv_gen(j,1,Mprod5)!=None): Mdiv5[i,j] = I5(i*inv_gen(j,1,Mprod5))\n",
    "        else: Mdiv5[i,j] = 0\n",
    "show(Mdiv5)"
   ]
  },
  {
   "cell_type": "markdown",
   "metadata": {
    "deletable": false,
    "editable": false,
    "run_control": {
     "frozen": true
    }
   },
   "source": [
    "### Question\n",
    "\n",
    "Définir les fonctions `genMatrixSub` et `genMatrixDiv` qui pour un entier $N$ génèrent les matrices correspondant aux tables de soustraction et de division *modulo* $N$. *Vérifier en comparant avec les matrices `Ms5` et `Md5` définies précédemment.*"
   ]
  },
  {
   "cell_type": "code",
   "execution_count": 25,
   "metadata": {},
   "outputs": [
    {
     "data": {
      "text/html": [
       "<html><script type=\"math/tex; mode=display\">\\newcommand{\\Bold}[1]{\\mathbf{#1}}\\mathrm{True}</script></html>"
      ],
      "text/latex": [
       "$$\\newcommand{\\Bold}[1]{\\mathbf{#1}}\\mathrm{True}$$"
      ],
      "text/plain": [
       "True"
      ]
     },
     "metadata": {},
     "output_type": "display_data"
    },
    {
     "data": {
      "text/html": [
       "<html><script type=\"math/tex; mode=display\">\\newcommand{\\Bold}[1]{\\mathbf{#1}}\\mathrm{True}</script></html>"
      ],
      "text/latex": [
       "$$\\newcommand{\\Bold}[1]{\\mathbf{#1}}\\mathrm{True}$$"
      ],
      "text/plain": [
       "True"
      ]
     },
     "metadata": {},
     "output_type": "display_data"
    }
   ],
   "source": [
    "def genMatrixSub(N):\n",
    "    G = genMatrixAdd(5)\n",
    "    I = Integers(N)\n",
    "    M = Matrix(Integers(N),N,N)\n",
    "    for i in range(N):\n",
    "        for j in range(N):\n",
    "            M[i,j] = I(i+inv_gen(j,0,G))\n",
    "    return M\n",
    "    \n",
    "\n",
    "def genMatrixDiv(N):\n",
    "    G = genMatrixMul(5)\n",
    "    I = Integers(N)\n",
    "    M = Matrix(Integers(N),N,N)\n",
    "    for i in range(N):\n",
    "        for j in range(N):\n",
    "            if(inv_gen(j,1,G)!=None): M[i,j] = I5(i*inv_gen(j,1,G))\n",
    "            else: M[i,j] = 0\n",
    "    return M\n",
    "\n",
    "show(bool(Msous5 == genMatrixSub(5)))\n",
    "show(bool(Mdiv5 == genMatrixDiv(5)))"
   ]
  },
  {
   "cell_type": "markdown",
   "metadata": {
    "deletable": false,
    "editable": false,
    "run_control": {
     "frozen": true
    }
   },
   "source": [
    "On a vu que tous les éléments sont inversibles pour l'addition *modulo* $N$. D'autre part, si $N$ est premier, tous les éléments non nuls sont inversibles pour la multiplication. Cela signifie que les quatre opérations $\\{+,\\times,-,/\\}$ sont bien définies : $x\\star y\\in\\{0,\\dotsc,N-1\\}$ pour tout $x,y\\in\\{0,\\dotsc,N-1\\}$ et $\\star\\in\\{+,\\times,-,/\\}$ (avec la condition $y\\neq 0$ si $\\star=/$). On peut donc calculer *modulo* un nombre premier comme on calcule avec les nombres rationnels. On dit que les entiers *modulo* un nombre premier forment un *corps*. \n",
    "\n",
    "Dans la suite, on va s'intéresser à ce qui se passe pour $N$ non premier. Dans ce cas, on a déjà vu que certains éléments ne sont pas inversibles pour la multiplication."
   ]
  },
  {
   "cell_type": "markdown",
   "metadata": {
    "deletable": false,
    "editable": false,
    "run_control": {
     "frozen": true
    }
   },
   "source": [
    "## Groupe multiplicatif\n",
    "\n",
    "<!--On a vu que tous les éléments sont inversibles pour l'addition *modulo* $N$. D'autre part, si $N$ est premier, tous les éléments non nuls sont inversible pour la multiplication pour alors les quatre opérations $\\{+,\\times,-,/\\}$ sont bien définies : $x\\star y\\in\\{0,\\dotsc,N-1\\}$ pour tout $x,y\\in\\{0,\\dotsc,N-1\\}$ et $\\star\\in\\{+,\\times,-,/\\}$ (avec la condition $y\\neq 0$ si $\\star=/$). Si $N$ n'est pas premier, on a vu que certains éléments non nuls ne sont pas inversibles pour la multiplication, et on ne peut donc pas définir de division sur l'ensemble des entiers *modulo* $N$.\n",
    "\n",
    "\n",
    "\n",
    "La liste de nombres précédente ne comporte que des nombres premiers. C'est une propriété mathématique importante : si\n",
    "-->\n",
    "\n",
    "Quand $N$ est premier, les entiers $\\{1,2,\\dots,N-1\\}$ forment un *groupe* pour la multiplication modulo $N$, c'est-à-dire que ce sous-ensemble $E$ vérifie les deux conditions suivantes :\n",
    "- pour tout $x,y\\in E$, $x\\times y\\in E$ (*opération interne*) ;\n",
    "- pour tout $x\\in E$, il existe un unique inverse de $x$ dans $E$ pour la multiplication (*inversibilité*).\n",
    " \n",
    "Quand $N$ n'est pas premier, certains éléments ne sont pas inversibles pour la multiplication et $\\{1,\\dotsc,N-1\\}$ n'est pas un groupe. \n",
    "\n",
    "On va voir qu'il existe toujours, même pour $N$ non premier, un *groupe* pour la multiplication *modulo* $N$, c'est-à-dire un sous-ensemble $E$ qui vérifie les deux conditions précédentes. \n",
    "\n",
    "**Remarque.** On cherche un groupe le plus grand possible. En effet, le sous-ensemble $\\{1\\}$ forme toujours un groupe pour la multiplication *modulo* $N$, car $1\\times 1 = 1$ et $1$ est son propre inverse.\n"
   ]
  },
  {
   "cell_type": "markdown",
   "metadata": {
    "deletable": false,
    "editable": false,
    "run_control": {
     "frozen": true
    }
   },
   "source": [
    "### Question\n",
    "Écrire une fonction `estInterne(M,E)` qui prend en entrée une table d'opération `M` (une matrice), un sous-ensemble $E$, et teste si l'opération représentée par la matrice `M` est interne au sous-ensemble $E$. *On peut définir la sous-table d'opération restreinte à E avec M[E,E].* \n",
    "\n",
    "- Vous testerez votre fonction avec la table de multiplication modulo 5 et l'ensemble d'entiers E={1,2,3,4}.\n",
    "- Vous verifierez votre fonction avec les tables de multiplication modulo $N$ pour $2 \\leq N\\leq 31$. Pour le sous-ensemble E, vous utiliserez la fonction `liste_inv_mul(N)`.\n",
    "- Montrez que si on remplace la table de multiplication par la table d'addition et que l'on prend le même sous-ensemble, l'opération `estIterne` renvoie toujours faux."
   ]
  },
  {
   "cell_type": "code",
   "execution_count": 26,
   "metadata": {},
   "outputs": [],
   "source": [
    "def estInterne(M,E):\n",
    "    for x in E:\n",
    "        for y in E:\n",
    "            if(x>M.nrows() or y>M.nrows() or (not(M[x,y] in E))):\n",
    "                return False\n",
    "    return True"
   ]
  },
  {
   "cell_type": "code",
   "execution_count": 27,
   "metadata": {},
   "outputs": [
    {
     "data": {
      "text/html": [
       "<html><script type=\"math/tex; mode=display\">\\newcommand{\\Bold}[1]{\\mathbf{#1}}\\mathrm{True}</script></html>"
      ],
      "text/latex": [
       "$$\\newcommand{\\Bold}[1]{\\mathbf{#1}}\\mathrm{True}$$"
      ],
      "text/plain": [
       "True"
      ]
     },
     "metadata": {},
     "output_type": "display_data"
    }
   ],
   "source": [
    "E = {1,2,3,4}\n",
    "show(estInterne(genMatrixMul(5),E))"
   ]
  },
  {
   "cell_type": "code",
   "execution_count": 28,
   "metadata": {},
   "outputs": [
    {
     "data": {
      "text/html": [
       "<html><script type=\"math/tex; mode=display\">\\newcommand{\\Bold}[1]{\\mathbf{#1}}\\mathrm{True}</script></html>"
      ],
      "text/latex": [
       "$$\\newcommand{\\Bold}[1]{\\mathbf{#1}}\\mathrm{True}$$"
      ],
      "text/plain": [
       "True"
      ]
     },
     "metadata": {},
     "output_type": "display_data"
    }
   ],
   "source": [
    "result = True\n",
    "for N in range(2,32):\n",
    "    result = result and estInterne(genMatrixMul(N),liste_inv_mul(N))\n",
    "show(result)"
   ]
  },
  {
   "cell_type": "code",
   "execution_count": 29,
   "metadata": {},
   "outputs": [
    {
     "data": {
      "text/html": [
       "<html><script type=\"math/tex; mode=display\">\\newcommand{\\Bold}[1]{\\mathbf{#1}}\\mathrm{True}</script></html>"
      ],
      "text/latex": [
       "$$\\newcommand{\\Bold}[1]{\\mathbf{#1}}\\mathrm{True}$$"
      ],
      "text/plain": [
       "True"
      ]
     },
     "metadata": {},
     "output_type": "display_data"
    }
   ],
   "source": [
    "result = False\n",
    "for N in range(2,32):\n",
    "    result = result or estInterne(genMatrixAdd(N),liste_inv_mul(N))\n",
    "show(not result)"
   ]
  },
  {
   "cell_type": "code",
   "execution_count": null,
   "metadata": {},
   "outputs": [],
   "source": []
  },
  {
   "cell_type": "markdown",
   "metadata": {
    "deletable": false,
    "editable": false,
    "run_control": {
     "frozen": true
    }
   },
   "source": [
    "### Question\n",
    "- Écrire une fonction `estGroupe(Mp, E)` qui prend en entrée une table de *multiplication* `Mp` et vérifie si le sous-ensemble $E$ forme un groupe pour la multiplication, en vérifiant les deux propriétés énoncées au-dessus.\n",
    "- Pour $N=15$, vérifier que le sous-ensemble $E=\\{1,2,4,7,8,11,13,14\\}$ forme un groupe pour la multiplication modulo $15$. Afficher les tables de multiplications et de division dans ce groupe."
   ]
  },
  {
   "cell_type": "code",
   "execution_count": 30,
   "metadata": {},
   "outputs": [],
   "source": [
    "def estGroupe(Mp,E):\n",
    "    estExterne = True\n",
    "    for x in E:\n",
    "        estExterne = estExterne and (inv_gen(x,1,Mp)!=None)\n",
    "    return (estInterne(Mp,E) and estExterne)"
   ]
  },
  {
   "cell_type": "code",
   "execution_count": 31,
   "metadata": {},
   "outputs": [
    {
     "data": {
      "text/html": [
       "<html><script type=\"math/tex; mode=display\">\\newcommand{\\Bold}[1]{\\mathbf{#1}}\\verb|estGroupe|\\verb| |\\verb|de|\\verb| |\\verb|E|\\verb| |\\verb|->| \\mathrm{True}</script></html>"
      ],
      "text/latex": [
       "$$\\newcommand{\\Bold}[1]{\\mathbf{#1}}\\verb|estGroupe|\\verb| |\\verb|de|\\verb| |\\verb|E|\\verb| |\\verb|->| \\mathrm{True}$$"
      ],
      "text/plain": [
       "'estGroupe de E ->' True"
      ]
     },
     "metadata": {},
     "output_type": "display_data"
    },
    {
     "data": {
      "text/html": [
       "<html><script type=\"math/tex; mode=display\">\\newcommand{\\Bold}[1]{\\mathbf{#1}}\\verb|estGroupe|\\verb| |\\verb|Contrôle|\\verb| |\\verb|Bidon|\\verb| |\\verb|->| \\mathrm{False}</script></html>"
      ],
      "text/latex": [
       "$$\\newcommand{\\Bold}[1]{\\mathbf{#1}}\\verb|estGroupe|\\verb| |\\verb|Contrôle|\\verb| |\\verb|Bidon|\\verb| |\\verb|->| \\mathrm{False}$$"
      ],
      "text/plain": [
       "'estGroupe Contrôle Bidon ->' False"
      ]
     },
     "metadata": {},
     "output_type": "display_data"
    }
   ],
   "source": [
    "Mp = genMatrixMul(15)\n",
    "E = [1,2,4,7,8,11,13,14]\n",
    "Bidon = {114,18}\n",
    "show(\"estGroupe de E ->\",estGroupe(Mp,E))\n",
    "show(\"estGroupe Contrôle Bidon ->\",estGroupe(Mp,Bidon))\n",
    "\n",
    "I15 = Integers(15)\n",
    "Mmult,Mdiv = Matrix(15,15),Matrix(15,15)\n",
    "MmultCompact,MdivCompact = Matrix(len(E),len(E)),Matrix(len(E),len(E))\n",
    "for x in range(15):\n",
    "    for y in range(15):\n",
    "        if(x in E and y in E):\n",
    "            Mmult[x,y] = I15(x*y)\n",
    "            Mdiv[x,y] = I15(x*inv_gen(y,1,Mp))\n",
    "        else:\n",
    "            Mmult[x,y] = -1\n",
    "            Mdiv[x,y] = -1"
   ]
  },
  {
   "cell_type": "code",
   "execution_count": 32,
   "metadata": {},
   "outputs": [
    {
     "data": {
      "text/html": [
       "<html><script type=\"math/tex; mode=display\">\\newcommand{\\Bold}[1]{\\mathbf{#1}}\\verb|----|\\verb| |\\verb|Affichage|\\verb| |\\verb|Full|\\verb| |\\verb|----|</script></html>"
      ],
      "text/latex": [
       "$$\\newcommand{\\Bold}[1]{\\mathbf{#1}}\\verb|----|\\verb| |\\verb|Affichage|\\verb| |\\verb|Full|\\verb| |\\verb|----|$$"
      ],
      "text/plain": [
       "'---- Affichage Full ----'"
      ]
     },
     "metadata": {},
     "output_type": "display_data"
    },
    {
     "data": {
      "text/html": [
       "<html><script type=\"math/tex; mode=display\">\\newcommand{\\Bold}[1]{\\mathbf{#1}}\\verb|----|\\verb| |\\verb|Affichage|\\verb| |\\verb|Compact|\\verb| |\\verb|----|</script></html>"
      ],
      "text/latex": [
       "$$\\newcommand{\\Bold}[1]{\\mathbf{#1}}\\verb|----|\\verb| |\\verb|Affichage|\\verb| |\\verb|Compact|\\verb| |\\verb|----|$$"
      ],
      "text/plain": [
       "'---- Affichage Compact ----'"
      ]
     },
     "metadata": {},
     "output_type": "display_data"
    },
    {
     "data": {
      "text/html": [
       "<html><script type=\"math/tex; mode=display\">\\newcommand{\\Bold}[1]{\\mathbf{#1}}\\left(\\begin{array}{rrrrrrrr}\n",
       "1 & 2 & 4 & 7 & 8 & 11 & 13 & 14 \\\\\n",
       "2 & 4 & 8 & 14 & 1 & 7 & 11 & 13 \\\\\n",
       "4 & 8 & 1 & 13 & 2 & 14 & 7 & 11 \\\\\n",
       "7 & 14 & 13 & 4 & 11 & 2 & 1 & 8 \\\\\n",
       "8 & 1 & 2 & 11 & 4 & 13 & 14 & 7 \\\\\n",
       "11 & 7 & 14 & 2 & 13 & 1 & 8 & 4 \\\\\n",
       "13 & 11 & 7 & 1 & 14 & 8 & 4 & 2 \\\\\n",
       "14 & 13 & 11 & 8 & 7 & 4 & 2 & 1\n",
       "\\end{array}\\right)</script></html>"
      ],
      "text/latex": [
       "$$\\newcommand{\\Bold}[1]{\\mathbf{#1}}\\left(\\begin{array}{rrrrrrrr}\n",
       "1 & 2 & 4 & 7 & 8 & 11 & 13 & 14 \\\\\n",
       "2 & 4 & 8 & 14 & 1 & 7 & 11 & 13 \\\\\n",
       "4 & 8 & 1 & 13 & 2 & 14 & 7 & 11 \\\\\n",
       "7 & 14 & 13 & 4 & 11 & 2 & 1 & 8 \\\\\n",
       "8 & 1 & 2 & 11 & 4 & 13 & 14 & 7 \\\\\n",
       "11 & 7 & 14 & 2 & 13 & 1 & 8 & 4 \\\\\n",
       "13 & 11 & 7 & 1 & 14 & 8 & 4 & 2 \\\\\n",
       "14 & 13 & 11 & 8 & 7 & 4 & 2 & 1\n",
       "\\end{array}\\right)$$"
      ],
      "text/plain": [
       "[ 1  2  4  7  8 11 13 14]\n",
       "[ 2  4  8 14  1  7 11 13]\n",
       "[ 4  8  1 13  2 14  7 11]\n",
       "[ 7 14 13  4 11  2  1  8]\n",
       "[ 8  1  2 11  4 13 14  7]\n",
       "[11  7 14  2 13  1  8  4]\n",
       "[13 11  7  1 14  8  4  2]\n",
       "[14 13 11  8  7  4  2  1]"
      ]
     },
     "metadata": {},
     "output_type": "display_data"
    },
    {
     "data": {
      "text/html": [
       "<html><script type=\"math/tex; mode=display\">\\newcommand{\\Bold}[1]{\\mathbf{#1}}\\left(\\begin{array}{rrrrrrrr}\n",
       "1 & 8 & 4 & 13 & 2 & 11 & 7 & 14 \\\\\n",
       "2 & 1 & 8 & 11 & 4 & 7 & 14 & 13 \\\\\n",
       "4 & 2 & 1 & 7 & 8 & 14 & 13 & 11 \\\\\n",
       "7 & 11 & 13 & 1 & 14 & 2 & 4 & 8 \\\\\n",
       "8 & 4 & 2 & 14 & 1 & 13 & 11 & 7 \\\\\n",
       "11 & 13 & 14 & 8 & 7 & 1 & 2 & 4 \\\\\n",
       "13 & 14 & 7 & 4 & 11 & 8 & 1 & 2 \\\\\n",
       "14 & 7 & 11 & 2 & 13 & 4 & 8 & 1\n",
       "\\end{array}\\right)</script></html>"
      ],
      "text/latex": [
       "$$\\newcommand{\\Bold}[1]{\\mathbf{#1}}\\left(\\begin{array}{rrrrrrrr}\n",
       "1 & 8 & 4 & 13 & 2 & 11 & 7 & 14 \\\\\n",
       "2 & 1 & 8 & 11 & 4 & 7 & 14 & 13 \\\\\n",
       "4 & 2 & 1 & 7 & 8 & 14 & 13 & 11 \\\\\n",
       "7 & 11 & 13 & 1 & 14 & 2 & 4 & 8 \\\\\n",
       "8 & 4 & 2 & 14 & 1 & 13 & 11 & 7 \\\\\n",
       "11 & 13 & 14 & 8 & 7 & 1 & 2 & 4 \\\\\n",
       "13 & 14 & 7 & 4 & 11 & 8 & 1 & 2 \\\\\n",
       "14 & 7 & 11 & 2 & 13 & 4 & 8 & 1\n",
       "\\end{array}\\right)$$"
      ],
      "text/plain": [
       "[ 1  8  4 13  2 11  7 14]\n",
       "[ 2  1  8 11  4  7 14 13]\n",
       "[ 4  2  1  7  8 14 13 11]\n",
       "[ 7 11 13  1 14  2  4  8]\n",
       "[ 8  4  2 14  1 13 11  7]\n",
       "[11 13 14  8  7  1  2  4]\n",
       "[13 14  7  4 11  8  1  2]\n",
       "[14  7 11  2 13  4  8  1]"
      ]
     },
     "metadata": {},
     "output_type": "display_data"
    }
   ],
   "source": [
    "show(\"---- Affichage Full ----\")\n",
    "#show(Mmult)\n",
    "#show(Mdiv)\n",
    "show(\"---- Affichage Compact ----\")\n",
    "show(Mmult[E,E])\n",
    "show(Mdiv[E,E])"
   ]
  },
  {
   "cell_type": "markdown",
   "metadata": {
    "deletable": false,
    "editable": false,
    "run_control": {
     "frozen": true
    }
   },
   "source": [
    "### Question\n",
    "- Quelle propriété remarquez-vous sur l'ensemble $\\{1,2,4,7,8,11,13,14\\}$ par rapport à l'entier 15 ? *Indication : quels sont les entiers manquants ?*\n",
    "- Appliquer votre propriété pour trouver un sous-ensemble de $\\{1,2,3,4,5,6,7,8,9\\}$ qui forme un groupe pour la multiplication modulo 10. *Trouver la solution théoriquement, puis vérifier.*"
   ]
  },
  {
   "cell_type": "code",
   "execution_count": 33,
   "metadata": {
    "scrolled": true
   },
   "outputs": [
    {
     "data": {
      "text/html": [
       "<html><script type=\"math/tex; mode=display\">\\newcommand{\\Bold}[1]{\\mathbf{#1}}\\verb|Il|\\verb| |\\verb|manque|\\verb| |\\verb|tout|\\verb| |\\verb|les|\\verb| |\\verb|multiples|\\verb| |\\verb|des|\\verb| |\\verb|diviseurs|\\verb| |\\verb|de|\\verb| |\\verb|15,|\\verb| |\\verb|les|\\verb| |\\verb|multiples|\\verb| |\\verb|de|\\verb| |\\verb|3|\\verb| |\\verb|et|\\verb| |\\verb|5|\\verb| |\\verb|:|\\verb| |\\verb|{3,|\\verb| |\\verb|5,|\\verb| |\\verb|6,|\\verb| |\\verb|9,|\\verb| |\\verb|10,|\\verb| |\\verb|12|\\verb| |\\verb|&|\\verb| |\\verb|15}|</script></html>"
      ],
      "text/latex": [
       "$$\\newcommand{\\Bold}[1]{\\mathbf{#1}}\\verb|Il|\\verb| |\\verb|manque|\\verb| |\\verb|tout|\\verb| |\\verb|les|\\verb| |\\verb|multiples|\\verb| |\\verb|des|\\verb| |\\verb|diviseurs|\\verb| |\\verb|de|\\verb| |\\verb|15,|\\verb| |\\verb|les|\\verb| |\\verb|multiples|\\verb| |\\verb|de|\\verb| |\\verb|3|\\verb| |\\verb|et|\\verb| |\\verb|5|\\verb| |\\verb|:|\\verb| |\\verb|{3,|\\verb| |\\verb|5,|\\verb| |\\verb|6,|\\verb| |\\verb|9,|\\verb| |\\verb|10,|\\verb| |\\verb|12|\\verb| |\\verb|&|\\verb| |\\verb|15}|$$"
      ],
      "text/plain": [
       "'Il manque tout les multiples des diviseurs de 15, les multiples de 3 et 5 : {3, 5, 6, 9, 10, 12 & 15}'"
      ]
     },
     "metadata": {},
     "output_type": "display_data"
    },
    {
     "data": {
      "text/html": [
       "<html><script type=\"math/tex; mode=display\">\\newcommand{\\Bold}[1]{\\mathbf{#1}}\\verb|En|\\verb| |\\verb|appliquant|\\verb| |\\verb|la|\\verb| |\\verb|propriété,|\\verb| |\\verb|on|\\verb| |\\verb|trouve|\\verb| |\\verb|l'ensemble|\\verb| |\\verb|{1,|\\verb| |\\verb|3,|\\verb| |\\verb|7,|\\verb| |\\verb|9}|</script></html>"
      ],
      "text/latex": [
       "$$\\newcommand{\\Bold}[1]{\\mathbf{#1}}\\verb|En|\\verb| |\\verb|appliquant|\\verb| |\\verb|la|\\verb| |\\verb|propriété,|\\verb| |\\verb|on|\\verb| |\\verb|trouve|\\verb| |\\verb|l'ensemble|\\verb| |\\verb|{1,|\\verb| |\\verb|3,|\\verb| |\\verb|7,|\\verb| |\\verb|9}|$$"
      ],
      "text/plain": [
       "\"En appliquant la propriété, on trouve l'ensemble {1, 3, 7, 9}\""
      ]
     },
     "metadata": {},
     "output_type": "display_data"
    },
    {
     "name": "stdout",
     "output_type": "stream",
     "text": [
      "True\n"
     ]
    }
   ],
   "source": [
    "show(\"Il manque tout les multiples des diviseurs de 15, les multiples de 3 et 5 : {3, 5, 6, 9, 10, 12 & 15}\")\n",
    "show(\"En appliquant la propriété, on trouve l'ensemble {1, 3, 7, 9}\")\n",
    "print(estGroupe(genMatrixMul(10),[1,3,7,9]))"
   ]
  },
  {
   "cell_type": "markdown",
   "metadata": {
    "deletable": false,
    "editable": false,
    "run_control": {
     "frozen": true
    }
   },
   "source": [
    "### Question\n",
    "Soit $p=3$ et $q=5$, donner le code qui permet de calculer l'ensemble des entiers compris entre $1$ et $p\\times q-1$ qui ne sont ni divisibles par $p$ ni par $q$."
   ]
  },
  {
   "cell_type": "code",
   "execution_count": 34,
   "metadata": {
    "cell_style": "center"
   },
   "outputs": [
    {
     "ename": "NameError",
     "evalue": "name 'nondivPQ' is not defined",
     "output_type": "error",
     "traceback": [
      "\u001b[0;31m---------------------------------------------------------------------------\u001b[0m",
      "\u001b[0;31mNameError\u001b[0m                                 Traceback (most recent call last)",
      "\u001b[0;32m/tmp/ipykernel_140827/36212630.py\u001b[0m in \u001b[0;36m<module>\u001b[0;34m\u001b[0m\n\u001b[0;32m----> 1\u001b[0;31m \u001b[0mprint\u001b[0m\u001b[0;34m(\u001b[0m\u001b[0mnondivPQ\u001b[0m\u001b[0;34m(\u001b[0m\u001b[0mInteger\u001b[0m\u001b[0;34m(\u001b[0m\u001b[0;36m3\u001b[0m\u001b[0;34m)\u001b[0m\u001b[0;34m,\u001b[0m\u001b[0mInteger\u001b[0m\u001b[0;34m(\u001b[0m\u001b[0;36m5\u001b[0m\u001b[0;34m)\u001b[0m\u001b[0;34m)\u001b[0m\u001b[0;34m)\u001b[0m\u001b[0;34m\u001b[0m\u001b[0;34m\u001b[0m\u001b[0m\n\u001b[0m",
      "\u001b[0;31mNameError\u001b[0m: name 'nondivPQ' is not defined"
     ]
    }
   ],
   "source": [
    "print(nondivPQ(3,5))"
   ]
  },
  {
   "cell_type": "markdown",
   "metadata": {
    "deletable": false,
    "editable": false,
    "run_control": {
     "frozen": true
    }
   },
   "source": [
    "### Question\n",
    "Écrire une fonction `nondivPQ(p,q)` qui prend 2 nombres premiers $p$ et $q$ et qui retourne la liste des nombres compris entre 1 et $pq$ et qui ne sont divisibles ni par $p$ ni par $q$.\n",
    "\n",
    "Vous montrerez que `nondivPQ(p,q)` et `liste_inv_mul(p*q)` renvoient le même résultat pour $p$ et $q$ premiers. Pour cela vous vérifierez que c'est bien le cas pour tous les couples de nombres premiers $(p,q)$ parmi les 10 premiers nombres premiers (il existe une fonction sage pour générer la liste de ces nombres premiers)."
   ]
  },
  {
   "cell_type": "code",
   "execution_count": 35,
   "metadata": {},
   "outputs": [],
   "source": [
    "def nondivPQ(p,q):\n",
    "    L = []\n",
    "    i = 1\n",
    "    while i < p*q:\n",
    "        if(not(i%p==0 or i%q==0)):\n",
    "            L.append(i)\n",
    "        i += 1\n",
    "    return L"
   ]
  },
  {
   "cell_type": "code",
   "execution_count": 36,
   "metadata": {},
   "outputs": [
    {
     "data": {
      "text/html": [
       "<html><script type=\"math/tex; mode=display\">\\newcommand{\\Bold}[1]{\\mathbf{#1}}\\mathrm{True}</script></html>"
      ],
      "text/latex": [
       "$$\\newcommand{\\Bold}[1]{\\mathbf{#1}}\\mathrm{True}$$"
      ],
      "text/plain": [
       "True"
      ]
     },
     "metadata": {},
     "output_type": "display_data"
    }
   ],
   "source": [
    "P = Primes()\n",
    "res = True\n",
    "for i in P[:10]:\n",
    "    for j in P[:10]:\n",
    "        res = res and bool(liste_inv_mul(i*j)==nondivPQ(i,j))\n",
    "show(res)"
   ]
  },
  {
   "cell_type": "markdown",
   "metadata": {
    "deletable": false,
    "editable": false,
    "run_control": {
     "frozen": true
    }
   },
   "source": [
    "### Question\n",
    "Vérifier, à l'aide des fonctions `nondivPQ` et `estGroupe`, que pour tout couple $(p,q)$ de nombres premiers l'ensemble des éléments de `nondivPQ(p,q)` forme un groupe pour la multiplication modulo $N=p\\times q$.\n",
    "- vous testerez dans un premier temps votre fonction avec $p = 5$ et $q = 7$,\n",
    "- puis vous la testerez pour tout les couples de nombre premiers $(p,q)$ parmi les 10 premiers nombres premiers ."
   ]
  },
  {
   "cell_type": "code",
   "execution_count": 37,
   "metadata": {
    "scrolled": true
   },
   "outputs": [],
   "source": [
    "def couplePremiersGroupeMul(p,q):\n",
    "    N = p*q\n",
    "    Mn = genMatrixMul(N)\n",
    "    L = nondivPQ(p,q)\n",
    "    return estGroupe(Mn,L)"
   ]
  },
  {
   "cell_type": "code",
   "execution_count": 38,
   "metadata": {},
   "outputs": [
    {
     "data": {
      "text/html": [
       "<html><script type=\"math/tex; mode=display\">\\newcommand{\\Bold}[1]{\\mathbf{#1}}\\mathrm{True}</script></html>"
      ],
      "text/latex": [
       "$$\\newcommand{\\Bold}[1]{\\mathbf{#1}}\\mathrm{True}$$"
      ],
      "text/plain": [
       "True"
      ]
     },
     "metadata": {},
     "output_type": "display_data"
    },
    {
     "data": {
      "text/html": [
       "<html><script type=\"math/tex; mode=display\">\\newcommand{\\Bold}[1]{\\mathbf{#1}}\\mathrm{True}</script></html>"
      ],
      "text/latex": [
       "$$\\newcommand{\\Bold}[1]{\\mathbf{#1}}\\mathrm{True}$$"
      ],
      "text/plain": [
       "True"
      ]
     },
     "metadata": {},
     "output_type": "display_data"
    }
   ],
   "source": [
    "show(couplePremiersGroupeMul(5,7))\n",
    "\n",
    "#ATTENTION : très long à tourner pour p,q = 10 (~5 minutes)\n",
    "p = 5\n",
    "q = 5\n",
    "\n",
    "P = Primes()\n",
    "res = True\n",
    "for i in P[:p]:\n",
    "    for j in P[:q]:\n",
    "        res = res and couplePremiersGroupeMul(i,j)\n",
    "show(res)"
   ]
  },
  {
   "cell_type": "markdown",
   "metadata": {
    "deletable": false,
    "editable": false,
    "run_control": {
     "frozen": true
    }
   },
   "source": [
    "### Question \n",
    "On va généraliser les questions précédentes à un entier $N$ quelconque, en vérifiant que le sous-ensemble $E$ des entiers qui ne sont multiples d'aucun facteur premier de $N$, forme un groupe pour la multiplication. \n",
    "\n",
    "- généraliser `nondivPQ` à un $N$ quelconque pour renvoyer l'ensemble des entiers qui ne sont multiples d'aucun facteur premier de $N$. *La fonction `N.factor()` calcule la factorisation de $N$ en facteurs premiers. Le retour de la fonction est une liste de couples représentant le facteur et son exposant dans la factorisation.*\n",
    "- proposer une fonction qui vérifie pour un entier $N$ que l'ensemble en question forme bien un groupe pour la multiplication.\n",
    "- tester pour tous les entiers  $N$ entre 1 et 100."
   ]
  },
  {
   "cell_type": "code",
   "execution_count": 39,
   "metadata": {},
   "outputs": [],
   "source": [
    "def nondivN(N):\n",
    "    Fp = N.factor()\n",
    "    E = []\n",
    "    for i in range(1,N):\n",
    "        nonMultiple = True\n",
    "        for j in Fp:\n",
    "            if((i%j[0]==0) or (i in E)):\n",
    "               nonMultiple = False\n",
    "        if(nonMultiple):\n",
    "            E.append(i)\n",
    "    return E\n",
    "               \n",
    "def nondivNGroupeMul(N):\n",
    "    E = nondivN(N)\n",
    "    return estGroupe(genMatrixMul(N),E)"
   ]
  },
  {
   "cell_type": "code",
   "execution_count": 40,
   "metadata": {},
   "outputs": [
    {
     "name": "stdout",
     "output_type": "stream",
     "text": [
      "True\n"
     ]
    }
   ],
   "source": [
    "N = [Integer(i) for i in range(1,100)]\n",
    "res = True\n",
    "\n",
    "for i in N:\n",
    "   res = res and nondivNGroupeMul(i)\n",
    "print(res)"
   ]
  },
  {
   "cell_type": "markdown",
   "metadata": {
    "deletable": false,
    "editable": false,
    "run_control": {
     "frozen": true
    }
   },
   "source": [
    "## Inversibilité et pgcd\n",
    "\n",
    "On vient de voir que pour tout entier $N$, il existe un sous-ensemble de $G\\subset E=\\{1,2,\\dots,N-1\\}$ qui définit un groupe pour la multiplication modulo $N$. On dira de $G$ qu'il est le sous-groupe multiplicatif des entiers modulo $N$.\n",
    "\n",
    "- Si $N$ est un nombre premier alors le sous-ensemble de $G$ est formé par tous les entiers compris entre 1 et N-1.\n",
    "- Si par contre $N=p\\times q$ avec $p$ et $q$ des nombres premiers alors le sous-ensemble $G$ est formé des entiers divisibles ni par $p$ ni par $q$, autrement dit ceux dont le pgcd avec $N$ est égal à $1$. Dans ce cas, le nombre d'entiers dans $G$ est $(p-1)\\times(q-1)$.\n",
    "\n",
    "De manière plus générale, pour tout $N$, le sous-ensemble $G$ est formé des entiers qui sont premiers avec $N$, càd tous les entiers $x\\in \\{1,\\dots,N-1\\}$ tels que $\\operatorname{pgcd}(x,N)=1$. L'indicatrice d'Euler, notée $\\varphi(N)$, donne exactement le nombre d'éléments de $G$. \n",
    "\n",
    "### Question\n",
    "Retrouver les éléments inversibles *modulo* $35$ en utilisant la propriété sur le pgcd, et vérifier que le nombre d'éléments trouvés vaut bien $\\varphi(35)$. *Le pgcd de $a$ et $b$ se calcule avec `gcd(a,b)`, et $\\varphi(N)$ avec `euler_phi(N)`.*"
   ]
  },
  {
   "cell_type": "code",
   "execution_count": 43,
   "metadata": {},
   "outputs": [
    {
     "data": {
      "text/html": [
       "<html><script type=\"math/tex; mode=display\">\\newcommand{\\Bold}[1]{\\mathbf{#1}}\\verb|G|\\verb| |\\verb|=| \\left[1, 2, 3, 4, 6, 8, 9, 11, 12, 13, 16, 17, 18, 19, 22, 23, 24, 26, 27, 29, 31, 32, 33, 34\\right]</script></html>"
      ],
      "text/latex": [
       "$$\\newcommand{\\Bold}[1]{\\mathbf{#1}}\\verb|G|\\verb| |\\verb|=| \\left[1, 2, 3, 4, 6, 8, 9, 11, 12, 13, 16, 17, 18, 19, 22, 23, 24, 26, 27, 29, 31, 32, 33, 34\\right]$$"
      ],
      "text/plain": [
       "'G = ' [1,\n",
       " 2,\n",
       " 3,\n",
       " 4,\n",
       " 6,\n",
       " 8,\n",
       " 9,\n",
       " 11,\n",
       " 12,\n",
       " 13,\n",
       " 16,\n",
       " 17,\n",
       " 18,\n",
       " 19,\n",
       " 22,\n",
       " 23,\n",
       " 24,\n",
       " 26,\n",
       " 27,\n",
       " 29,\n",
       " 31,\n",
       " 32,\n",
       " 33,\n",
       " 34]"
      ]
     },
     "metadata": {},
     "output_type": "display_data"
    },
    {
     "data": {
      "text/html": [
       "<html><script type=\"math/tex; mode=display\">\\newcommand{\\Bold}[1]{\\mathbf{#1}}\\mathrm{True}</script></html>"
      ],
      "text/latex": [
       "$$\\newcommand{\\Bold}[1]{\\mathbf{#1}}\\mathrm{True}$$"
      ],
      "text/plain": [
       "True"
      ]
     },
     "metadata": {},
     "output_type": "display_data"
    }
   ],
   "source": [
    "def inversibles(N):\n",
    "    G = []\n",
    "    for x in range(1,N):\n",
    "        if(gcd(x,N)==1):\n",
    "            G.append(x)\n",
    "    return G\n",
    "\n",
    "N = 35\n",
    "show(\"G = \",inversibles(N))\n",
    "show(bool(len(inversibles(N)) == euler_phi(N)))"
   ]
  },
  {
   "cell_type": "markdown",
   "metadata": {
    "deletable": false,
    "editable": false,
    "run_control": {
     "frozen": true
    }
   },
   "source": [
    "### Question\n",
    "Pour différentes valeur de $N$, calculer $z^{\\varphi(N)} \\bmod N$ pour tous les éléments inversibles de $\\{1,\\dotsc,N\\}$. Que remarquez-vous ?  "
   ]
  },
  {
   "cell_type": "code",
   "execution_count": 44,
   "metadata": {
    "scrolled": true
   },
   "outputs": [
    {
     "data": {
      "text/html": [
       "<html><script type=\"math/tex; mode=display\">\\newcommand{\\Bold}[1]{\\mathbf{#1}}\\left[\\left(1, 1\\right), \\left(3, 1\\right), \\left(7, 1\\right), \\left(9, 1\\right)\\right]</script></html>"
      ],
      "text/latex": [
       "$$\\newcommand{\\Bold}[1]{\\mathbf{#1}}\\left[\\left(1, 1\\right), \\left(3, 1\\right), \\left(7, 1\\right), \\left(9, 1\\right)\\right]$$"
      ],
      "text/plain": [
       "[(1, 1), (3, 1), (7, 1), (9, 1)]"
      ]
     },
     "metadata": {},
     "output_type": "display_data"
    }
   ],
   "source": [
    "N = 10\n",
    "Z = []\n",
    "for z in inversibles(N):\n",
    "    Z.append((z,z**euler_phi(N)%N))\n",
    "show(Z)"
   ]
  },
  {
   "cell_type": "markdown",
   "metadata": {
    "deletable": false,
    "editable": false,
    "run_control": {
     "frozen": true
    }
   },
   "source": [
    "On remarque que pour tout $z$ dans le groupe multiplicatif $G$ modulo $N$, $z^{\\varphi(n)} = 1$. On définit l'*ordre* d'un entier $z\\in G$, noté $\\operatorname{ord}(z)$, comme étant le plus petit entier $k>0$ tel que $z^k=1 \\bmod N$. On a donc $\\operatorname{ord}(z)\\le\\varphi(N)$.\n",
    "\n",
    "### Question\n",
    "- En utilisant directement la structure `Integers(N)` pour faire les calculs modulo $N$, écrire une fonction `ord_mul_modN(x, N)` qui calcule l'ordre de $x$ *modulo* $N$, quand $x$ est inversible *modulo* $N$.\n",
    "- Donner la liste des couples $(x,\\operatorname{ord}(x))$ pour tous les entiers $x$ qui sont inversibles pour la multiplication *modulo* $N$, pour $N=5,15,17$.\n",
    "\n",
    "*Vérifier que vos résultats sont corrects en utilisant la fonction `pow(x,k,N)` qui calcule $x^k \\bmod N$.*"
   ]
  },
  {
   "cell_type": "code",
   "execution_count": 45,
   "metadata": {},
   "outputs": [
    {
     "data": {
      "text/html": [
       "<html><script type=\"math/tex; mode=display\">\\newcommand{\\Bold}[1]{\\mathbf{#1}}4</script></html>"
      ],
      "text/latex": [
       "$$\\newcommand{\\Bold}[1]{\\mathbf{#1}}4$$"
      ],
      "text/plain": [
       "4"
      ]
     },
     "metadata": {},
     "output_type": "display_data"
    }
   ],
   "source": [
    "def ord_mul_modN(x,N):\n",
    "    k = 1\n",
    "    if(not(x in inversibles(N))): return None\n",
    "    else:\n",
    "        while(pow(x,k,N) != 1):\n",
    "            k += 1\n",
    "        return k\n",
    "    \n",
    "show(ord_mul_modN(3,10))"
   ]
  },
  {
   "cell_type": "code",
   "execution_count": 46,
   "metadata": {},
   "outputs": [
    {
     "data": {
      "text/html": [
       "<html><script type=\"math/tex; mode=display\">\\newcommand{\\Bold}[1]{\\mathbf{#1}}\\verb|-----------------------|\\verb| |\\verb|N=| 5 \\verb| |\\verb|-----------------------|</script></html>"
      ],
      "text/latex": [
       "$$\\newcommand{\\Bold}[1]{\\mathbf{#1}}\\verb|-----------------------|\\verb| |\\verb|N=| 5 \\verb| |\\verb|-----------------------|$$"
      ],
      "text/plain": [
       "'----------------------- N=' 5 ' -----------------------'"
      ]
     },
     "metadata": {},
     "output_type": "display_data"
    },
    {
     "data": {
      "text/html": [
       "<html><script type=\"math/tex; mode=display\">\\newcommand{\\Bold}[1]{\\mathbf{#1}}\\left[\\left(1, 1\\right), \\left(2, 4\\right), \\left(3, 4\\right), \\left(4, 2\\right)\\right]</script></html>"
      ],
      "text/latex": [
       "$$\\newcommand{\\Bold}[1]{\\mathbf{#1}}\\left[\\left(1, 1\\right), \\left(2, 4\\right), \\left(3, 4\\right), \\left(4, 2\\right)\\right]$$"
      ],
      "text/plain": [
       "[(1, 1), (2, 4), (3, 4), (4, 2)]"
      ]
     },
     "metadata": {},
     "output_type": "display_data"
    },
    {
     "data": {
      "text/html": [
       "<html><script type=\"math/tex; mode=display\">\\newcommand{\\Bold}[1]{\\mathbf{#1}}\\verb|-----------------------|\\verb| |\\verb|N=| 15 \\verb| |\\verb|-----------------------|</script></html>"
      ],
      "text/latex": [
       "$$\\newcommand{\\Bold}[1]{\\mathbf{#1}}\\verb|-----------------------|\\verb| |\\verb|N=| 15 \\verb| |\\verb|-----------------------|$$"
      ],
      "text/plain": [
       "'----------------------- N=' 15 ' -----------------------'"
      ]
     },
     "metadata": {},
     "output_type": "display_data"
    },
    {
     "data": {
      "text/html": [
       "<html><script type=\"math/tex; mode=display\">\\newcommand{\\Bold}[1]{\\mathbf{#1}}\\left[\\left(1, 1\\right), \\left(2, 4\\right), \\left(4, 2\\right), \\left(7, 4\\right), \\left(8, 4\\right), \\left(11, 2\\right), \\left(13, 4\\right), \\left(14, 2\\right)\\right]</script></html>"
      ],
      "text/latex": [
       "$$\\newcommand{\\Bold}[1]{\\mathbf{#1}}\\left[\\left(1, 1\\right), \\left(2, 4\\right), \\left(4, 2\\right), \\left(7, 4\\right), \\left(8, 4\\right), \\left(11, 2\\right), \\left(13, 4\\right), \\left(14, 2\\right)\\right]$$"
      ],
      "text/plain": [
       "[(1, 1), (2, 4), (4, 2), (7, 4), (8, 4), (11, 2), (13, 4), (14, 2)]"
      ]
     },
     "metadata": {},
     "output_type": "display_data"
    },
    {
     "data": {
      "text/html": [
       "<html><script type=\"math/tex; mode=display\">\\newcommand{\\Bold}[1]{\\mathbf{#1}}\\verb|-----------------------|\\verb| |\\verb|N=| 17 \\verb| |\\verb|-----------------------|</script></html>"
      ],
      "text/latex": [
       "$$\\newcommand{\\Bold}[1]{\\mathbf{#1}}\\verb|-----------------------|\\verb| |\\verb|N=| 17 \\verb| |\\verb|-----------------------|$$"
      ],
      "text/plain": [
       "'----------------------- N=' 17 ' -----------------------'"
      ]
     },
     "metadata": {},
     "output_type": "display_data"
    },
    {
     "data": {
      "text/html": [
       "<html><script type=\"math/tex; mode=display\">\\newcommand{\\Bold}[1]{\\mathbf{#1}}\\left[\\left(1, 1\\right), \\left(2, 8\\right), \\left(3, 16\\right), \\left(4, 4\\right), \\left(5, 16\\right), \\left(6, 16\\right), \\left(7, 16\\right), \\left(8, 8\\right), \\left(9, 8\\right), \\left(10, 16\\right), \\left(11, 16\\right), \\left(12, 16\\right), \\left(13, 4\\right), \\left(14, 16\\right), \\left(15, 8\\right), \\left(16, 2\\right)\\right]</script></html>"
      ],
      "text/latex": [
       "$$\\newcommand{\\Bold}[1]{\\mathbf{#1}}\\left[\\left(1, 1\\right), \\left(2, 8\\right), \\left(3, 16\\right), \\left(4, 4\\right), \\left(5, 16\\right), \\left(6, 16\\right), \\left(7, 16\\right), \\left(8, 8\\right), \\left(9, 8\\right), \\left(10, 16\\right), \\left(11, 16\\right), \\left(12, 16\\right), \\left(13, 4\\right), \\left(14, 16\\right), \\left(15, 8\\right), \\left(16, 2\\right)\\right]$$"
      ],
      "text/plain": [
       "[(1, 1),\n",
       " (2, 8),\n",
       " (3, 16),\n",
       " (4, 4),\n",
       " (5, 16),\n",
       " (6, 16),\n",
       " (7, 16),\n",
       " (8, 8),\n",
       " (9, 8),\n",
       " (10, 16),\n",
       " (11, 16),\n",
       " (12, 16),\n",
       " (13, 4),\n",
       " (14, 16),\n",
       " (15, 8),\n",
       " (16, 2)]"
      ]
     },
     "metadata": {},
     "output_type": "display_data"
    }
   ],
   "source": [
    "for N in (5,15,17):\n",
    "    show(\"----------------------- N=\",N,\" -----------------------\")\n",
    "    L = []\n",
    "    for x in inversibles(N):\n",
    "        L.append((x,ord_mul_modN(x,N)))\n",
    "    show(L)"
   ]
  },
  {
   "cell_type": "markdown",
   "metadata": {
    "deletable": false,
    "editable": false,
    "run_control": {
     "frozen": true
    }
   },
   "source": [
    "### Question\n",
    "Définir une fonction `liste_ord_mul` qui étant donné un entier N renvoie la liste des ordres possibles de tous les éléments inversibles pour la multiplication modulo $N$. <!--Vous pourrez utilisez la méthode **multiplicative_order()** qui pour un élement x de Integer(N) donne l'ordre mutliplicatif de x modulo N.-->\n",
    "*Tester pour tous les entiers $N$ entre $2$ et $40$.*"
   ]
  },
  {
   "cell_type": "code",
   "execution_count": 47,
   "metadata": {},
   "outputs": [
    {
     "data": {
      "text/html": [
       "<html><script type=\"math/tex; mode=display\">\\newcommand{\\Bold}[1]{\\mathbf{#1}}\\left[1, 4, 2\\right]</script></html>"
      ],
      "text/latex": [
       "$$\\newcommand{\\Bold}[1]{\\mathbf{#1}}\\left[1, 4, 2\\right]$$"
      ],
      "text/plain": [
       "[1, 4, 2]"
      ]
     },
     "metadata": {},
     "output_type": "display_data"
    }
   ],
   "source": [
    "def liste_ord_mul(N):\n",
    "    O = []\n",
    "    for k in range(1,N):\n",
    "        if (ord_mul_modN(k,N) not in O and ord_mul_modN(k,N)!=None):O.append(ord_mul_modN(k,N))\n",
    "    return O\n",
    "    \n",
    "show(liste_ord_mul(10))"
   ]
  },
  {
   "cell_type": "code",
   "execution_count": 48,
   "metadata": {},
   "outputs": [
    {
     "name": "stdout",
     "output_type": "stream",
     "text": [
      "-> N = 2 , ordres possibles = [1]\n",
      "-> N = 3 , ordres possibles = [1, 2]\n",
      "-> N = 4 , ordres possibles = [1, 2]\n",
      "-> N = 5 , ordres possibles = [1, 4, 2]\n",
      "-> N = 6 , ordres possibles = [1, 2]\n",
      "-> N = 7 , ordres possibles = [1, 3, 6, 2]\n",
      "-> N = 8 , ordres possibles = [1, 2]\n",
      "-> N = 9 , ordres possibles = [1, 6, 3, 2]\n",
      "-> N = 10 , ordres possibles = [1, 4, 2]\n",
      "-> N = 11 , ordres possibles = [1, 10, 5, 2]\n",
      "-> N = 12 , ordres possibles = [1, 2]\n",
      "-> N = 13 , ordres possibles = [1, 12, 3, 6, 4, 2]\n",
      "-> N = 14 , ordres possibles = [1, 6, 3, 2]\n",
      "-> N = 15 , ordres possibles = [1, 4, 2]\n",
      "-> N = 16 , ordres possibles = [1, 4, 2]\n",
      "-> N = 17 , ordres possibles = [1, 8, 16, 4, 2]\n",
      "-> N = 18 , ordres possibles = [1, 6, 3, 2]\n",
      "-> N = 19 , ordres possibles = [1, 18, 9, 3, 6, 2]\n",
      "-> N = 20 , ordres possibles = [1, 4, 2]\n",
      "-> N = 21 , ordres possibles = [1, 6, 3, 2]\n",
      "-> N = 22 , ordres possibles = [1, 5, 10, 2]\n",
      "-> N = 23 , ordres possibles = [1, 11, 22, 2]\n",
      "-> N = 24 , ordres possibles = [1, 2]\n",
      "-> N = 25 , ordres possibles = [1, 20, 10, 5, 4, 2]\n",
      "-> N = 26 , ordres possibles = [1, 3, 4, 12, 6, 2]\n",
      "-> N = 27 , ordres possibles = [1, 18, 9, 6, 3, 2]\n",
      "-> N = 28 , ordres possibles = [1, 6, 3, 2]\n",
      "-> N = 29 , ordres possibles = [1, 28, 14, 7, 4, 2]\n",
      "-> N = 30 , ordres possibles = [1, 4, 2]\n",
      "-> N = 31 , ordres possibles = [1, 5, 30, 3, 6, 15, 10, 2]\n",
      "-> N = 32 , ordres possibles = [1, 8, 4, 2]\n",
      "-> N = 33 , ordres possibles = [1, 10, 5, 2]\n",
      "-> N = 34 , ordres possibles = [1, 16, 8, 4, 2]\n",
      "-> N = 35 , ordres possibles = [1, 12, 6, 2, 4, 3]\n",
      "-> N = 36 , ordres possibles = [1, 6, 3, 2]\n",
      "-> N = 37 , ordres possibles = [1, 36, 18, 4, 9, 12, 3, 6, 2]\n",
      "-> N = 38 , ordres possibles = [1, 18, 9, 3, 6, 2]\n",
      "-> N = 39 , ordres possibles = [1, 12, 6, 4, 2, 3]\n",
      "-> N = 40 , ordres possibles = [1, 4, 2]\n"
     ]
    }
   ],
   "source": [
    "for N in range(2,41):\n",
    "    print(\"-> N =\",N,\", ordres possibles =\",liste_ord_mul(N))\n",
    "    \n",
    "#show([(N,liste_ord_mul(N)) for N in range(2,40)])"
   ]
  },
  {
   "cell_type": "markdown",
   "metadata": {
    "deletable": false,
    "editable": false,
    "run_control": {
     "frozen": true
    }
   },
   "source": [
    "### Question\n",
    "Vérifier que pour tous les nombres premiers $< 40$, les ordres des éléments inversibles pour la multiplication modulo $N$ divisent tous $N-1$. *Vous pourrez utiliser la fonction Sage `prime_range(N)` qui donne la liste des premiers inférieur à N.*"
   ]
  },
  {
   "cell_type": "code",
   "execution_count": 49,
   "metadata": {},
   "outputs": [
    {
     "data": {
      "text/html": [
       "<html><script type=\"math/tex; mode=display\">\\newcommand{\\Bold}[1]{\\mathbf{#1}}\\mathrm{True}</script></html>"
      ],
      "text/latex": [
       "$$\\newcommand{\\Bold}[1]{\\mathbf{#1}}\\mathrm{True}$$"
      ],
      "text/plain": [
       "True"
      ]
     },
     "execution_count": 49,
     "metadata": {},
     "output_type": "execute_result"
    }
   ],
   "source": [
    "N = 40\n",
    "\n",
    "all((((N-1)%y==0) for y in liste_ord_mul(x)) for x in [n for n in prime_range(N)])"
   ]
  },
  {
   "cell_type": "code",
   "execution_count": null,
   "metadata": {
    "scrolled": true
   },
   "outputs": [],
   "source": []
  },
  {
   "cell_type": "markdown",
   "metadata": {
    "deletable": false,
    "editable": false,
    "run_control": {
     "frozen": true
    }
   },
   "source": [
    "### Question\n",
    "De manière similaire, montrer (pour $p,q<40$) que si $N=p\\times q$ avec $p$ et $q$ des nombres premiers différent alors les ordres des éléments inversibles pour la multiplication modulo $N$ divisent tous $(p-1)\\times(q-1)$. "
   ]
  },
  {
   "cell_type": "code",
   "execution_count": 74,
   "metadata": {
    "scrolled": true
   },
   "outputs": [
    {
     "data": {
      "text/html": [
       "<html><script type=\"math/tex; mode=display\">\\newcommand{\\Bold}[1]{\\mathbf{#1}}\\mathrm{True}</script></html>"
      ],
      "text/latex": [
       "$$\\newcommand{\\Bold}[1]{\\mathbf{#1}}\\mathrm{True}$$"
      ],
      "text/plain": [
       "True"
      ]
     },
     "execution_count": 74,
     "metadata": {},
     "output_type": "execute_result"
    }
   ],
   "source": [
    "P = prime_range(40)\n",
    "\n",
    "all(all(all((p==q or ((p-1)*(q-1))%x==0) for x in liste_ord_mul(p*q)) for q in P) for p in P)"
   ]
  },
  {
   "cell_type": "code",
   "execution_count": null,
   "metadata": {},
   "outputs": [],
   "source": []
  },
  {
   "cell_type": "markdown",
   "metadata": {
    "deletable": false,
    "editable": false,
    "run_control": {
     "frozen": true
    }
   },
   "source": [
    "### Question\n",
    "En réalité, la propriété observée est vraie pour tout $N$ : les ordres des éléments inversibles pour la multiplication *modulo* $N$ divisent tous $\\varphi(N)$. Vérifier la propriété pour pour tout $N \\le 40$."
   ]
  },
  {
   "cell_type": "code",
   "execution_count": 76,
   "metadata": {},
   "outputs": [
    {
     "data": {
      "text/html": [
       "<html><script type=\"math/tex; mode=display\">\\newcommand{\\Bold}[1]{\\mathbf{#1}}\\mathrm{True}</script></html>"
      ],
      "text/latex": [
       "$$\\newcommand{\\Bold}[1]{\\mathbf{#1}}\\mathrm{True}$$"
      ],
      "text/plain": [
       "True"
      ]
     },
     "execution_count": 76,
     "metadata": {},
     "output_type": "execute_result"
    }
   ],
   "source": [
    "all(all(euler_phi(N)%x==0 for x in liste_ord_mul(N)) for N in range(1,40))"
   ]
  },
  {
   "cell_type": "markdown",
   "metadata": {
    "deletable": false,
    "editable": false,
    "run_control": {
     "frozen": true
    }
   },
   "source": [
    "## Cryptosystème RSA"
   ]
  },
  {
   "cell_type": "markdown",
   "metadata": {
    "deletable": false,
    "editable": false,
    "run_control": {
     "frozen": true
    }
   },
   "source": [
    "Le système de chiffrement RSA est l'un des systèmes cryptographique les plus utilisées dans votre vie de tous les jours (par exemple il est utilisé quand vous payez en carte bleue). Ce protocole s'appuie sur des calculs avec des entiers modulo $N$ et il s'appuie sur la structure de sous-groupe multiplicatif que nous avons entre-apercu.\n",
    "\n",
    "L'idée est de prendre un entier $N=p \\times q$ ou $p$ et $q$ sont deux nombres premiers.\n",
    "Comme vous avez vu que l'ordre des éléments inversibles pour la multiplication modulo $N$ est toujours divisible par $(p-1)\\times (q-1)$ on a la propriété suivante:\n",
    "\n",
    "$\\forall x \\in \\{1,\\dots,N-1\\}$ tel que $pgcd(x,N)=1$ alors $x^{(p-1)\\times (q-1)} \\bmod N= 1$\n",
    "\n",
    "### Question\n",
    "Vérifier cette propriété pour $N=55$. *Vérifier également que la propriété est fausse si on ne suppose pas $\\operatorname{pgcd}(x,N)=1$.*"
   ]
  },
  {
   "cell_type": "code",
   "execution_count": null,
   "metadata": {},
   "outputs": [],
   "source": []
  },
  {
   "cell_type": "code",
   "execution_count": null,
   "metadata": {
    "scrolled": true
   },
   "outputs": [],
   "source": []
  },
  {
   "cell_type": "markdown",
   "metadata": {
    "deletable": false,
    "editable": false,
    "run_control": {
     "frozen": true
    }
   },
   "source": [
    "L'idée du chiffrement RSA est d'utiliser le calcul des entiers modulo $N$ avec un entier $N=p \\times q$ où $p,q$ sont premiers. On définit une paire de clé $(e,d)$ avec $e,d$ deux entiers non-nuls plus petit que $N$, et on dit que la paire $(N,e)$ est la clé publique et que la paire $(N,d)$ est la clé secrète. \n",
    "\n",
    "Lorsque quelqu'un veut envoyer un message $m$ chiffré à Alice, il lui suffit d'utiliser la clé publique $(N,e)$ d'Alice (qui est connue de tous). Par simplicité, on considèrera que le message $m$ est un entier dans $\\{1,\\dots,N-1)$ tel que $pgcd(m,N)=1$. Le chiffrement de $m$ par la clé publique d'Alice consiste à calculer $C_m = m^e \\bmod N$.\n",
    "\n",
    "Pour déchiffrer le message, il faut soit:\n",
    "- calculer $m$ ou $d$ en fonction de $C_m,e$ et $N$, ce qui est en fait un problème difficile (complexité sous-exponentielle)\n",
    "- soit connaitre la clé privé $(N,d)$ que seul Alice connait. En effet, pour Alice il suffit de calculer\n",
    "$m = C_m^d \\bmod N$ (complexité quasi-linéaire)\n",
    "\n",
    "\n",
    "### Question\n",
    "\n",
    "Soit $N=5\\times 11$, $m=31$, $e=3$ et $d=42$, montrer que le déchiffrement de RSA avec la clé privée $d$ fonctionne bien."
   ]
  },
  {
   "cell_type": "code",
   "execution_count": null,
   "metadata": {},
   "outputs": [],
   "source": []
  },
  {
   "cell_type": "code",
   "execution_count": null,
   "metadata": {},
   "outputs": [],
   "source": []
  },
  {
   "cell_type": "markdown",
   "metadata": {
    "deletable": false,
    "editable": false,
    "run_control": {
     "frozen": true
    }
   },
   "source": [
    "Toute la magie de ce protocole de cryptage réside dans le calcul de la paire d'entiers $(e,d)$. En effet, $e$ doit être choisi de telle sorte que $pgcd(e,(p-1)\\times(q-1))=1$. Cette condition implique que $e$ est inversible modulo $(p-1)\\times(q-1)$. Il suffit de poser $d=1/e \\bmod (p-1)\\times(q-1)$ pour faire marcher le protocole. \n",
    "\n",
    "En effet, par définition de $e$ et $d$ on a que $d*e = 1 \\bmod (p-1)\\times(q-1)$. Par conséquent, on a que $de= 1 + k \\times (p-1)\\times(q-1)$ avec $k$ un entiers.\n",
    "\n",
    "\n",
    "Maintenant, si on considère le sous-groupe $G$ des inversibles pour la multiplication modulo $N$, on a vu que pour tout élément $x\\in G$ l'ordre de $x$ divise $(p-1)\\times(q-1)$. Cela implique donc que $x^{(p-1)\\times(q-1)}=1 \\bmod N$.\n",
    "\n",
    "En reprenant le protocole RSA, on a que le déchiffrement calcule\n",
    "$C_m^e \\bmod N = {(m^d)}^e \\bmod N = m^{de} \\bmod N= m^{1 + k \\times (p-1)\\times(q-1)} \\bmod N = m \\times m^{k \\times (p-1)\\times(q-1)}= m \\times {(m^{(p-1)\\times(q-1)})}^k = m \\times 1^k \\bmod N=m$\n"
   ]
  },
  {
   "cell_type": "markdown",
   "metadata": {
    "deletable": false,
    "editable": false,
    "run_control": {
     "frozen": true
    }
   },
   "source": [
    "### Question\n",
    "En considérant $N=17*11=187$, $m=101$, calculer $10$ paires d'entier $(e,d)$ au hasard tel que le protocole RSA fonctionne. À chaque fois vous afficherez $e$ et $d$ ainsi que le message chiffré et son déchiffrement."
   ]
  },
  {
   "cell_type": "code",
   "execution_count": null,
   "metadata": {},
   "outputs": [],
   "source": []
  },
  {
   "cell_type": "code",
   "execution_count": null,
   "metadata": {},
   "outputs": [],
   "source": []
  },
  {
   "cell_type": "code",
   "execution_count": null,
   "metadata": {},
   "outputs": [],
   "source": []
  }
 ],
 "metadata": {
  "celltoolbar": "Aucun(e)",
  "kernelspec": {
   "display_name": "SageMath 9.5",
   "language": "sage",
   "name": "sagemath"
  },
  "language_info": {
   "codemirror_mode": {
    "name": "ipython",
    "version": 3
   },
   "file_extension": ".py",
   "mimetype": "text/x-python",
   "name": "python",
   "nbconvert_exporter": "python",
   "pygments_lexer": "ipython3",
   "version": "3.10.6"
  },
  "toc": {
   "base_numbering": 1,
   "nav_menu": {},
   "number_sections": true,
   "sideBar": true,
   "skip_h1_title": true,
   "title_cell": "Table of Contents",
   "title_sidebar": "Contents",
   "toc_cell": false,
   "toc_position": {
    "height": "566.767px",
    "left": "0px",
    "right": "900px",
    "top": "110.233px",
    "width": "212px"
   },
   "toc_section_display": "block",
   "toc_window_display": true
  },
  "varInspector": {
   "cols": {
    "lenName": 16,
    "lenType": 16,
    "lenVar": 40
   },
   "kernels_config": {
    "python": {
     "delete_cmd_postfix": "",
     "delete_cmd_prefix": "del ",
     "library": "var_list.py",
     "varRefreshCmd": "print(var_dic_list())"
    },
    "r": {
     "delete_cmd_postfix": ") ",
     "delete_cmd_prefix": "rm(",
     "library": "var_list.r",
     "varRefreshCmd": "cat(var_dic_list()) "
    }
   },
   "types_to_exclude": [
    "module",
    "function",
    "builtin_function_or_method",
    "instance",
    "_Feature"
   ],
   "window_display": false
  }
 },
 "nbformat": 4,
 "nbformat_minor": 4
}
